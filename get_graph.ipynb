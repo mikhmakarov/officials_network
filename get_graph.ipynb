{
 "cells": [
  {
   "cell_type": "code",
   "execution_count": 66,
   "metadata": {},
   "outputs": [],
   "source": [
    "import pandas as pd\n",
    "import os\n",
    "import numpy as np\n",
    "import matplotlib.pyplot as plt\n",
    "import seaborn as sns\n",
    "import scipy\n",
    "import itertools\n",
    "from collections import defaultdict"
   ]
  },
  {
   "cell_type": "code",
   "execution_count": 67,
   "metadata": {},
   "outputs": [],
   "source": [
    "%matplotlib inline\n",
    "plt.rcParams.update({'font.size': 18})\n",
    "sns.set_style('whitegrid')"
   ]
  },
  {
   "cell_type": "code",
   "execution_count": 68,
   "metadata": {},
   "outputs": [
    {
     "data": {
      "text/html": [
       "<div>\n",
       "<style scoped>\n",
       "    .dataframe tbody tr th:only-of-type {\n",
       "        vertical-align: middle;\n",
       "    }\n",
       "\n",
       "    .dataframe tbody tr th {\n",
       "        vertical-align: top;\n",
       "    }\n",
       "\n",
       "    .dataframe thead th {\n",
       "        text-align: right;\n",
       "    }\n",
       "</style>\n",
       "<table border=\"1\" class=\"dataframe\">\n",
       "  <thead>\n",
       "    <tr style=\"text-align: right;\">\n",
       "      <th></th>\n",
       "      <th>document_type</th>\n",
       "      <th>party</th>\n",
       "      <th>person_id</th>\n",
       "      <th>person_name</th>\n",
       "      <th>year</th>\n",
       "      <th>office_id</th>\n",
       "      <th>office_name</th>\n",
       "      <th>office_post</th>\n",
       "      <th>office_type_id</th>\n",
       "      <th>office_type_name</th>\n",
       "      <th>office_region_id</th>\n",
       "      <th>office_region_name</th>\n",
       "      <th>income_personal</th>\n",
       "      <th>income_relatives</th>\n",
       "    </tr>\n",
       "  </thead>\n",
       "  <tbody>\n",
       "    <tr>\n",
       "      <th>0</th>\n",
       "      <td>антикоррупционная декларация</td>\n",
       "      <td>кпрф</td>\n",
       "      <td>8</td>\n",
       "      <td>зюганов геннадий андреевич</td>\n",
       "      <td>2009</td>\n",
       "      <td>14</td>\n",
       "      <td>государственная дума</td>\n",
       "      <td>член комитета государственной думы</td>\n",
       "      <td>7</td>\n",
       "      <td>федеральный без региональной структуры</td>\n",
       "      <td>NaN</td>\n",
       "      <td>NaN</td>\n",
       "      <td>2075542.33</td>\n",
       "      <td>102279.19</td>\n",
       "    </tr>\n",
       "    <tr>\n",
       "      <th>1</th>\n",
       "      <td>антикоррупционная декларация</td>\n",
       "      <td>кпрф</td>\n",
       "      <td>8</td>\n",
       "      <td>зюганов геннадий андреевич</td>\n",
       "      <td>2010</td>\n",
       "      <td>14</td>\n",
       "      <td>государственная дума</td>\n",
       "      <td>член комитетa государственной думы</td>\n",
       "      <td>7</td>\n",
       "      <td>федеральный без региональной структуры</td>\n",
       "      <td>NaN</td>\n",
       "      <td>NaN</td>\n",
       "      <td>2127686.49</td>\n",
       "      <td>168601.94</td>\n",
       "    </tr>\n",
       "    <tr>\n",
       "      <th>2</th>\n",
       "      <td>антикоррупционная декларация</td>\n",
       "      <td>кпрф</td>\n",
       "      <td>8</td>\n",
       "      <td>зюганов геннадий андреевич</td>\n",
       "      <td>2011</td>\n",
       "      <td>14</td>\n",
       "      <td>государственная дума</td>\n",
       "      <td>NaN</td>\n",
       "      <td>7</td>\n",
       "      <td>федеральный без региональной структуры</td>\n",
       "      <td>NaN</td>\n",
       "      <td>NaN</td>\n",
       "      <td>2177566.64</td>\n",
       "      <td>137656.24</td>\n",
       "    </tr>\n",
       "    <tr>\n",
       "      <th>3</th>\n",
       "      <td>антикоррупционная декларация</td>\n",
       "      <td>кпрф</td>\n",
       "      <td>8</td>\n",
       "      <td>зюганов геннадий андреевич</td>\n",
       "      <td>2012</td>\n",
       "      <td>14</td>\n",
       "      <td>государственная дума</td>\n",
       "      <td>член комитета гд по науке и наукоемким техноло...</td>\n",
       "      <td>7</td>\n",
       "      <td>федеральный без региональной структуры</td>\n",
       "      <td>NaN</td>\n",
       "      <td>NaN</td>\n",
       "      <td>2458749.04</td>\n",
       "      <td>194266.38</td>\n",
       "    </tr>\n",
       "    <tr>\n",
       "      <th>4</th>\n",
       "      <td>антикоррупционная декларация</td>\n",
       "      <td>кпрф</td>\n",
       "      <td>8</td>\n",
       "      <td>зюганов геннадий андреевич</td>\n",
       "      <td>2013</td>\n",
       "      <td>14</td>\n",
       "      <td>государственная дума</td>\n",
       "      <td>член комитета государственной думы</td>\n",
       "      <td>7</td>\n",
       "      <td>федеральный без региональной структуры</td>\n",
       "      <td>NaN</td>\n",
       "      <td>NaN</td>\n",
       "      <td>3194615.67</td>\n",
       "      <td>198267.22</td>\n",
       "    </tr>\n",
       "  </tbody>\n",
       "</table>\n",
       "</div>"
      ],
      "text/plain": [
       "                  document_type party  person_id                 person_name  \\\n",
       "0  антикоррупционная декларация  кпрф          8  зюганов геннадий андреевич   \n",
       "1  антикоррупционная декларация  кпрф          8  зюганов геннадий андреевич   \n",
       "2  антикоррупционная декларация  кпрф          8  зюганов геннадий андреевич   \n",
       "3  антикоррупционная декларация  кпрф          8  зюганов геннадий андреевич   \n",
       "4  антикоррупционная декларация  кпрф          8  зюганов геннадий андреевич   \n",
       "\n",
       "   year  office_id           office_name  \\\n",
       "0  2009         14  государственная дума   \n",
       "1  2010         14  государственная дума   \n",
       "2  2011         14  государственная дума   \n",
       "3  2012         14  государственная дума   \n",
       "4  2013         14  государственная дума   \n",
       "\n",
       "                                         office_post  office_type_id  \\\n",
       "0                 член комитета государственной думы               7   \n",
       "1                 член комитетa государственной думы               7   \n",
       "2                                                NaN               7   \n",
       "3  член комитета гд по науке и наукоемким техноло...               7   \n",
       "4                 член комитета государственной думы               7   \n",
       "\n",
       "                         office_type_name  office_region_id  \\\n",
       "0  федеральный без региональной структуры               NaN   \n",
       "1  федеральный без региональной структуры               NaN   \n",
       "2  федеральный без региональной структуры               NaN   \n",
       "3  федеральный без региональной структуры               NaN   \n",
       "4  федеральный без региональной структуры               NaN   \n",
       "\n",
       "  office_region_name  income_personal  income_relatives  \n",
       "0                NaN       2075542.33         102279.19  \n",
       "1                NaN       2127686.49         168601.94  \n",
       "2                NaN       2177566.64         137656.24  \n",
       "3                NaN       2458749.04         194266.38  \n",
       "4                NaN       3194615.67         198267.22  "
      ]
     },
     "execution_count": 68,
     "metadata": {},
     "output_type": "execute_result"
    }
   ],
   "source": [
    "df = pd.read_csv('data/declarations_clean.csv')\n",
    "df.head()"
   ]
  },
  {
   "cell_type": "code",
   "execution_count": 69,
   "metadata": {},
   "outputs": [],
   "source": [
    "grouped_view = df.groupby(['person_id', 'person_name', 'year']).first()"
   ]
  },
  {
   "cell_type": "code",
   "execution_count": 70,
   "metadata": {},
   "outputs": [
    {
     "data": {
      "text/html": [
       "<div>\n",
       "<style scoped>\n",
       "    .dataframe tbody tr th:only-of-type {\n",
       "        vertical-align: middle;\n",
       "    }\n",
       "\n",
       "    .dataframe tbody tr th {\n",
       "        vertical-align: top;\n",
       "    }\n",
       "\n",
       "    .dataframe thead th {\n",
       "        text-align: right;\n",
       "    }\n",
       "</style>\n",
       "<table border=\"1\" class=\"dataframe\">\n",
       "  <thead>\n",
       "    <tr style=\"text-align: right;\">\n",
       "      <th></th>\n",
       "      <th>year</th>\n",
       "      <th>office_id</th>\n",
       "      <th>person_id</th>\n",
       "    </tr>\n",
       "  </thead>\n",
       "  <tbody>\n",
       "    <tr>\n",
       "      <th>0</th>\n",
       "      <td>2009</td>\n",
       "      <td>1</td>\n",
       "      <td>[9133, 9161]</td>\n",
       "    </tr>\n",
       "    <tr>\n",
       "      <th>1</th>\n",
       "      <td>2009</td>\n",
       "      <td>3</td>\n",
       "      <td>[679, 680, 681, 682, 7298, 7299, 7300, 7301, 7...</td>\n",
       "    </tr>\n",
       "    <tr>\n",
       "      <th>2</th>\n",
       "      <td>2009</td>\n",
       "      <td>4</td>\n",
       "      <td>[5350]</td>\n",
       "    </tr>\n",
       "    <tr>\n",
       "      <th>3</th>\n",
       "      <td>2009</td>\n",
       "      <td>5</td>\n",
       "      <td>[80, 299]</td>\n",
       "    </tr>\n",
       "    <tr>\n",
       "      <th>4</th>\n",
       "      <td>2009</td>\n",
       "      <td>7</td>\n",
       "      <td>[1882, 19701]</td>\n",
       "    </tr>\n",
       "  </tbody>\n",
       "</table>\n",
       "</div>"
      ],
      "text/plain": [
       "   year  office_id                                          person_id\n",
       "0  2009          1                                       [9133, 9161]\n",
       "1  2009          3  [679, 680, 681, 682, 7298, 7299, 7300, 7301, 7...\n",
       "2  2009          4                                             [5350]\n",
       "3  2009          5                                          [80, 299]\n",
       "4  2009          7                                      [1882, 19701]"
      ]
     },
     "execution_count": 70,
     "metadata": {},
     "output_type": "execute_result"
    }
   ],
   "source": [
    "common_offices = df.groupby(['year', 'office_id'])['person_id'].apply(list).reset_index()\n",
    "common_offices.head()"
   ]
  },
  {
   "cell_type": "code",
   "execution_count": 71,
   "metadata": {},
   "outputs": [],
   "source": [
    "# common_offices.to_csv('data/common_offices.csv', index=False)"
   ]
  },
  {
   "cell_type": "code",
   "execution_count": 72,
   "metadata": {
    "scrolled": false
   },
   "outputs": [
    {
     "data": {
      "text/plain": [
       "4437052"
      ]
     },
     "execution_count": 72,
     "metadata": {},
     "output_type": "execute_result"
    }
   ],
   "source": [
    "worked_together_dict = defaultdict(int)    \n",
    "for person_id_list in common_offices.person_id:\n",
    "    person_id_list = [int(x) for x in person_id_list]\n",
    "    for pair in itertools.combinations(person_id_list, 2):\n",
    "        worked_together_dict[pair] += 1\n",
    "    \n",
    "\n",
    "len(worked_together_dict)"
   ]
  },
  {
   "cell_type": "code",
   "execution_count": 73,
   "metadata": {},
   "outputs": [],
   "source": [
    "# assert worked_together_dict[(80, 299)] == 1"
   ]
  },
  {
   "cell_type": "code",
   "execution_count": 74,
   "metadata": {},
   "outputs": [
    {
     "name": "stdout",
     "output_type": "stream",
     "text": [
      "Unique people: 51672\n"
     ]
    }
   ],
   "source": [
    "# More or equal to the amount of persons\n",
    "# Less than the number of all possible pairs\n",
    "unique_persons_count = df['person_id'].unique().shape[0]\n",
    "print('Unique people:', unique_persons_count)\n",
    "assert unique_persons_count <= len(worked_together_dict)\n",
    "assert len(worked_together_dict) <= unique_persons_count*(unique_persons_count-1)/2 "
   ]
  },
  {
   "cell_type": "code",
   "execution_count": 75,
   "metadata": {},
   "outputs": [],
   "source": [
    "with open('data/graph.csv', 'w') as graph_file:\n",
    "    graph_file.write('person1,person2,times_worked_together\\n')\n",
    "    for pair in sorted(worked_together_dict):\n",
    "        graph_file.write('{},{},{}\\n'.format(pair[0], pair[1], worked_together_dict[pair]))"
   ]
  },
  {
   "cell_type": "code",
   "execution_count": 76,
   "metadata": {},
   "outputs": [
    {
     "name": "stdout",
     "output_type": "stream",
     "text": [
      "51143 graph nodes\n",
      "4437051 graph edges\n"
     ]
    }
   ],
   "source": [
    "import networkx as nx\n",
    "df_graph = pd.read_csv('data/graph.csv', header=1)\n",
    "graph = nx.Graph()\n",
    "for v1, v2, weight in df_graph.values:\n",
    "    graph.add_edge(v1, v2, weight=weight)\n",
    "    \n",
    "graph_nodes = graph.order() \n",
    "print(graph_nodes, 'graph nodes')\n",
    "print(graph.size(), 'graph edges')"
   ]
  },
  {
   "cell_type": "code",
   "execution_count": 78,
   "metadata": {},
   "outputs": [],
   "source": [
    "assert graph_nodes <= unique_persons_count"
   ]
  }
 ],
 "metadata": {
  "kernelspec": {
   "display_name": "Python 3",
   "language": "python",
   "name": "python3"
  },
  "language_info": {
   "codemirror_mode": {
    "name": "ipython",
    "version": 3
   },
   "file_extension": ".py",
   "mimetype": "text/x-python",
   "name": "python",
   "nbconvert_exporter": "python",
   "pygments_lexer": "ipython3",
   "version": "3.6.4"
  }
 },
 "nbformat": 4,
 "nbformat_minor": 2
}
