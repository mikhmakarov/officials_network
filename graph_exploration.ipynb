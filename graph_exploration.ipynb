{
  "cells": [
    {
      "cell_type": "code",
      "execution_count": 6,
      "metadata": {
        "collapsed": true,
        "pycharm": {
          "is_executing": false
        }
      },
      "outputs": [
        {
          "name": "stderr",
          "text": [
            "/home/boris/anaconda3/lib/python3.6/importlib/_bootstrap.py:219: RuntimeWarning: numpy.dtype size changed, may indicate binary incompatibility. Expected 96, got 88\n  return f(*args, **kwds)\n",
            "/home/boris/anaconda3/lib/python3.6/importlib/_bootstrap.py:219: RuntimeWarning: numpy.dtype size changed, may indicate binary incompatibility. Expected 96, got 88\n  return f(*args, **kwds)\n"
          ],
          "output_type": "stream"
        }
      ],
      "source": "import pandas as pd\nimport numpy as np\nimport networkx as nx\nimport itertools\nimport matplotlib.pyplot as plt\n%matplotlib inline"
    },
    {
      "cell_type": "code",
      "execution_count": 7,
      "outputs": [],
      "source": "df \u003d pd.read_csv(\u0027data/declarations.csv\u0027)\ncommon_offices \u003d pd.read_csv(\u0027data/common_offices.csv\u0027, converters\u003d{\"person_id\": eval})",
      "metadata": {
        "pycharm": {
          "metadata": false,
          "name": "#%%\n",
          "is_executing": false
        }
      }
    },
    {
      "cell_type": "code",
      "execution_count": 12,
      "outputs": [
        {
          "data": {
            "text/plain": "   person_id                 person_name  year  office_id  \\\n0          8  Зюганов Геннадий Андреевич  1998         14   \n1          8  Зюганов Геннадий Андреевич  1999        449   \n2          8  Зюганов Геннадий Андреевич  2006         14   \n3          8  Зюганов Геннадий Андреевич  2006        449   \n4          8  Зюганов Геннадий Андреевич  2009         14   \n\n                      office_name      income    savings  real_estate_amount  \\\n0            Государственная Дума   124154.00       0.00                   1   \n1  Президент Российской Федерации   506247.00       0.00                   3   \n2            Государственная Дума  1257784.00  141740.91                   1   \n3  Президент Российской Федерации  3590668.48  400490.32                   2   \n4            Государственная Дума  2177821.52       0.00                   3   \n\n   real_estate_squares  \n0                150.0  \n1                252.7  \n2                167.4  \n3                281.3  \n4                448.7  ",
            "text/html": "\u003cdiv\u003e\n\u003cstyle scoped\u003e\n    .dataframe tbody tr th:only-of-type {\n        vertical-align: middle;\n    }\n\n    .dataframe tbody tr th {\n        vertical-align: top;\n    }\n\n    .dataframe thead th {\n        text-align: right;\n    }\n\u003c/style\u003e\n\u003ctable border\u003d\"1\" class\u003d\"dataframe\"\u003e\n  \u003cthead\u003e\n    \u003ctr style\u003d\"text-align: right;\"\u003e\n      \u003cth\u003e\u003c/th\u003e\n      \u003cth\u003eperson_id\u003c/th\u003e\n      \u003cth\u003eperson_name\u003c/th\u003e\n      \u003cth\u003eyear\u003c/th\u003e\n      \u003cth\u003eoffice_id\u003c/th\u003e\n      \u003cth\u003eoffice_name\u003c/th\u003e\n      \u003cth\u003eincome\u003c/th\u003e\n      \u003cth\u003esavings\u003c/th\u003e\n      \u003cth\u003ereal_estate_amount\u003c/th\u003e\n      \u003cth\u003ereal_estate_squares\u003c/th\u003e\n    \u003c/tr\u003e\n  \u003c/thead\u003e\n  \u003ctbody\u003e\n    \u003ctr\u003e\n      \u003cth\u003e0\u003c/th\u003e\n      \u003ctd\u003e8\u003c/td\u003e\n      \u003ctd\u003eЗюганов Геннадий Андреевич\u003c/td\u003e\n      \u003ctd\u003e1998\u003c/td\u003e\n      \u003ctd\u003e14\u003c/td\u003e\n      \u003ctd\u003eГосударственная Дума\u003c/td\u003e\n      \u003ctd\u003e124154.00\u003c/td\u003e\n      \u003ctd\u003e0.00\u003c/td\u003e\n      \u003ctd\u003e1\u003c/td\u003e\n      \u003ctd\u003e150.0\u003c/td\u003e\n    \u003c/tr\u003e\n    \u003ctr\u003e\n      \u003cth\u003e1\u003c/th\u003e\n      \u003ctd\u003e8\u003c/td\u003e\n      \u003ctd\u003eЗюганов Геннадий Андреевич\u003c/td\u003e\n      \u003ctd\u003e1999\u003c/td\u003e\n      \u003ctd\u003e449\u003c/td\u003e\n      \u003ctd\u003eПрезидент Российской Федерации\u003c/td\u003e\n      \u003ctd\u003e506247.00\u003c/td\u003e\n      \u003ctd\u003e0.00\u003c/td\u003e\n      \u003ctd\u003e3\u003c/td\u003e\n      \u003ctd\u003e252.7\u003c/td\u003e\n    \u003c/tr\u003e\n    \u003ctr\u003e\n      \u003cth\u003e2\u003c/th\u003e\n      \u003ctd\u003e8\u003c/td\u003e\n      \u003ctd\u003eЗюганов Геннадий Андреевич\u003c/td\u003e\n      \u003ctd\u003e2006\u003c/td\u003e\n      \u003ctd\u003e14\u003c/td\u003e\n      \u003ctd\u003eГосударственная Дума\u003c/td\u003e\n      \u003ctd\u003e1257784.00\u003c/td\u003e\n      \u003ctd\u003e141740.91\u003c/td\u003e\n      \u003ctd\u003e1\u003c/td\u003e\n      \u003ctd\u003e167.4\u003c/td\u003e\n    \u003c/tr\u003e\n    \u003ctr\u003e\n      \u003cth\u003e3\u003c/th\u003e\n      \u003ctd\u003e8\u003c/td\u003e\n      \u003ctd\u003eЗюганов Геннадий Андреевич\u003c/td\u003e\n      \u003ctd\u003e2006\u003c/td\u003e\n      \u003ctd\u003e449\u003c/td\u003e\n      \u003ctd\u003eПрезидент Российской Федерации\u003c/td\u003e\n      \u003ctd\u003e3590668.48\u003c/td\u003e\n      \u003ctd\u003e400490.32\u003c/td\u003e\n      \u003ctd\u003e2\u003c/td\u003e\n      \u003ctd\u003e281.3\u003c/td\u003e\n    \u003c/tr\u003e\n    \u003ctr\u003e\n      \u003cth\u003e4\u003c/th\u003e\n      \u003ctd\u003e8\u003c/td\u003e\n      \u003ctd\u003eЗюганов Геннадий Андреевич\u003c/td\u003e\n      \u003ctd\u003e2009\u003c/td\u003e\n      \u003ctd\u003e14\u003c/td\u003e\n      \u003ctd\u003eГосударственная Дума\u003c/td\u003e\n      \u003ctd\u003e2177821.52\u003c/td\u003e\n      \u003ctd\u003e0.00\u003c/td\u003e\n      \u003ctd\u003e3\u003c/td\u003e\n      \u003ctd\u003e448.7\u003c/td\u003e\n    \u003c/tr\u003e\n  \u003c/tbody\u003e\n\u003c/table\u003e\n\u003c/div\u003e"
          },
          "metadata": {},
          "output_type": "execute_result",
          "execution_count": 12
        }
      ],
      "source": "df.head()",
      "metadata": {
        "pycharm": {
          "metadata": false,
          "name": "#%%\n",
          "is_executing": false
        }
      }
    },
    {
      "cell_type": "code",
      "execution_count": 8,
      "outputs": [
        {
          "data": {
            "text/plain": "   office_id                                        office_name\n0         14                               Государственная Дума\n1        449                     Президент Российской Федерации\n2        118  Государственное  собрание – Курултай Республик...\n3        267           Законодательное собрание Алтайского края\n4        211                       Губернатор Иркутской области",
            "text/html": "\u003cdiv\u003e\n\u003cstyle scoped\u003e\n    .dataframe tbody tr th:only-of-type {\n        vertical-align: middle;\n    }\n\n    .dataframe tbody tr th {\n        vertical-align: top;\n    }\n\n    .dataframe thead th {\n        text-align: right;\n    }\n\u003c/style\u003e\n\u003ctable border\u003d\"1\" class\u003d\"dataframe\"\u003e\n  \u003cthead\u003e\n    \u003ctr style\u003d\"text-align: right;\"\u003e\n      \u003cth\u003e\u003c/th\u003e\n      \u003cth\u003eoffice_id\u003c/th\u003e\n      \u003cth\u003eoffice_name\u003c/th\u003e\n    \u003c/tr\u003e\n  \u003c/thead\u003e\n  \u003ctbody\u003e\n    \u003ctr\u003e\n      \u003cth\u003e0\u003c/th\u003e\n      \u003ctd\u003e14\u003c/td\u003e\n      \u003ctd\u003eГосударственная Дума\u003c/td\u003e\n    \u003c/tr\u003e\n    \u003ctr\u003e\n      \u003cth\u003e1\u003c/th\u003e\n      \u003ctd\u003e449\u003c/td\u003e\n      \u003ctd\u003eПрезидент Российской Федерации\u003c/td\u003e\n    \u003c/tr\u003e\n    \u003ctr\u003e\n      \u003cth\u003e2\u003c/th\u003e\n      \u003ctd\u003e118\u003c/td\u003e\n      \u003ctd\u003eГосударственное  собрание – Курултай Республик...\u003c/td\u003e\n    \u003c/tr\u003e\n    \u003ctr\u003e\n      \u003cth\u003e3\u003c/th\u003e\n      \u003ctd\u003e267\u003c/td\u003e\n      \u003ctd\u003eЗаконодательное собрание Алтайского края\u003c/td\u003e\n    \u003c/tr\u003e\n    \u003ctr\u003e\n      \u003cth\u003e4\u003c/th\u003e\n      \u003ctd\u003e211\u003c/td\u003e\n      \u003ctd\u003eГубернатор Иркутской области\u003c/td\u003e\n    \u003c/tr\u003e\n  \u003c/tbody\u003e\n\u003c/table\u003e\n\u003c/div\u003e"
          },
          "metadata": {},
          "output_type": "execute_result",
          "execution_count": 8
        }
      ],
      "source": "office_names \u003d df[[\u0027office_id\u0027, \u0027office_name\u0027]].drop_duplicates().reset_index(drop\u003dTrue)\noffice_names.head()",
      "metadata": {
        "pycharm": {
          "metadata": false,
          "name": "#%%\n",
          "is_executing": false
        }
      }
    },
    {
      "cell_type": "code",
      "execution_count": 9,
      "outputs": [
        {
          "data": {
            "text/plain": "   person_id                  person_name\n0          8   Зюганов Геннадий Андреевич\n1          9       Алферов Жорес Иванович\n2         10   Андреев Андрей Анатольевич\n3         11  Апарина Алевтина Викторовна\n4         12     Афонин Юрий Вячеславович",
            "text/html": "\u003cdiv\u003e\n\u003cstyle scoped\u003e\n    .dataframe tbody tr th:only-of-type {\n        vertical-align: middle;\n    }\n\n    .dataframe tbody tr th {\n        vertical-align: top;\n    }\n\n    .dataframe thead th {\n        text-align: right;\n    }\n\u003c/style\u003e\n\u003ctable border\u003d\"1\" class\u003d\"dataframe\"\u003e\n  \u003cthead\u003e\n    \u003ctr style\u003d\"text-align: right;\"\u003e\n      \u003cth\u003e\u003c/th\u003e\n      \u003cth\u003eperson_id\u003c/th\u003e\n      \u003cth\u003eperson_name\u003c/th\u003e\n    \u003c/tr\u003e\n  \u003c/thead\u003e\n  \u003ctbody\u003e\n    \u003ctr\u003e\n      \u003cth\u003e0\u003c/th\u003e\n      \u003ctd\u003e8\u003c/td\u003e\n      \u003ctd\u003eЗюганов Геннадий Андреевич\u003c/td\u003e\n    \u003c/tr\u003e\n    \u003ctr\u003e\n      \u003cth\u003e1\u003c/th\u003e\n      \u003ctd\u003e9\u003c/td\u003e\n      \u003ctd\u003eАлферов Жорес Иванович\u003c/td\u003e\n    \u003c/tr\u003e\n    \u003ctr\u003e\n      \u003cth\u003e2\u003c/th\u003e\n      \u003ctd\u003e10\u003c/td\u003e\n      \u003ctd\u003eАндреев Андрей Анатольевич\u003c/td\u003e\n    \u003c/tr\u003e\n    \u003ctr\u003e\n      \u003cth\u003e3\u003c/th\u003e\n      \u003ctd\u003e11\u003c/td\u003e\n      \u003ctd\u003eАпарина Алевтина Викторовна\u003c/td\u003e\n    \u003c/tr\u003e\n    \u003ctr\u003e\n      \u003cth\u003e4\u003c/th\u003e\n      \u003ctd\u003e12\u003c/td\u003e\n      \u003ctd\u003eАфонин Юрий Вячеславович\u003c/td\u003e\n    \u003c/tr\u003e\n  \u003c/tbody\u003e\n\u003c/table\u003e\n\u003c/div\u003e"
          },
          "metadata": {},
          "output_type": "execute_result",
          "execution_count": 9
        }
      ],
      "source": "person_names \u003d df[[\u0027person_id\u0027, \u0027person_name\u0027]].drop_duplicates().reset_index(drop\u003dTrue)\nperson_names.head()",
      "metadata": {
        "pycharm": {
          "metadata": false,
          "name": "#%%\n",
          "is_executing": false
        }
      }
    },
    {
      "cell_type": "code",
      "execution_count": 10,
      "outputs": [
        {
          "data": {
            "text/plain": "   year  person_id  office_id                     office_name\n0  1998          8         14            Государственная Дума\n1  1999          8        449  Президент Российской Федерации\n2  2006          8         14            Государственная Дума\n3  2006          8        449  Президент Российской Федерации\n4  2009          8         14            Государственная Дума",
            "text/html": "\u003cdiv\u003e\n\u003cstyle scoped\u003e\n    .dataframe tbody tr th:only-of-type {\n        vertical-align: middle;\n    }\n\n    .dataframe tbody tr th {\n        vertical-align: top;\n    }\n\n    .dataframe thead th {\n        text-align: right;\n    }\n\u003c/style\u003e\n\u003ctable border\u003d\"1\" class\u003d\"dataframe\"\u003e\n  \u003cthead\u003e\n    \u003ctr style\u003d\"text-align: right;\"\u003e\n      \u003cth\u003e\u003c/th\u003e\n      \u003cth\u003eyear\u003c/th\u003e\n      \u003cth\u003eperson_id\u003c/th\u003e\n      \u003cth\u003eoffice_id\u003c/th\u003e\n      \u003cth\u003eoffice_name\u003c/th\u003e\n    \u003c/tr\u003e\n  \u003c/thead\u003e\n  \u003ctbody\u003e\n    \u003ctr\u003e\n      \u003cth\u003e0\u003c/th\u003e\n      \u003ctd\u003e1998\u003c/td\u003e\n      \u003ctd\u003e8\u003c/td\u003e\n      \u003ctd\u003e14\u003c/td\u003e\n      \u003ctd\u003eГосударственная Дума\u003c/td\u003e\n    \u003c/tr\u003e\n    \u003ctr\u003e\n      \u003cth\u003e1\u003c/th\u003e\n      \u003ctd\u003e1999\u003c/td\u003e\n      \u003ctd\u003e8\u003c/td\u003e\n      \u003ctd\u003e449\u003c/td\u003e\n      \u003ctd\u003eПрезидент Российской Федерации\u003c/td\u003e\n    \u003c/tr\u003e\n    \u003ctr\u003e\n      \u003cth\u003e2\u003c/th\u003e\n      \u003ctd\u003e2006\u003c/td\u003e\n      \u003ctd\u003e8\u003c/td\u003e\n      \u003ctd\u003e14\u003c/td\u003e\n      \u003ctd\u003eГосударственная Дума\u003c/td\u003e\n    \u003c/tr\u003e\n    \u003ctr\u003e\n      \u003cth\u003e3\u003c/th\u003e\n      \u003ctd\u003e2006\u003c/td\u003e\n      \u003ctd\u003e8\u003c/td\u003e\n      \u003ctd\u003e449\u003c/td\u003e\n      \u003ctd\u003eПрезидент Российской Федерации\u003c/td\u003e\n    \u003c/tr\u003e\n    \u003ctr\u003e\n      \u003cth\u003e4\u003c/th\u003e\n      \u003ctd\u003e2009\u003c/td\u003e\n      \u003ctd\u003e8\u003c/td\u003e\n      \u003ctd\u003e14\u003c/td\u003e\n      \u003ctd\u003eГосударственная Дума\u003c/td\u003e\n    \u003c/tr\u003e\n  \u003c/tbody\u003e\n\u003c/table\u003e\n\u003c/div\u003e"
          },
          "metadata": {},
          "output_type": "execute_result",
          "execution_count": 10
        }
      ],
      "source": "person_offices \u003d df[[\u0027year\u0027, \u0027person_id\u0027, \u0027office_id\u0027, \u0027office_name\u0027]].drop_duplicates().reset_index(drop\u003dTrue)\nperson_offices.head()",
      "metadata": {
        "pycharm": {
          "metadata": false,
          "name": "#%%\n",
          "is_executing": false
        }
      }
    },
    {
      "cell_type": "code",
      "execution_count": 11,
      "outputs": [
        {
          "data": {
            "text/plain": "2017    1730\n2014    1630\n2015    1507\n2016    1454\n2013     648\n2012     558\n2011     398\n2010     300\n2009     226\n2018      81\n2008      30\n2006       2\n1999       1\n1998       1\nName: year, dtype: int64"
          },
          "metadata": {},
          "output_type": "execute_result",
          "execution_count": 11
        }
      ],
      "source": "common_offices.year.value_counts()",
      "metadata": {
        "pycharm": {
          "metadata": false,
          "name": "#%%\n",
          "is_executing": false
        }
      }
    },
    {
      "cell_type": "code",
      "execution_count": 8,
      "outputs": [
        {
          "data": {
            "text/plain": "    year  office_id                                          person_id\n34  2009          1                                       [9133, 9161]\n35  2009          3  [679, 680, 681, 682, 7298, 7299, 7300, 7301, 7...\n36  2009          4                                             [5350]\n37  2009          5                                          [80, 299]\n38  2009          7                                      [1882, 19701]",
            "text/html": "\u003cdiv\u003e\n\u003cstyle scoped\u003e\n    .dataframe tbody tr th:only-of-type {\n        vertical-align: middle;\n    }\n\n    .dataframe tbody tr th {\n        vertical-align: top;\n    }\n\n    .dataframe thead th {\n        text-align: right;\n    }\n\u003c/style\u003e\n\u003ctable border\u003d\"1\" class\u003d\"dataframe\"\u003e\n  \u003cthead\u003e\n    \u003ctr style\u003d\"text-align: right;\"\u003e\n      \u003cth\u003e\u003c/th\u003e\n      \u003cth\u003eyear\u003c/th\u003e\n      \u003cth\u003eoffice_id\u003c/th\u003e\n      \u003cth\u003eperson_id\u003c/th\u003e\n    \u003c/tr\u003e\n  \u003c/thead\u003e\n  \u003ctbody\u003e\n    \u003ctr\u003e\n      \u003cth\u003e34\u003c/th\u003e\n      \u003ctd\u003e2009\u003c/td\u003e\n      \u003ctd\u003e1\u003c/td\u003e\n      \u003ctd\u003e[9133, 9161]\u003c/td\u003e\n    \u003c/tr\u003e\n    \u003ctr\u003e\n      \u003cth\u003e35\u003c/th\u003e\n      \u003ctd\u003e2009\u003c/td\u003e\n      \u003ctd\u003e3\u003c/td\u003e\n      \u003ctd\u003e[679, 680, 681, 682, 7298, 7299, 7300, 7301, 7...\u003c/td\u003e\n    \u003c/tr\u003e\n    \u003ctr\u003e\n      \u003cth\u003e36\u003c/th\u003e\n      \u003ctd\u003e2009\u003c/td\u003e\n      \u003ctd\u003e4\u003c/td\u003e\n      \u003ctd\u003e[5350]\u003c/td\u003e\n    \u003c/tr\u003e\n    \u003ctr\u003e\n      \u003cth\u003e37\u003c/th\u003e\n      \u003ctd\u003e2009\u003c/td\u003e\n      \u003ctd\u003e5\u003c/td\u003e\n      \u003ctd\u003e[80, 299]\u003c/td\u003e\n    \u003c/tr\u003e\n    \u003ctr\u003e\n      \u003cth\u003e38\u003c/th\u003e\n      \u003ctd\u003e2009\u003c/td\u003e\n      \u003ctd\u003e7\u003c/td\u003e\n      \u003ctd\u003e[1882, 19701]\u003c/td\u003e\n    \u003c/tr\u003e\n  \u003c/tbody\u003e\n\u003c/table\u003e\n\u003c/div\u003e"
          },
          "metadata": {},
          "output_type": "execute_result",
          "execution_count": 8
        }
      ],
      "source": "YEAR \u003d 2009\n\nyear_offices \u003d common_offices[common_offices.year \u003d\u003d YEAR]\nyear_offices.head()",
      "metadata": {
        "pycharm": {
          "metadata": false,
          "name": "#%%\n",
          "is_executing": false
        }
      }
    },
    {
      "cell_type": "code",
      "execution_count": 102,
      "outputs": [],
      "source": "graph \u003d nx.Graph()\n\nedge_properties \u003d year_offices[[\u0027year\u0027, \u0027office_id\u0027]]\nedge_lists \u003d year_offices.person_id\nfor year, office_id, nodes_to_connect in year_offices.values[:8]:\n    combs \u003d list(itertools.permutations(nodes_to_connect,2))\n    graph.add_edges_from(combs)",
      "metadata": {
        "pycharm": {
          "metadata": false,
          "name": "#%%\n",
          "is_executing": false
        }
      }
    },
    {
      "cell_type": "code",
      "execution_count": 103,
      "outputs": [
        {
          "name": "stdout",
          "text": [
            "263\n26292\n"
          ],
          "output_type": "stream"
        }
      ],
      "source": "print(graph.order())\nprint(graph.size())",
      "metadata": {
        "pycharm": {
          "metadata": false,
          "name": "#%%\n",
          "is_executing": false
        }
      }
    },
    {
      "cell_type": "code",
      "execution_count": 99,
      "outputs": [
        {
          "data": {
            "text/plain": "\u003cFigure size 720x504 with 1 Axes\u003e",
            "image/png": "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\u003d\u003d\n"
          },
          "metadata": {},
          "output_type": "display_data"
        }
      ],
      "source": "plt.figure(figsize\u003d(10, 7))\nnx.draw(graph)    \nplt.show()",
      "metadata": {
        "pycharm": {
          "metadata": false,
          "name": "#%%\n",
          "is_executing": false
        }
      }
    },
    {
      "cell_type": "code",
      "execution_count": null,
      "outputs": [],
      "source": "centrality \u003d nx.eigenvector_centrality(graph)\ncentrality_series \u003d pd.Series(centrality)\nprint(centrality_series.describe())",
      "metadata": {
        "pycharm": {
          "metadata": false,
          "name": "#%%\n"
        }
      }
    },
    {
      "cell_type": "code",
      "execution_count": 57,
      "outputs": [
        {
          "data": {
            "text/plain": "      person_id                     person_name\n643         679       Чуров Владимир Евгеньевич\n644         680        Ивлев Леонид Григорьевич\n645         681  Вавилов Станислав Владимирович\n646         682       Конкин Николай Евгеньевич\n6999       7298         Борисов Игорь Борисович\n7000       7299         Волков Василий Петрович\n7001       7300       Гришина Майя Владимировна\n7002       7301   Демьянченко Людмила Федоровна\n7003       7302        Дубровина Елена Павловна\n7004       7303     Ермакова Эльвира Леонидовна",
            "text/html": "\u003cdiv\u003e\n\u003cstyle scoped\u003e\n    .dataframe tbody tr th:only-of-type {\n        vertical-align: middle;\n    }\n\n    .dataframe tbody tr th {\n        vertical-align: top;\n    }\n\n    .dataframe thead th {\n        text-align: right;\n    }\n\u003c/style\u003e\n\u003ctable border\u003d\"1\" class\u003d\"dataframe\"\u003e\n  \u003cthead\u003e\n    \u003ctr style\u003d\"text-align: right;\"\u003e\n      \u003cth\u003e\u003c/th\u003e\n      \u003cth\u003eperson_id\u003c/th\u003e\n      \u003cth\u003eperson_name\u003c/th\u003e\n    \u003c/tr\u003e\n  \u003c/thead\u003e\n  \u003ctbody\u003e\n    \u003ctr\u003e\n      \u003cth\u003e643\u003c/th\u003e\n      \u003ctd\u003e679\u003c/td\u003e\n      \u003ctd\u003eЧуров Владимир Евгеньевич\u003c/td\u003e\n    \u003c/tr\u003e\n    \u003ctr\u003e\n      \u003cth\u003e644\u003c/th\u003e\n      \u003ctd\u003e680\u003c/td\u003e\n      \u003ctd\u003eИвлев Леонид Григорьевич\u003c/td\u003e\n    \u003c/tr\u003e\n    \u003ctr\u003e\n      \u003cth\u003e645\u003c/th\u003e\n      \u003ctd\u003e681\u003c/td\u003e\n      \u003ctd\u003eВавилов Станислав Владимирович\u003c/td\u003e\n    \u003c/tr\u003e\n    \u003ctr\u003e\n      \u003cth\u003e646\u003c/th\u003e\n      \u003ctd\u003e682\u003c/td\u003e\n      \u003ctd\u003eКонкин Николай Евгеньевич\u003c/td\u003e\n    \u003c/tr\u003e\n    \u003ctr\u003e\n      \u003cth\u003e6999\u003c/th\u003e\n      \u003ctd\u003e7298\u003c/td\u003e\n      \u003ctd\u003eБорисов Игорь Борисович\u003c/td\u003e\n    \u003c/tr\u003e\n    \u003ctr\u003e\n      \u003cth\u003e7000\u003c/th\u003e\n      \u003ctd\u003e7299\u003c/td\u003e\n      \u003ctd\u003eВолков Василий Петрович\u003c/td\u003e\n    \u003c/tr\u003e\n    \u003ctr\u003e\n      \u003cth\u003e7001\u003c/th\u003e\n      \u003ctd\u003e7300\u003c/td\u003e\n      \u003ctd\u003eГришина Майя Владимировна\u003c/td\u003e\n    \u003c/tr\u003e\n    \u003ctr\u003e\n      \u003cth\u003e7002\u003c/th\u003e\n      \u003ctd\u003e7301\u003c/td\u003e\n      \u003ctd\u003eДемьянченко Людмила Федоровна\u003c/td\u003e\n    \u003c/tr\u003e\n    \u003ctr\u003e\n      \u003cth\u003e7003\u003c/th\u003e\n      \u003ctd\u003e7302\u003c/td\u003e\n      \u003ctd\u003eДубровина Елена Павловна\u003c/td\u003e\n    \u003c/tr\u003e\n    \u003ctr\u003e\n      \u003cth\u003e7004\u003c/th\u003e\n      \u003ctd\u003e7303\u003c/td\u003e\n      \u003ctd\u003eЕрмакова Эльвира Леонидовна\u003c/td\u003e\n    \u003c/tr\u003e\n  \u003c/tbody\u003e\n\u003c/table\u003e\n\u003c/div\u003e"
          },
          "metadata": {},
          "output_type": "execute_result",
          "execution_count": 57
        }
      ],
      "source": "top_centrality_nodes \u003d centrality_series.nlargest(10)\ntop_centrality_ids \u003d np.array(top_centrality_nodes.index)\ntop_centrality_names \u003d person_names[person_names.person_id.isin(top_centrality_ids)]\ntop_centrality_names",
      "metadata": {
        "pycharm": {
          "metadata": false,
          "name": "#%%\n",
          "is_executing": false
        }
      }
    },
    {
      "cell_type": "code",
      "execution_count": 58,
      "outputs": [
        {
          "data": {
            "text/plain": "   person_id                     person_name  office_id  \\\n0        679       Чуров Владимир Евгеньевич          3   \n1        680        Ивлев Леонид Григорьевич          3   \n2        681  Вавилов Станислав Владимирович          3   \n3        682       Конкин Николай Евгеньевич          3   \n4       7298         Борисов Игорь Борисович          3   \n5       7299         Волков Василий Петрович          3   \n6       7300       Гришина Майя Владимировна          3   \n7       7301   Демьянченко Людмила Федоровна          3   \n8       7302        Дубровина Елена Павловна          3   \n9       7303     Ермакова Эльвира Леонидовна          3   \n\n                          office_name  \n0  Центральная избирательная комиссия  \n1  Центральная избирательная комиссия  \n2  Центральная избирательная комиссия  \n3  Центральная избирательная комиссия  \n4  Центральная избирательная комиссия  \n5  Центральная избирательная комиссия  \n6  Центральная избирательная комиссия  \n7  Центральная избирательная комиссия  \n8  Центральная избирательная комиссия  \n9  Центральная избирательная комиссия  ",
            "text/html": "\u003cdiv\u003e\n\u003cstyle scoped\u003e\n    .dataframe tbody tr th:only-of-type {\n        vertical-align: middle;\n    }\n\n    .dataframe tbody tr th {\n        vertical-align: top;\n    }\n\n    .dataframe thead th {\n        text-align: right;\n    }\n\u003c/style\u003e\n\u003ctable border\u003d\"1\" class\u003d\"dataframe\"\u003e\n  \u003cthead\u003e\n    \u003ctr style\u003d\"text-align: right;\"\u003e\n      \u003cth\u003e\u003c/th\u003e\n      \u003cth\u003eperson_id\u003c/th\u003e\n      \u003cth\u003eperson_name\u003c/th\u003e\n      \u003cth\u003eoffice_id\u003c/th\u003e\n      \u003cth\u003eoffice_name\u003c/th\u003e\n    \u003c/tr\u003e\n  \u003c/thead\u003e\n  \u003ctbody\u003e\n    \u003ctr\u003e\n      \u003cth\u003e0\u003c/th\u003e\n      \u003ctd\u003e679\u003c/td\u003e\n      \u003ctd\u003eЧуров Владимир Евгеньевич\u003c/td\u003e\n      \u003ctd\u003e3\u003c/td\u003e\n      \u003ctd\u003eЦентральная избирательная комиссия\u003c/td\u003e\n    \u003c/tr\u003e\n    \u003ctr\u003e\n      \u003cth\u003e1\u003c/th\u003e\n      \u003ctd\u003e680\u003c/td\u003e\n      \u003ctd\u003eИвлев Леонид Григорьевич\u003c/td\u003e\n      \u003ctd\u003e3\u003c/td\u003e\n      \u003ctd\u003eЦентральная избирательная комиссия\u003c/td\u003e\n    \u003c/tr\u003e\n    \u003ctr\u003e\n      \u003cth\u003e2\u003c/th\u003e\n      \u003ctd\u003e681\u003c/td\u003e\n      \u003ctd\u003eВавилов Станислав Владимирович\u003c/td\u003e\n      \u003ctd\u003e3\u003c/td\u003e\n      \u003ctd\u003eЦентральная избирательная комиссия\u003c/td\u003e\n    \u003c/tr\u003e\n    \u003ctr\u003e\n      \u003cth\u003e3\u003c/th\u003e\n      \u003ctd\u003e682\u003c/td\u003e\n      \u003ctd\u003eКонкин Николай Евгеньевич\u003c/td\u003e\n      \u003ctd\u003e3\u003c/td\u003e\n      \u003ctd\u003eЦентральная избирательная комиссия\u003c/td\u003e\n    \u003c/tr\u003e\n    \u003ctr\u003e\n      \u003cth\u003e4\u003c/th\u003e\n      \u003ctd\u003e7298\u003c/td\u003e\n      \u003ctd\u003eБорисов Игорь Борисович\u003c/td\u003e\n      \u003ctd\u003e3\u003c/td\u003e\n      \u003ctd\u003eЦентральная избирательная комиссия\u003c/td\u003e\n    \u003c/tr\u003e\n    \u003ctr\u003e\n      \u003cth\u003e5\u003c/th\u003e\n      \u003ctd\u003e7299\u003c/td\u003e\n      \u003ctd\u003eВолков Василий Петрович\u003c/td\u003e\n      \u003ctd\u003e3\u003c/td\u003e\n      \u003ctd\u003eЦентральная избирательная комиссия\u003c/td\u003e\n    \u003c/tr\u003e\n    \u003ctr\u003e\n      \u003cth\u003e6\u003c/th\u003e\n      \u003ctd\u003e7300\u003c/td\u003e\n      \u003ctd\u003eГришина Майя Владимировна\u003c/td\u003e\n      \u003ctd\u003e3\u003c/td\u003e\n      \u003ctd\u003eЦентральная избирательная комиссия\u003c/td\u003e\n    \u003c/tr\u003e\n    \u003ctr\u003e\n      \u003cth\u003e7\u003c/th\u003e\n      \u003ctd\u003e7301\u003c/td\u003e\n      \u003ctd\u003eДемьянченко Людмила Федоровна\u003c/td\u003e\n      \u003ctd\u003e3\u003c/td\u003e\n      \u003ctd\u003eЦентральная избирательная комиссия\u003c/td\u003e\n    \u003c/tr\u003e\n    \u003ctr\u003e\n      \u003cth\u003e8\u003c/th\u003e\n      \u003ctd\u003e7302\u003c/td\u003e\n      \u003ctd\u003eДубровина Елена Павловна\u003c/td\u003e\n      \u003ctd\u003e3\u003c/td\u003e\n      \u003ctd\u003eЦентральная избирательная комиссия\u003c/td\u003e\n    \u003c/tr\u003e\n    \u003ctr\u003e\n      \u003cth\u003e9\u003c/th\u003e\n      \u003ctd\u003e7303\u003c/td\u003e\n      \u003ctd\u003eЕрмакова Эльвира Леонидовна\u003c/td\u003e\n      \u003ctd\u003e3\u003c/td\u003e\n      \u003ctd\u003eЦентральная избирательная комиссия\u003c/td\u003e\n    \u003c/tr\u003e\n  \u003c/tbody\u003e\n\u003c/table\u003e\n\u003c/div\u003e"
          },
          "metadata": {},
          "output_type": "execute_result",
          "execution_count": 58
        }
      ],
      "source": "top_centrality_names.merge(person_offices[person_offices.year \u003d\u003d YEAR], how\u003d\u0027left\u0027, on\u003d\u0027person_id\u0027).drop([\u0027year\u0027], axis\u003d1)\ndef draw_centralities(graph, measures, pos\u003dNone, k_mult\u003d1.5, size_mult\u003d5000):    \n    \n    plt.axis(\u0027off\u0027)\n    pos \u003d pos or nx.spring_layout(graph, k\u003dk_mult/np.sqrt(graph.order()))\n    nx.draw_networkx(graph,\n                     pos\u003dpos,\n                     #node_size \u003d [d*size_mult for k, d in measures.items()],\n                     #node_color\u003dmeasures.values(),\n                     font_size\u003d14,\n                     cmap\u003dplt.cm.Reds,\n                     with_labels\u003dFalse,\n                     edge_color\u003d\u0027grey\u0027,\n                     alpha\u003d0.8)\n    \n    \ndef get_top_subgraph(graph, measures, quantile\u003d0.5):\n    dcs \u003d pd.Series(measures)\n    mask \u003d dcs \u003e dcs.quantile(quantile)\n    nodes \u003d pd.Series(graph.nodes())\n    nodes.index \u003d mask.index\n    subgraph_nodes \u003d nodes.loc[mask]\n    subgraph_dcs \u003d dcs.loc[mask]\n    subgraph_top \u003d nx.subgraph(graph, subgraph_nodes)\n    \n    subgraph_measures \u003d {k:v for k,v in measures.items() if k in subgraph_nodes}\n    return subgraph_top, subgraph_measures\n\nsubgraph, subgraph_centralities \u003d get_top_subgraph(graph, centrality_series,\n                                                   quantile\u003d0.1)\nplt.figure(figsize\u003d(10, 7))\npos \u003d nx.spring_layout(subgraph)\nnx.draw(subgraph)\nplt.show()",
      "metadata": {
        "pycharm": {
          "metadata": false,
          "name": "#%%\n",
          "is_executing": false
        }
      }
    },
    {
      "cell_type": "code",
      "execution_count": 1,
      "outputs": [
        {
          "traceback": [
            "\u001b[0;31m---------------------------------------------------------------------------\u001b[0m",
            "\u001b[0;31mNameError\u001b[0m                                 Traceback (most recent call last)",
            "\u001b[0;32m\u003cipython-input-1-8dbd5905ec4f\u003e\u001b[0m in \u001b[0;36m\u003cmodule\u003e\u001b[0;34m()\u001b[0m\n\u001b[0;32m----\u003e 1\u001b[0;31m \u001b[0mjoined\u001b[0m \u001b[0;34m\u003d\u001b[0m \u001b[0mdf\u001b[0m\u001b[0;34m[\u001b[0m\u001b[0;34m[\u001b[0m\u001b[0;34m\u0027year\u0027\u001b[0m\u001b[0;34m,\u001b[0m \u001b[0;34m\u0027person_id\u0027\u001b[0m\u001b[0;34m,\u001b[0m \u001b[0;34m\u0027office_id\u0027\u001b[0m\u001b[0;34m]\u001b[0m\u001b[0;34m]\u001b[0m\u001b[0;34m.\u001b[0m\u001b[0mmerge\u001b[0m\u001b[0;34m(\u001b[0m\u001b[0mdf\u001b[0m\u001b[0;34m[\u001b[0m\u001b[0;34m[\u001b[0m\u001b[0;34m\u0027year\u0027\u001b[0m\u001b[0;34m,\u001b[0m \u001b[0;34m\u0027person_id\u0027\u001b[0m\u001b[0;34m,\u001b[0m \u001b[0;34m\u0027office_id\u0027\u001b[0m\u001b[0;34m]\u001b[0m\u001b[0;34m]\u001b[0m\u001b[0;34m,\u001b[0m \u001b[0mon\u001b[0m\u001b[0;34m\u003d\u001b[0m\u001b[0;34m[\u001b[0m\u001b[0;34m\u0027office_id\u0027\u001b[0m\u001b[0;34m,\u001b[0m \u001b[0;34m\u0027year\u0027\u001b[0m\u001b[0;34m]\u001b[0m\u001b[0;34m,\u001b[0m \u001b[0mhow\u001b[0m\u001b[0;34m\u003d\u001b[0m\u001b[0;34m\u0027inner\u0027\u001b[0m\u001b[0;34m)\u001b[0m\u001b[0;34m\u001b[0m\u001b[0m\n\u001b[0m",
            "\u001b[0;31mNameError\u001b[0m: name \u0027df\u0027 is not defined"
          ],
          "ename": "NameError",
          "evalue": "name \u0027df\u0027 is not defined",
          "output_type": "error"
        }
      ],
      "source": "joined \u003d df[[\u0027year\u0027, \u0027person_id\u0027, \u0027office_id\u0027]].merge(df[[\u0027year\u0027, \u0027person_id\u0027, \u0027office_id\u0027]], on\u003d[\u0027office_id\u0027, \u0027year\u0027], how\u003d\u0027inner\u0027)",
      "metadata": {
        "pycharm": {
          "metadata": false,
          "name": "#%%\n",
          "is_executing": false
        }
      }
    },
    {
      "cell_type": "code",
      "execution_count": 1,
      "outputs": [
        {
          "traceback": [
            "\u001b[0;31m---------------------------------------------------------------------------\u001b[0m",
            "\u001b[0;31mNameError\u001b[0m                                 Traceback (most recent call last)",
            "\u001b[0;32m\u003cipython-input-1-7b16c82daa10\u003e\u001b[0m in \u001b[0;36m\u003cmodule\u003e\u001b[0;34m()\u001b[0m\n\u001b[1;32m      1\u001b[0m \u001b[0mperson_dict\u001b[0m \u001b[0;34m\u003d\u001b[0m \u001b[0;34m{\u001b[0m\u001b[0;34m}\u001b[0m\u001b[0;34m\u001b[0m\u001b[0m\n\u001b[0;32m----\u003e 2\u001b[0;31m \u001b[0;32mfor\u001b[0m \u001b[0myear\u001b[0m\u001b[0;34m,\u001b[0m \u001b[0moffice\u001b[0m\u001b[0;34m,\u001b[0m \u001b[0mpersons\u001b[0m \u001b[0;32min\u001b[0m \u001b[0mcommon_offices\u001b[0m\u001b[0;34m.\u001b[0m\u001b[0mvalues\u001b[0m\u001b[0;34m:\u001b[0m\u001b[0;34m\u001b[0m\u001b[0m\n\u001b[0m\u001b[1;32m      3\u001b[0m     \u001b[0;32mpass\u001b[0m\u001b[0;34m\u001b[0m\u001b[0m\n",
            "\u001b[0;31mNameError\u001b[0m: name \u0027common_offices\u0027 is not defined"
          ],
          "ename": "NameError",
          "evalue": "name \u0027common_offices\u0027 is not defined",
          "output_type": "error"
        }
      ],
      "source": "person_dict \u003d {}\nfor year, office, persons in common_offices.values:\n    pass    ",
      "metadata": {
        "pycharm": {
          "metadata": false,
          "name": "#%%\n",
          "is_executing": false
        }
      }
    },
    {
      "cell_type": "code",
      "execution_count": null,
      "outputs": [],
      "source": "\n",
      "metadata": {
        "pycharm": {
          "metadata": false,
          "name": "#%%\n"
        }
      }
    }
  ],
  "metadata": {
    "language_info": {
      "codemirror_mode": {
        "name": "ipython",
        "version": 2
      },
      "file_extension": ".py",
      "mimetype": "text/x-python",
      "name": "python",
      "nbconvert_exporter": "python",
      "pygments_lexer": "ipython2",
      "version": "2.7.6"
    },
    "kernelspec": {
      "name": "python3",
      "language": "python",
      "display_name": "Python 3"
    }
  },
  "nbformat": 4,
  "nbformat_minor": 0
}