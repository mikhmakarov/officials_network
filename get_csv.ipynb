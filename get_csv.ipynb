{
 "cells": [
  {
   "cell_type": "code",
   "execution_count": 73,
   "metadata": {
    "pycharm": {
     "is_executing": false
    }
   },
   "outputs": [],
   "source": [
    "import pandas as pd\n",
    "import numpy as np\n",
    "import json\n",
    "import random\n",
    "import itertools\n",
    "import ast\n",
    "from collections import defaultdict\n",
    "%matplotlib inline"
   ]
  },
  {
   "cell_type": "code",
   "execution_count": 74,
   "metadata": {
    "pycharm": {
     "is_executing": false,
     "metadata": false,
     "name": "#%%\n"
    }
   },
   "outputs": [],
   "source": [
    "dump_fpath = 'data/declarations.json'\n",
    "\n",
    "with open(dump_fpath) as f:\n",
    "    declarations = json.loads(f.read())"
   ]
  },
  {
   "cell_type": "code",
   "execution_count": 75,
   "metadata": {
    "pycharm": {
     "is_executing": false,
     "metadata": false,
     "name": "#%%\n"
    }
   },
   "outputs": [
    {
     "data": {
      "text/plain": [
       "{'bonds': [],\n",
       " 'incomes': [{'comment': '', 'relative': None, 'size': 288208.0}],\n",
       " 'main': {'document_type': {'id': 1, 'name': 'Антикоррупционная декларация'},\n",
       "  'office': {'id': 1417,\n",
       "   'name': 'Советский - городской округ',\n",
       "   'post': 'Ведущий специалист',\n",
       "   'region': {'id': 46, 'name': 'Калининградская область'},\n",
       "   'type': {'id': 20, 'name': 'Муниципальный, без структуры'},\n",
       "   'url': 'http://www.sovetsk-tilsit.ru/'},\n",
       "  'party': None,\n",
       "  'person': {'family_name': 'Парусимова',\n",
       "   'given_name': 'Ирина',\n",
       "   'id': 4094,\n",
       "   'name': 'Парусимова Ирина Владиславовна',\n",
       "   'patronymic_name': 'Владиславовна'},\n",
       "  'year': 2012},\n",
       " 'real_estates': [{'comment': '',\n",
       "   'country': 'Россия',\n",
       "   'name': '',\n",
       "   'own_type': {'id': 1, 'name': 'В собственности'},\n",
       "   'region': None,\n",
       "   'relative': None,\n",
       "   'share': None,\n",
       "   'share_type': {'id': 3, 'name': 'Совместная собственность'},\n",
       "   'square': 71.5,\n",
       "   'type': {'id': 4, 'name': 'Квартира'}}],\n",
       " 'savings': [],\n",
       " 'spendings': [],\n",
       " 'stocks': [],\n",
       " 'vehicles': []}"
      ]
     },
     "execution_count": 75,
     "metadata": {},
     "output_type": "execute_result"
    }
   ],
   "source": [
    "random.choice(declarations)"
   ]
  },
  {
   "cell_type": "markdown",
   "metadata": {
    "pycharm": {
     "metadata": false,
     "name": "#%% md\n"
    }
   },
   "source": [
    "Total declarations:"
   ]
  },
  {
   "cell_type": "code",
   "execution_count": 76,
   "metadata": {
    "pycharm": {
     "is_executing": false,
     "metadata": false,
     "name": "#%%\n"
    }
   },
   "outputs": [
    {
     "data": {
      "text/plain": [
       "90864"
      ]
     },
     "execution_count": 76,
     "metadata": {},
     "output_type": "execute_result"
    }
   ],
   "source": [
    "len(declarations)"
   ]
  },
  {
   "cell_type": "code",
   "execution_count": 77,
   "metadata": {
    "pycharm": {
     "is_executing": false,
     "metadata": false,
     "name": "#%%\n"
    }
   },
   "outputs": [
    {
     "data": {
      "text/plain": [
       "90864"
      ]
     },
     "execution_count": 77,
     "metadata": {},
     "output_type": "execute_result"
    }
   ],
   "source": [
    "columns = ['person_id', 'person_name', 'year', 'office_id',\n",
    "           'office_name', 'income_personal', 'income_relatives']\n",
    "\n",
    "rows = []\n",
    "for dec in declarations:\n",
    "    row = [\n",
    "        dec['main']['person']['id'],\n",
    "        dec['main']['person']['name'],\n",
    "        dec['main']['year'],\n",
    "        dec['main']['office']['id'],\n",
    "        dec['main']['office']['name'],\n",
    "    ]\n",
    "    income_personal_sum = sum([inc['size'] for inc in dec['incomes'] if inc['relative'] is None])\n",
    "    income_relatives_sum = sum([inc['size'] for inc in dec['incomes'] if inc['relative'] is not None])\n",
    "    # savings_sum = sum([float(sav.split('руб.')[0].replace(',', '.').replace(' ', '')) for sav in dec['savings']])\n",
    "    # real_estate_amount = len(dec['real_estates'])\n",
    "    # real_estate_squares_sum = sum([(estate['square']  or 0) for estate in dec['real_estates']])\n",
    "    row += [income_personal_sum, income_relatives_sum]\n",
    "    rows.append(row)\n",
    "len(rows)"
   ]
  },
  {
   "cell_type": "code",
   "execution_count": 78,
   "metadata": {
    "pycharm": {
     "is_executing": false,
     "metadata": false,
     "name": "#%%\n"
    }
   },
   "outputs": [
    {
     "data": {
      "text/html": [
       "<div>\n",
       "<style scoped>\n",
       "    .dataframe tbody tr th:only-of-type {\n",
       "        vertical-align: middle;\n",
       "    }\n",
       "\n",
       "    .dataframe tbody tr th {\n",
       "        vertical-align: top;\n",
       "    }\n",
       "\n",
       "    .dataframe thead th {\n",
       "        text-align: right;\n",
       "    }\n",
       "</style>\n",
       "<table border=\"1\" class=\"dataframe\">\n",
       "  <thead>\n",
       "    <tr style=\"text-align: right;\">\n",
       "      <th></th>\n",
       "      <th>person_id</th>\n",
       "      <th>person_name</th>\n",
       "      <th>year</th>\n",
       "      <th>office_id</th>\n",
       "      <th>office_name</th>\n",
       "      <th>income_personal</th>\n",
       "      <th>income_relatives</th>\n",
       "    </tr>\n",
       "  </thead>\n",
       "  <tbody>\n",
       "    <tr>\n",
       "      <th>30358</th>\n",
       "      <td>8</td>\n",
       "      <td>Зюганов Геннадий Андреевич</td>\n",
       "      <td>1998</td>\n",
       "      <td>14</td>\n",
       "      <td>Государственная Дума</td>\n",
       "      <td>124154.00</td>\n",
       "      <td>0.00</td>\n",
       "    </tr>\n",
       "    <tr>\n",
       "      <th>31970</th>\n",
       "      <td>8</td>\n",
       "      <td>Зюганов Геннадий Андреевич</td>\n",
       "      <td>1999</td>\n",
       "      <td>449</td>\n",
       "      <td>Президент Российской Федерации</td>\n",
       "      <td>495443.00</td>\n",
       "      <td>10804.00</td>\n",
       "    </tr>\n",
       "    <tr>\n",
       "      <th>127</th>\n",
       "      <td>8</td>\n",
       "      <td>Зюганов Геннадий Андреевич</td>\n",
       "      <td>2006</td>\n",
       "      <td>14</td>\n",
       "      <td>Государственная Дума</td>\n",
       "      <td>1257784.00</td>\n",
       "      <td>0.00</td>\n",
       "    </tr>\n",
       "    <tr>\n",
       "      <th>1109</th>\n",
       "      <td>8</td>\n",
       "      <td>Зюганов Геннадий Андреевич</td>\n",
       "      <td>2006</td>\n",
       "      <td>449</td>\n",
       "      <td>Президент Российской Федерации</td>\n",
       "      <td>3445291.61</td>\n",
       "      <td>145376.87</td>\n",
       "    </tr>\n",
       "    <tr>\n",
       "      <th>5520</th>\n",
       "      <td>8</td>\n",
       "      <td>Зюганов Геннадий Андреевич</td>\n",
       "      <td>2009</td>\n",
       "      <td>14</td>\n",
       "      <td>Государственная Дума</td>\n",
       "      <td>2075542.33</td>\n",
       "      <td>102279.19</td>\n",
       "    </tr>\n",
       "  </tbody>\n",
       "</table>\n",
       "</div>"
      ],
      "text/plain": [
       "       person_id                 person_name  year  office_id  \\\n",
       "30358          8  Зюганов Геннадий Андреевич  1998         14   \n",
       "31970          8  Зюганов Геннадий Андреевич  1999        449   \n",
       "127            8  Зюганов Геннадий Андреевич  2006         14   \n",
       "1109           8  Зюганов Геннадий Андреевич  2006        449   \n",
       "5520           8  Зюганов Геннадий Андреевич  2009         14   \n",
       "\n",
       "                          office_name  income_personal  income_relatives  \n",
       "30358            Государственная Дума        124154.00              0.00  \n",
       "31970  Президент Российской Федерации        495443.00          10804.00  \n",
       "127              Государственная Дума       1257784.00              0.00  \n",
       "1109   Президент Российской Федерации       3445291.61         145376.87  \n",
       "5520             Государственная Дума       2075542.33         102279.19  "
      ]
     },
     "execution_count": 78,
     "metadata": {},
     "output_type": "execute_result"
    }
   ],
   "source": [
    "df = pd.DataFrame(rows, columns=columns)\n",
    "df = df.sort_values(by=['person_id', 'year'])\n",
    "df.head()"
   ]
  },
  {
   "cell_type": "markdown",
   "metadata": {
    "pycharm": {
     "is_executing": false,
     "metadata": false,
     "name": "#%% md\n"
    }
   },
   "source": [
    "Total unique persons"
   ]
  },
  {
   "cell_type": "code",
   "execution_count": 79,
   "metadata": {
    "pycharm": {
     "is_executing": false,
     "metadata": false,
     "name": "#%%\n"
    }
   },
   "outputs": [
    {
     "name": "stdout",
     "output_type": "stream",
     "text": [
      "51909\n"
     ]
    }
   ],
   "source": [
    "unique_persons_count = df['person_id'].unique().shape[0]\n",
    "print(unique_persons_count)"
   ]
  },
  {
   "cell_type": "markdown",
   "metadata": {
    "pycharm": {
     "is_executing": false,
     "metadata": false,
     "name": "#%% md\n"
    }
   },
   "source": [
    "Years"
   ]
  },
  {
   "cell_type": "code",
   "execution_count": 80,
   "metadata": {
    "pycharm": {
     "is_executing": false,
     "metadata": false,
     "name": "#%%\n"
    }
   },
   "outputs": [
    {
     "name": "stdout",
     "output_type": "stream",
     "text": [
      "1998 2017\n"
     ]
    }
   ],
   "source": [
    "print(df.year.min(), df.year.max())"
   ]
  },
  {
   "cell_type": "code",
   "execution_count": 81,
   "metadata": {
    "pycharm": {
     "is_executing": false,
     "metadata": false,
     "name": "#%%\n"
    }
   },
   "outputs": [
    {
     "data": {
      "text/plain": [
       "2014    24048\n",
       "2015    20302\n",
       "2016    19608\n",
       "2013    12360\n",
       "2012     5547\n",
       "2011     4063\n",
       "2010     3142\n",
       "2009     1327\n",
       "2006      280\n",
       "2008       86\n",
       "1998       81\n",
       "1999       12\n",
       "2017        8\n",
       "Name: year, dtype: int64"
      ]
     },
     "execution_count": 81,
     "metadata": {},
     "output_type": "execute_result"
    }
   ],
   "source": [
    "df['year'].value_counts()"
   ]
  },
  {
   "cell_type": "markdown",
   "metadata": {
    "pycharm": {
     "metadata": false,
     "name": "#%% md\n"
    }
   },
   "source": [
    "Remove all declarations from years 1998 - 2012, 2017."
   ]
  },
  {
   "cell_type": "code",
   "execution_count": 82,
   "metadata": {
    "pycharm": {
     "is_executing": false,
     "metadata": false,
     "name": "#%%\n"
    }
   },
   "outputs": [
    {
     "data": {
      "text/html": [
       "<div>\n",
       "<style scoped>\n",
       "    .dataframe tbody tr th:only-of-type {\n",
       "        vertical-align: middle;\n",
       "    }\n",
       "\n",
       "    .dataframe tbody tr th {\n",
       "        vertical-align: top;\n",
       "    }\n",
       "\n",
       "    .dataframe thead th {\n",
       "        text-align: right;\n",
       "    }\n",
       "</style>\n",
       "<table border=\"1\" class=\"dataframe\">\n",
       "  <thead>\n",
       "    <tr style=\"text-align: right;\">\n",
       "      <th></th>\n",
       "      <th>person_id</th>\n",
       "      <th>person_name</th>\n",
       "      <th>year</th>\n",
       "      <th>office_id</th>\n",
       "      <th>office_name</th>\n",
       "      <th>income_personal</th>\n",
       "      <th>income_relatives</th>\n",
       "    </tr>\n",
       "  </thead>\n",
       "  <tbody>\n",
       "    <tr>\n",
       "      <th>7919</th>\n",
       "      <td>8</td>\n",
       "      <td>Зюганов Геннадий Андреевич</td>\n",
       "      <td>2013</td>\n",
       "      <td>14</td>\n",
       "      <td>Государственная Дума</td>\n",
       "      <td>3194615.67</td>\n",
       "      <td>198267.22</td>\n",
       "    </tr>\n",
       "    <tr>\n",
       "      <th>16484</th>\n",
       "      <td>8</td>\n",
       "      <td>Зюганов Геннадий Андреевич</td>\n",
       "      <td>2014</td>\n",
       "      <td>14</td>\n",
       "      <td>Государственная Дума</td>\n",
       "      <td>4460788.41</td>\n",
       "      <td>190086.74</td>\n",
       "    </tr>\n",
       "    <tr>\n",
       "      <th>31525</th>\n",
       "      <td>8</td>\n",
       "      <td>Зюганов Геннадий Андреевич</td>\n",
       "      <td>2015</td>\n",
       "      <td>14</td>\n",
       "      <td>Государственная Дума</td>\n",
       "      <td>6538890.04</td>\n",
       "      <td>183815.19</td>\n",
       "    </tr>\n",
       "    <tr>\n",
       "      <th>56776</th>\n",
       "      <td>8</td>\n",
       "      <td>Зюганов Геннадий Андреевич</td>\n",
       "      <td>2016</td>\n",
       "      <td>14</td>\n",
       "      <td>Государственная Дума</td>\n",
       "      <td>5499187.78</td>\n",
       "      <td>187567.64</td>\n",
       "    </tr>\n",
       "    <tr>\n",
       "      <th>7643</th>\n",
       "      <td>9</td>\n",
       "      <td>Алферов Жорес Иванович</td>\n",
       "      <td>2013</td>\n",
       "      <td>14</td>\n",
       "      <td>Государственная Дума</td>\n",
       "      <td>16647820.37</td>\n",
       "      <td>1485698.88</td>\n",
       "    </tr>\n",
       "  </tbody>\n",
       "</table>\n",
       "</div>"
      ],
      "text/plain": [
       "       person_id                 person_name  year  office_id  \\\n",
       "7919           8  Зюганов Геннадий Андреевич  2013         14   \n",
       "16484          8  Зюганов Геннадий Андреевич  2014         14   \n",
       "31525          8  Зюганов Геннадий Андреевич  2015         14   \n",
       "56776          8  Зюганов Геннадий Андреевич  2016         14   \n",
       "7643           9      Алферов Жорес Иванович  2013         14   \n",
       "\n",
       "                office_name  income_personal  income_relatives  \n",
       "7919   Государственная Дума       3194615.67         198267.22  \n",
       "16484  Государственная Дума       4460788.41         190086.74  \n",
       "31525  Государственная Дума       6538890.04         183815.19  \n",
       "56776  Государственная Дума       5499187.78         187567.64  \n",
       "7643   Государственная Дума      16647820.37        1485698.88  "
      ]
     },
     "execution_count": 82,
     "metadata": {},
     "output_type": "execute_result"
    }
   ],
   "source": [
    "df = df[(df.year >= 2013) & (df.year <= 2016)]\n",
    "df.head()"
   ]
  },
  {
   "cell_type": "markdown",
   "metadata": {},
   "source": [
    "Declarations count after filtering"
   ]
  },
  {
   "cell_type": "code",
   "execution_count": 101,
   "metadata": {},
   "outputs": [
    {
     "data": {
      "text/plain": [
       "(76318, 8)"
      ]
     },
     "execution_count": 101,
     "metadata": {},
     "output_type": "execute_result"
    }
   ],
   "source": [
    "df.shape"
   ]
  },
  {
   "cell_type": "markdown",
   "metadata": {},
   "source": [
    "Unique persons after filtering"
   ]
  },
  {
   "cell_type": "code",
   "execution_count": 83,
   "metadata": {},
   "outputs": [
    {
     "name": "stdout",
     "output_type": "stream",
     "text": [
      "49032\n"
     ]
    }
   ],
   "source": [
    "unique_persons_count = df['person_id'].unique().shape[0]\n",
    "print(unique_persons_count)"
   ]
  },
  {
   "cell_type": "code",
   "execution_count": 84,
   "metadata": {
    "pycharm": {
     "is_executing": false,
     "metadata": false,
     "name": "#%%\n"
    }
   },
   "outputs": [],
   "source": [
    "df.to_csv('data/declarations.csv', index=False)"
   ]
  },
  {
   "cell_type": "markdown",
   "metadata": {
    "pycharm": {
     "metadata": false,
     "name": "#%% md\n"
    }
   },
   "source": [
    "Count number of times persons worked at the same office in the same year"
   ]
  },
  {
   "cell_type": "code",
   "execution_count": 85,
   "metadata": {
    "pycharm": {
     "is_executing": false,
     "metadata": false,
     "name": "#%%\n"
    }
   },
   "outputs": [],
   "source": [
    "grouped_view = df.groupby(['person_id', 'person_name', 'year']).first()"
   ]
  },
  {
   "cell_type": "code",
   "execution_count": 86,
   "metadata": {
    "pycharm": {
     "is_executing": false,
     "metadata": false,
     "name": "#%%\n"
    }
   },
   "outputs": [
    {
     "data": {
      "text/html": [
       "<div>\n",
       "<style scoped>\n",
       "    .dataframe tbody tr th:only-of-type {\n",
       "        vertical-align: middle;\n",
       "    }\n",
       "\n",
       "    .dataframe tbody tr th {\n",
       "        vertical-align: top;\n",
       "    }\n",
       "\n",
       "    .dataframe thead th {\n",
       "        text-align: right;\n",
       "    }\n",
       "</style>\n",
       "<table border=\"1\" class=\"dataframe\">\n",
       "  <thead>\n",
       "    <tr style=\"text-align: right;\">\n",
       "      <th></th>\n",
       "      <th>year</th>\n",
       "      <th>office_id</th>\n",
       "      <th>person_id</th>\n",
       "    </tr>\n",
       "  </thead>\n",
       "  <tbody>\n",
       "    <tr>\n",
       "      <th>0</th>\n",
       "      <td>2013</td>\n",
       "      <td>1</td>\n",
       "      <td>[294, 296, 298, 1783, 2477, 2478, 2811, 9129, ...</td>\n",
       "    </tr>\n",
       "    <tr>\n",
       "      <th>1</th>\n",
       "      <td>2013</td>\n",
       "      <td>2</td>\n",
       "      <td>[6946, 6947, 6948, 6949, 6950, 6951, 6952, 695...</td>\n",
       "    </tr>\n",
       "    <tr>\n",
       "      <th>2</th>\n",
       "      <td>2013</td>\n",
       "      <td>3</td>\n",
       "      <td>[679, 680, 681, 682, 7300, 7301, 7302, 7304, 7...</td>\n",
       "    </tr>\n",
       "    <tr>\n",
       "      <th>3</th>\n",
       "      <td>2013</td>\n",
       "      <td>4</td>\n",
       "      <td>[5350, 11677, 11685, 11686, 11687, 11688, 1168...</td>\n",
       "    </tr>\n",
       "    <tr>\n",
       "      <th>4</th>\n",
       "      <td>2013</td>\n",
       "      <td>5</td>\n",
       "      <td>[34, 114, 139, 180, 190, 231, 234, 236, 299, 4...</td>\n",
       "    </tr>\n",
       "  </tbody>\n",
       "</table>\n",
       "</div>"
      ],
      "text/plain": [
       "   year  office_id                                          person_id\n",
       "0  2013          1  [294, 296, 298, 1783, 2477, 2478, 2811, 9129, ...\n",
       "1  2013          2  [6946, 6947, 6948, 6949, 6950, 6951, 6952, 695...\n",
       "2  2013          3  [679, 680, 681, 682, 7300, 7301, 7302, 7304, 7...\n",
       "3  2013          4  [5350, 11677, 11685, 11686, 11687, 11688, 1168...\n",
       "4  2013          5  [34, 114, 139, 180, 190, 231, 234, 236, 299, 4..."
      ]
     },
     "execution_count": 86,
     "metadata": {},
     "output_type": "execute_result"
    }
   ],
   "source": [
    "common_offices = df.groupby(['year', 'office_id'])['person_id'].apply(list).reset_index()\n",
    "common_offices.head()"
   ]
  },
  {
   "cell_type": "code",
   "execution_count": 87,
   "metadata": {
    "pycharm": {
     "is_executing": false,
     "metadata": false,
     "name": "#%%\n"
    }
   },
   "outputs": [],
   "source": [
    "common_offices.to_csv('data/common_offices.csv', index=False)"
   ]
  },
  {
   "cell_type": "markdown",
   "metadata": {
    "pycharm": {}
   },
   "source": [
    "## Граф связей"
   ]
  },
  {
   "cell_type": "code",
   "execution_count": 88,
   "metadata": {
    "pycharm": {
     "is_executing": false
    }
   },
   "outputs": [],
   "source": [
    "YEARS = [2013, 2014, 2015, 2016]"
   ]
  },
  {
   "cell_type": "code",
   "execution_count": 89,
   "metadata": {
    "pycharm": {
     "is_executing": false
    },
    "scrolled": true
   },
   "outputs": [
    {
     "data": {
      "text/html": [
       "<div>\n",
       "<style scoped>\n",
       "    .dataframe tbody tr th:only-of-type {\n",
       "        vertical-align: middle;\n",
       "    }\n",
       "\n",
       "    .dataframe tbody tr th {\n",
       "        vertical-align: top;\n",
       "    }\n",
       "\n",
       "    .dataframe thead th {\n",
       "        text-align: right;\n",
       "    }\n",
       "</style>\n",
       "<table border=\"1\" class=\"dataframe\">\n",
       "  <thead>\n",
       "    <tr style=\"text-align: right;\">\n",
       "      <th></th>\n",
       "      <th>year</th>\n",
       "      <th>office_id</th>\n",
       "      <th>person_id</th>\n",
       "    </tr>\n",
       "  </thead>\n",
       "  <tbody>\n",
       "    <tr>\n",
       "      <th>0</th>\n",
       "      <td>2013</td>\n",
       "      <td>1</td>\n",
       "      <td>[294, 296, 298, 1783, 2477, 2478, 2811, 9129, ...</td>\n",
       "    </tr>\n",
       "    <tr>\n",
       "      <th>1</th>\n",
       "      <td>2013</td>\n",
       "      <td>2</td>\n",
       "      <td>[6946, 6947, 6948, 6949, 6950, 6951, 6952, 695...</td>\n",
       "    </tr>\n",
       "    <tr>\n",
       "      <th>2</th>\n",
       "      <td>2013</td>\n",
       "      <td>3</td>\n",
       "      <td>[679, 680, 681, 682, 7300, 7301, 7302, 7304, 7...</td>\n",
       "    </tr>\n",
       "    <tr>\n",
       "      <th>3</th>\n",
       "      <td>2013</td>\n",
       "      <td>4</td>\n",
       "      <td>[5350, 11677, 11685, 11686, 11687, 11688, 1168...</td>\n",
       "    </tr>\n",
       "    <tr>\n",
       "      <th>4</th>\n",
       "      <td>2013</td>\n",
       "      <td>5</td>\n",
       "      <td>[34, 114, 139, 180, 190, 231, 234, 236, 299, 4...</td>\n",
       "    </tr>\n",
       "  </tbody>\n",
       "</table>\n",
       "</div>"
      ],
      "text/plain": [
       "   year  office_id                                          person_id\n",
       "0  2013          1  [294, 296, 298, 1783, 2477, 2478, 2811, 9129, ...\n",
       "1  2013          2  [6946, 6947, 6948, 6949, 6950, 6951, 6952, 695...\n",
       "2  2013          3  [679, 680, 681, 682, 7300, 7301, 7302, 7304, 7...\n",
       "3  2013          4  [5350, 11677, 11685, 11686, 11687, 11688, 1168...\n",
       "4  2013          5  [34, 114, 139, 180, 190, 231, 234, 236, 299, 4..."
      ]
     },
     "execution_count": 89,
     "metadata": {},
     "output_type": "execute_result"
    }
   ],
   "source": [
    "common_offices_filtered = common_offices[common_offices['year'].isin(YEARS)].copy()\n",
    "common_offices_filtered.head()"
   ]
  },
  {
   "cell_type": "code",
   "execution_count": 90,
   "metadata": {
    "pycharm": {
     "is_executing": false
    }
   },
   "outputs": [
    {
     "data": {
      "text/plain": [
       "4163369"
      ]
     },
     "execution_count": 90,
     "metadata": {},
     "output_type": "execute_result"
    }
   ],
   "source": [
    "def populate_dict(person_id_list, graph_dict):\n",
    "    for pair in itertools.combinations(person_id_list, 2):\n",
    "        graph_dict[pair] += 1\n",
    "worked_together_dict = defaultdict(int)    \n",
    "common_offices_filtered['person_id'].map(lambda person_id_list: populate_dict(person_id_list, worked_together_dict))\n",
    "len(worked_together_dict)"
   ]
  },
  {
   "cell_type": "code",
   "execution_count": 91,
   "metadata": {
    "pycharm": {
     "is_executing": false
    }
   },
   "outputs": [
    {
     "data": {
      "text/plain": [
       "4163369"
      ]
     },
     "execution_count": 91,
     "metadata": {},
     "output_type": "execute_result"
    }
   ],
   "source": [
    "len(worked_together_dict)"
   ]
  },
  {
   "cell_type": "code",
   "execution_count": 92,
   "metadata": {},
   "outputs": [],
   "source": [
    "# More or equal to the amount of persons\n",
    "# Less than number of all possible pairs\n",
    "assert unique_persons_count <= len(worked_together_dict) <= unique_persons_count*(unique_persons_count-1)/2 "
   ]
  },
  {
   "cell_type": "code",
   "execution_count": 100,
   "metadata": {
    "pycharm": {
     "is_executing": false
    }
   },
   "outputs": [],
   "source": [
    "with open('data/graph.csv', 'w') as graph_file:\n",
    "    graph_file.write('person1,person2,times_worked_together\\n')\n",
    "    for pair in sorted(worked_together_dict):\n",
    "        graph_file.write('{},{},{}\\n'.format(pair[0], pair[1], worked_together_dict[pair]))"
   ]
  },
  {
   "cell_type": "markdown",
   "metadata": {
    "pycharm": {}
   },
   "source": [
    "## Справочник доходов депутатов"
   ]
  },
  {
   "cell_type": "code",
   "execution_count": 96,
   "metadata": {},
   "outputs": [],
   "source": [
    "df['income'] = df['income_personal'] + df['income_relatives']"
   ]
  },
  {
   "cell_type": "code",
   "execution_count": 97,
   "metadata": {},
   "outputs": [
    {
     "data": {
      "text/html": [
       "<div>\n",
       "<style scoped>\n",
       "    .dataframe tbody tr th:only-of-type {\n",
       "        vertical-align: middle;\n",
       "    }\n",
       "\n",
       "    .dataframe tbody tr th {\n",
       "        vertical-align: top;\n",
       "    }\n",
       "\n",
       "    .dataframe thead th {\n",
       "        text-align: right;\n",
       "    }\n",
       "</style>\n",
       "<table border=\"1\" class=\"dataframe\">\n",
       "  <thead>\n",
       "    <tr style=\"text-align: right;\">\n",
       "      <th></th>\n",
       "      <th>year</th>\n",
       "      <th>person_id</th>\n",
       "      <th>person_name</th>\n",
       "      <th>office_id</th>\n",
       "      <th>income</th>\n",
       "    </tr>\n",
       "  </thead>\n",
       "  <tbody>\n",
       "    <tr>\n",
       "      <th>0</th>\n",
       "      <td>2013</td>\n",
       "      <td>8</td>\n",
       "      <td>Зюганов Геннадий Андреевич</td>\n",
       "      <td>14</td>\n",
       "      <td>3392882.89</td>\n",
       "    </tr>\n",
       "    <tr>\n",
       "      <th>1</th>\n",
       "      <td>2013</td>\n",
       "      <td>9</td>\n",
       "      <td>Алферов Жорес Иванович</td>\n",
       "      <td>14</td>\n",
       "      <td>18133519.25</td>\n",
       "    </tr>\n",
       "    <tr>\n",
       "      <th>2</th>\n",
       "      <td>2013</td>\n",
       "      <td>10</td>\n",
       "      <td>Андреев Андрей Анатольевич</td>\n",
       "      <td>14</td>\n",
       "      <td>4368530.71</td>\n",
       "    </tr>\n",
       "    <tr>\n",
       "      <th>3</th>\n",
       "      <td>2013</td>\n",
       "      <td>12</td>\n",
       "      <td>Афонин Юрий Вячеславович</td>\n",
       "      <td>14</td>\n",
       "      <td>2802081.80</td>\n",
       "    </tr>\n",
       "    <tr>\n",
       "      <th>4</th>\n",
       "      <td>2013</td>\n",
       "      <td>13</td>\n",
       "      <td>Гаврилов Сергей Анатольевич</td>\n",
       "      <td>14</td>\n",
       "      <td>3263364.19</td>\n",
       "    </tr>\n",
       "  </tbody>\n",
       "</table>\n",
       "</div>"
      ],
      "text/plain": [
       "   year  person_id                  person_name  office_id       income\n",
       "0  2013          8   Зюганов Геннадий Андреевич         14   3392882.89\n",
       "1  2013          9       Алферов Жорес Иванович         14  18133519.25\n",
       "2  2013         10   Андреев Андрей Анатольевич         14   4368530.71\n",
       "3  2013         12     Афонин Юрий Вячеславович         14   2802081.80\n",
       "4  2013         13  Гаврилов Сергей Анатольевич         14   3263364.19"
      ]
     },
     "execution_count": 97,
     "metadata": {},
     "output_type": "execute_result"
    }
   ],
   "source": [
    "# Если несколько записей на одного депутата на один год на один офис, то берем первую\n",
    "officials_year = (df\n",
    "                    .groupby(by=['year', 'person_id', 'person_name', 'office_id'])['income']\n",
    "                    .first()\n",
    "                    .to_frame('income')\n",
    "                    .reset_index())\n",
    "officials_year.head()"
   ]
  },
  {
   "cell_type": "code",
   "execution_count": 98,
   "metadata": {
    "pycharm": {
     "is_executing": false
    }
   },
   "outputs": [
    {
     "data": {
      "text/html": [
       "<div>\n",
       "<style scoped>\n",
       "    .dataframe tbody tr th:only-of-type {\n",
       "        vertical-align: middle;\n",
       "    }\n",
       "\n",
       "    .dataframe tbody tr th {\n",
       "        vertical-align: top;\n",
       "    }\n",
       "\n",
       "    .dataframe thead th {\n",
       "        text-align: right;\n",
       "    }\n",
       "</style>\n",
       "<table border=\"1\" class=\"dataframe\">\n",
       "  <thead>\n",
       "    <tr style=\"text-align: right;\">\n",
       "      <th></th>\n",
       "      <th>person_name</th>\n",
       "      <th>income</th>\n",
       "    </tr>\n",
       "    <tr>\n",
       "      <th>person_id</th>\n",
       "      <th></th>\n",
       "      <th></th>\n",
       "    </tr>\n",
       "  </thead>\n",
       "  <tbody>\n",
       "    <tr>\n",
       "      <th>8</th>\n",
       "      <td>Зюганов Геннадий Андреевич</td>\n",
       "      <td>20453218.69</td>\n",
       "    </tr>\n",
       "    <tr>\n",
       "      <th>9</th>\n",
       "      <td>Алферов Жорес Иванович</td>\n",
       "      <td>81462661.75</td>\n",
       "    </tr>\n",
       "    <tr>\n",
       "      <th>10</th>\n",
       "      <td>Андреев Андрей Анатольевич</td>\n",
       "      <td>14475607.50</td>\n",
       "    </tr>\n",
       "    <tr>\n",
       "      <th>12</th>\n",
       "      <td>Афонин Юрий Вячеславович</td>\n",
       "      <td>23774458.69</td>\n",
       "    </tr>\n",
       "    <tr>\n",
       "      <th>13</th>\n",
       "      <td>Гаврилов Сергей Анатольевич</td>\n",
       "      <td>19608057.29</td>\n",
       "    </tr>\n",
       "  </tbody>\n",
       "</table>\n",
       "</div>"
      ],
      "text/plain": [
       "                           person_name       income\n",
       "person_id                                          \n",
       "8           Зюганов Геннадий Андреевич  20453218.69\n",
       "9               Алферов Жорес Иванович  81462661.75\n",
       "10          Андреев Андрей Анатольевич  14475607.50\n",
       "12            Афонин Юрий Вячеславович  23774458.69\n",
       "13         Гаврилов Сергей Анатольевич  19608057.29"
      ]
     },
     "execution_count": 98,
     "metadata": {},
     "output_type": "execute_result"
    }
   ],
   "source": [
    "# Суммируем доход в разных офисах\n",
    "officials_income = (officials_year\n",
    "                    .groupby(by=['person_id', 'person_name'])['income']\n",
    "                    .sum()                    \n",
    "                    .to_frame('income')\n",
    "                    .reset_index())\n",
    "officials_income = officials_income.set_index('person_id')\n",
    "officials_income.head()"
   ]
  },
  {
   "cell_type": "code",
   "execution_count": 103,
   "metadata": {
    "pycharm": {
     "is_executing": false
    }
   },
   "outputs": [],
   "source": [
    "officials_income.to_json('data/officials_income.json', orient='index', force_ascii=False, double_precision=2)\n",
    "officials_income.to_csv('data/officials_income.csv')"
   ]
  }
 ],
 "metadata": {
  "kernelspec": {
   "display_name": "Python 3",
   "language": "python",
   "name": "python3"
  },
  "language_info": {
   "codemirror_mode": {
    "name": "ipython",
    "version": 3
   },
   "file_extension": ".py",
   "mimetype": "text/x-python",
   "name": "python",
   "nbconvert_exporter": "python",
   "pygments_lexer": "ipython3",
   "version": "3.6.4"
  }
 },
 "nbformat": 4,
 "nbformat_minor": 1
}
