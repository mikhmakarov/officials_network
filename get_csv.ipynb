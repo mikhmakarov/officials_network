{
  "cells": [
    {
      "cell_type": "code",
      "execution_count": 3,
      "metadata": {
        "collapsed": true,
        "pycharm": {
          "is_executing": false
        }
      },
      "outputs": [],
      "source": "import pandas as pd\nimport json\nimport random\n%matplotlib inline"
    },
    {
      "cell_type": "code",
      "execution_count": 7,
      "outputs": [],
      "source": "dump_fpath \u003d \u0027data/declarations.json\u0027\n\nwith open(dump_fpath) as f:\n    declarations \u003d json.loads(f.read())",
      "metadata": {
        "pycharm": {
          "metadata": false,
          "name": "#%%\n",
          "is_executing": false
        }
      }
    },
    {
      "cell_type": "code",
      "execution_count": 8,
      "outputs": [
        {
          "data": {
            "text/plain": "{\u0027bonds\u0027: [],\n \u0027incomes\u0027: [{\u0027comment\u0027: \u0027\u0027, \u0027relative\u0027: None, \u0027size\u0027: 1322690.38}],\n \u0027main\u0027: {\u0027document_type\u0027: {\u0027id\u0027: 1, \u0027name\u0027: \u0027Антикоррупционная декларация\u0027},\n  \u0027office\u0027: {\u0027id\u0027: 873,\n   \u0027name\u0027: \u0027ГУФСИН Красноярский край\u0027,\n   \u0027post\u0027: \u0027заместитель начальника КП-13 ФКУ ОИУ-1 ОУХД\u0027,\n   \u0027region\u0027: {\u0027id\u0027: 28, \u0027name\u0027: \u0027Красноярский край\u0027},\n   \u0027type\u0027: {\u0027id\u0027: 7, \u0027name\u0027: \u0027Федеральный, без региональной структуры\u0027},\n   \u0027url\u0027: \u0027http://www.24.fsin.su/\u0027},\n  \u0027party\u0027: None,\n  \u0027person\u0027: {\u0027family_name\u0027: \u0027Слипченко\u0027,\n   \u0027given_name\u0027: \u0027Т.\u0027,\n   \u0027id\u0027: 32105,\n   \u0027name\u0027: \u0027Слипченко Т. А.\u0027,\n   \u0027patronymic_name\u0027: \u0027А.\u0027},\n  \u0027year\u0027: 2014},\n \u0027real_estates\u0027: [{\u0027comment\u0027: \u0027\u0027,\n   \u0027country\u0027: \u0027Россия\u0027,\n   \u0027name\u0027: \u0027\u0027,\n   \u0027own_type\u0027: {\u0027id\u0027: 21, \u0027name\u0027: \u0027Долевая собственность\u0027},\n   \u0027region\u0027: None,\n   \u0027relative\u0027: None,\n   \u0027share\u0027: 0.5,\n   \u0027square\u0027: 48.7,\n   \u0027type\u0027: {\u0027id\u0027: 4, \u0027name\u0027: \u0027Квартира\u0027}},\n  {\u0027comment\u0027: \u0027\u0027,\n   \u0027country\u0027: \u0027Россия\u0027,\n   \u0027name\u0027: \u0027\u0027,\n   \u0027own_type\u0027: {\u0027id\u0027: 9, \u0027name\u0027: \u0027В пользовании\u0027},\n   \u0027region\u0027: None,\n   \u0027relative\u0027: {\u0027id\u0027: 6, \u0027name\u0027: \u0027Ребенок\u0027},\n   \u0027share\u0027: None,\n   \u0027square\u0027: 48.7,\n   \u0027type\u0027: {\u0027id\u0027: 4, \u0027name\u0027: \u0027Квартира\u0027}}],\n \u0027savings\u0027: [],\n \u0027spendings\u0027: [],\n \u0027stocks\u0027: [],\n \u0027vehicles\u0027: []}"
          },
          "metadata": {},
          "output_type": "execute_result",
          "execution_count": 8
        }
      ],
      "source": "random.choice(declarations)",
      "metadata": {
        "pycharm": {
          "metadata": false,
          "name": "#%%\n",
          "is_executing": false
        }
      }
    },
    {
      "cell_type": "code",
      "execution_count": 9,
      "outputs": [],
      "source": "columns \u003d [\u0027person_id\u0027, \u0027person_name\u0027, \u0027year\u0027, \u0027office_id\u0027,\n           \u0027office_name\u0027, \u0027income\u0027, \u0027savings\u0027,\n           \u0027real_estate_amount\u0027,\n           \u0027real_estate_squares\u0027]\n\nrows \u003d []\nfor dec in declarations:\n    row \u003d [\n        dec[\u0027main\u0027][\u0027person\u0027][\u0027id\u0027],\n        dec[\u0027main\u0027][\u0027person\u0027][\u0027name\u0027],\n        dec[\u0027main\u0027][\u0027year\u0027],\n        dec[\u0027main\u0027][\u0027office\u0027][\u0027id\u0027],\n        dec[\u0027main\u0027][\u0027office\u0027][\u0027name\u0027],\n    ]\n    income_sum \u003d sum([inc[\u0027size\u0027] for inc in dec[\u0027incomes\u0027]])\n    savings_sum \u003d sum([float(sav.split(\u0027руб.\u0027)[0].replace(\u0027,\u0027, \u0027.\u0027).replace(\u0027 \u0027, \u0027\u0027)) for sav in dec[\u0027savings\u0027]])\n    real_estate_amount \u003d len(dec[\u0027real_estates\u0027])\n    real_estate_squares_sum \u003d sum([(estate[\u0027square\u0027]  or 0) for estate in dec[\u0027real_estates\u0027]])\n    row +\u003d [income_sum, savings_sum, real_estate_amount, real_estate_squares_sum]\n    rows.append(row)",
      "metadata": {
        "pycharm": {
          "metadata": false,
          "name": "#%%\n",
          "is_executing": false
        }
      }
    },
    {
      "cell_type": "code",
      "execution_count": 10,
      "outputs": [
        {
          "data": {
            "text/plain": "       person_id                 person_name  year  office_id  \\\n30357          8  Зюганов Геннадий Андреевич  1998         14   \n31969          8  Зюганов Геннадий Андреевич  1999        449   \n127            8  Зюганов Геннадий Андреевич  2006         14   \n1109           8  Зюганов Геннадий Андреевич  2006        449   \n5520           8  Зюганов Геннадий Андреевич  2009         14   \n\n                          office_name      income    savings  \\\n30357            Государственная Дума   124154.00       0.00   \n31969  Президент Российской Федерации   506247.00       0.00   \n127              Государственная Дума  1257784.00  141740.91   \n1109   Президент Российской Федерации  3590668.48  400490.32   \n5520             Государственная Дума  2177821.52       0.00   \n\n       real_estate_amount  real_estate_squares  \n30357                   1                150.0  \n31969                   3                252.7  \n127                     1                167.4  \n1109                    2                281.3  \n5520                    3                448.7  ",
            "text/html": "\u003cdiv\u003e\n\u003cstyle scoped\u003e\n    .dataframe tbody tr th:only-of-type {\n        vertical-align: middle;\n    }\n\n    .dataframe tbody tr th {\n        vertical-align: top;\n    }\n\n    .dataframe thead th {\n        text-align: right;\n    }\n\u003c/style\u003e\n\u003ctable border\u003d\"1\" class\u003d\"dataframe\"\u003e\n  \u003cthead\u003e\n    \u003ctr style\u003d\"text-align: right;\"\u003e\n      \u003cth\u003e\u003c/th\u003e\n      \u003cth\u003eperson_id\u003c/th\u003e\n      \u003cth\u003eperson_name\u003c/th\u003e\n      \u003cth\u003eyear\u003c/th\u003e\n      \u003cth\u003eoffice_id\u003c/th\u003e\n      \u003cth\u003eoffice_name\u003c/th\u003e\n      \u003cth\u003eincome\u003c/th\u003e\n      \u003cth\u003esavings\u003c/th\u003e\n      \u003cth\u003ereal_estate_amount\u003c/th\u003e\n      \u003cth\u003ereal_estate_squares\u003c/th\u003e\n    \u003c/tr\u003e\n  \u003c/thead\u003e\n  \u003ctbody\u003e\n    \u003ctr\u003e\n      \u003cth\u003e30357\u003c/th\u003e\n      \u003ctd\u003e8\u003c/td\u003e\n      \u003ctd\u003eЗюганов Геннадий Андреевич\u003c/td\u003e\n      \u003ctd\u003e1998\u003c/td\u003e\n      \u003ctd\u003e14\u003c/td\u003e\n      \u003ctd\u003eГосударственная Дума\u003c/td\u003e\n      \u003ctd\u003e124154.00\u003c/td\u003e\n      \u003ctd\u003e0.00\u003c/td\u003e\n      \u003ctd\u003e1\u003c/td\u003e\n      \u003ctd\u003e150.0\u003c/td\u003e\n    \u003c/tr\u003e\n    \u003ctr\u003e\n      \u003cth\u003e31969\u003c/th\u003e\n      \u003ctd\u003e8\u003c/td\u003e\n      \u003ctd\u003eЗюганов Геннадий Андреевич\u003c/td\u003e\n      \u003ctd\u003e1999\u003c/td\u003e\n      \u003ctd\u003e449\u003c/td\u003e\n      \u003ctd\u003eПрезидент Российской Федерации\u003c/td\u003e\n      \u003ctd\u003e506247.00\u003c/td\u003e\n      \u003ctd\u003e0.00\u003c/td\u003e\n      \u003ctd\u003e3\u003c/td\u003e\n      \u003ctd\u003e252.7\u003c/td\u003e\n    \u003c/tr\u003e\n    \u003ctr\u003e\n      \u003cth\u003e127\u003c/th\u003e\n      \u003ctd\u003e8\u003c/td\u003e\n      \u003ctd\u003eЗюганов Геннадий Андреевич\u003c/td\u003e\n      \u003ctd\u003e2006\u003c/td\u003e\n      \u003ctd\u003e14\u003c/td\u003e\n      \u003ctd\u003eГосударственная Дума\u003c/td\u003e\n      \u003ctd\u003e1257784.00\u003c/td\u003e\n      \u003ctd\u003e141740.91\u003c/td\u003e\n      \u003ctd\u003e1\u003c/td\u003e\n      \u003ctd\u003e167.4\u003c/td\u003e\n    \u003c/tr\u003e\n    \u003ctr\u003e\n      \u003cth\u003e1109\u003c/th\u003e\n      \u003ctd\u003e8\u003c/td\u003e\n      \u003ctd\u003eЗюганов Геннадий Андреевич\u003c/td\u003e\n      \u003ctd\u003e2006\u003c/td\u003e\n      \u003ctd\u003e449\u003c/td\u003e\n      \u003ctd\u003eПрезидент Российской Федерации\u003c/td\u003e\n      \u003ctd\u003e3590668.48\u003c/td\u003e\n      \u003ctd\u003e400490.32\u003c/td\u003e\n      \u003ctd\u003e2\u003c/td\u003e\n      \u003ctd\u003e281.3\u003c/td\u003e\n    \u003c/tr\u003e\n    \u003ctr\u003e\n      \u003cth\u003e5520\u003c/th\u003e\n      \u003ctd\u003e8\u003c/td\u003e\n      \u003ctd\u003eЗюганов Геннадий Андреевич\u003c/td\u003e\n      \u003ctd\u003e2009\u003c/td\u003e\n      \u003ctd\u003e14\u003c/td\u003e\n      \u003ctd\u003eГосударственная Дума\u003c/td\u003e\n      \u003ctd\u003e2177821.52\u003c/td\u003e\n      \u003ctd\u003e0.00\u003c/td\u003e\n      \u003ctd\u003e3\u003c/td\u003e\n      \u003ctd\u003e448.7\u003c/td\u003e\n    \u003c/tr\u003e\n  \u003c/tbody\u003e\n\u003c/table\u003e\n\u003c/div\u003e"
          },
          "metadata": {},
          "output_type": "execute_result",
          "execution_count": 10
        }
      ],
      "source": "df \u003d pd.DataFrame(rows, columns\u003dcolumns)\ndf \u003d df.sort_values(by\u003d[\u0027person_id\u0027, \u0027year\u0027])\ndf.head()\n",
      "metadata": {
        "pycharm": {
          "metadata": false,
          "name": "#%%\n",
          "is_executing": false
        }
      }
    },
    {
      "cell_type": "code",
      "execution_count": 11,
      "outputs": [
        {
          "data": {
            "text/plain": "(200545, 9)"
          },
          "metadata": {},
          "output_type": "execute_result",
          "execution_count": 11
        }
      ],
      "source": "df.shape",
      "metadata": {
        "pycharm": {
          "metadata": false,
          "name": "#%%\n",
          "is_executing": false
        }
      }
    },
    {
      "cell_type": "code",
      "execution_count": 13,
      "outputs": [],
      "source": "df.to_csv(\u0027data/declarations.csv\u0027, index\u003dFalse)",
      "metadata": {
        "pycharm": {
          "metadata": false,
          "name": "#%%\n",
          "is_executing": false
        }
      }
    },
    {
      "cell_type": "code",
      "execution_count": 57,
      "outputs": [],
      "source": "grouped_view \u003d df.groupby([\u0027person_id\u0027, \u0027person_name\u0027, \u0027year\u0027]).first()",
      "metadata": {
        "pycharm": {
          "metadata": false,
          "name": "#%%\n",
          "is_executing": false
        }
      }
    },
    {
      "cell_type": "code",
      "execution_count": 86,
      "outputs": [
        {
          "data": {
            "text/plain": "   year  office_id                                          person_id\n0  1998         14  [8, 68, 89, 132, 140, 144, 147, 150, 152, 177,...\n1  1999        449  [8, 89, 177, 580, 582, 960, 9214, 19333, 19337...\n2  2006         14  [8, 9, 10, 11, 12, 13, 14, 15, 16, 17, 18, 19,...\n3  2006        449                                  [8, 89, 542, 584]\n4  2008         12                                             [1383]",
            "text/html": "\u003cdiv\u003e\n\u003cstyle scoped\u003e\n    .dataframe tbody tr th:only-of-type {\n        vertical-align: middle;\n    }\n\n    .dataframe tbody tr th {\n        vertical-align: top;\n    }\n\n    .dataframe thead th {\n        text-align: right;\n    }\n\u003c/style\u003e\n\u003ctable border\u003d\"1\" class\u003d\"dataframe\"\u003e\n  \u003cthead\u003e\n    \u003ctr style\u003d\"text-align: right;\"\u003e\n      \u003cth\u003e\u003c/th\u003e\n      \u003cth\u003eyear\u003c/th\u003e\n      \u003cth\u003eoffice_id\u003c/th\u003e\n      \u003cth\u003eperson_id\u003c/th\u003e\n    \u003c/tr\u003e\n  \u003c/thead\u003e\n  \u003ctbody\u003e\n    \u003ctr\u003e\n      \u003cth\u003e0\u003c/th\u003e\n      \u003ctd\u003e1998\u003c/td\u003e\n      \u003ctd\u003e14\u003c/td\u003e\n      \u003ctd\u003e[8, 68, 89, 132, 140, 144, 147, 150, 152, 177,...\u003c/td\u003e\n    \u003c/tr\u003e\n    \u003ctr\u003e\n      \u003cth\u003e1\u003c/th\u003e\n      \u003ctd\u003e1999\u003c/td\u003e\n      \u003ctd\u003e449\u003c/td\u003e\n      \u003ctd\u003e[8, 89, 177, 580, 582, 960, 9214, 19333, 19337...\u003c/td\u003e\n    \u003c/tr\u003e\n    \u003ctr\u003e\n      \u003cth\u003e2\u003c/th\u003e\n      \u003ctd\u003e2006\u003c/td\u003e\n      \u003ctd\u003e14\u003c/td\u003e\n      \u003ctd\u003e[8, 9, 10, 11, 12, 13, 14, 15, 16, 17, 18, 19,...\u003c/td\u003e\n    \u003c/tr\u003e\n    \u003ctr\u003e\n      \u003cth\u003e3\u003c/th\u003e\n      \u003ctd\u003e2006\u003c/td\u003e\n      \u003ctd\u003e449\u003c/td\u003e\n      \u003ctd\u003e[8, 89, 542, 584]\u003c/td\u003e\n    \u003c/tr\u003e\n    \u003ctr\u003e\n      \u003cth\u003e4\u003c/th\u003e\n      \u003ctd\u003e2008\u003c/td\u003e\n      \u003ctd\u003e12\u003c/td\u003e\n      \u003ctd\u003e[1383]\u003c/td\u003e\n    \u003c/tr\u003e\n  \u003c/tbody\u003e\n\u003c/table\u003e\n\u003c/div\u003e"
          },
          "metadata": {},
          "output_type": "execute_result",
          "execution_count": 86
        }
      ],
      "source": "common_offices \u003d df.groupby([\u0027year\u0027, \u0027office_id\u0027])[\u0027person_id\u0027].apply(list).reset_index()\ncommon_offices.head()",
      "metadata": {
        "pycharm": {
          "metadata": false,
          "name": "#%%\n",
          "is_executing": false
        }
      }
    },
    {
      "cell_type": "code",
      "execution_count": 54,
      "outputs": [],
      "source": "common_offices.to_csv(\u0027data/common_offices.csv\u0027, index\u003dFalse)\n\n",
      "metadata": {
        "pycharm": {
          "metadata": false,
          "name": "#%%\n",
          "is_executing": false
        }
      }
    }
  ],
  "metadata": {
    "language_info": {
      "codemirror_mode": {
        "name": "ipython",
        "version": 2
      },
      "file_extension": ".py",
      "mimetype": "text/x-python",
      "name": "python",
      "nbconvert_exporter": "python",
      "pygments_lexer": "ipython2",
      "version": "2.7.6"
    },
    "kernelspec": {
      "name": "python3",
      "language": "python",
      "display_name": "Python 3"
    }
  },
  "nbformat": 4,
  "nbformat_minor": 0
}