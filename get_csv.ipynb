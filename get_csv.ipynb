{
  "cells": [
    {
      "cell_type": "code",
      "execution_count": 131,
      "outputs": [],
      "source": "import pandas as pd\nimport numpy as np\nimport json\nimport random\nimport itertools\nimport ast\nfrom collections import defaultdict\n%matplotlib inline",
      "metadata": {
        "pycharm": {
          "metadata": false,
          "name": "#%%\n",
          "is_executing": false
        }
      }
    },
    {
      "cell_type": "code",
      "execution_count": 132,
      "outputs": [],
      "source": "dump_fpath \u003d \u0027data/declarations.json\u0027\n\nwith open(dump_fpath) as f:\n    declarations \u003d json.loads(f.read())",
      "metadata": {
        "pycharm": {
          "metadata": false,
          "name": "#%%\n",
          "is_executing": false
        }
      }
    },
    {
      "cell_type": "code",
      "execution_count": 133,
      "outputs": [
        {
          "data": {
            "text/plain": "{\u0027bonds\u0027: [],\n \u0027incomes\u0027: [{\u0027comment\u0027: \u0027\u0027, \u0027relative\u0027: None, \u0027size\u0027: 213487.0},\n  {\u0027comment\u0027: \u0027\u0027,\n   \u0027relative\u0027: {\u0027id\u0027: 2, \u0027name\u0027: \u0027Супруг(а)\u0027},\n   \u0027size\u0027: 398770.0}],\n \u0027main\u0027: {\u0027document_type\u0027: {\u0027id\u0027: 1, \u0027name\u0027: \u0027Антикоррупционная декларация\u0027},\n  \u0027office\u0027: {\u0027id\u0027: 2324,\n   \u0027name\u0027: \u0027Алейский район\u0027,\n   \u0027post\u0027: \u0027Глава Администрации Фрунзенского сельсовета\u0027,\n   \u0027region\u0027: {\u0027id\u0027: 24, \u0027name\u0027: \u0027Алтайский край\u0027},\n   \u0027type\u0027: {\u0027id\u0027: 20, \u0027name\u0027: \u0027Муниципальный, без структуры\u0027},\n   \u0027url\u0027: \u0027http://www.aladm.ru/\u0027},\n  \u0027party\u0027: None,\n  \u0027person\u0027: {\u0027family_name\u0027: \u0027Шипилова\u0027,\n   \u0027given_name\u0027: \u0027Алла\u0027,\n   \u0027id\u0027: 7969,\n   \u0027name\u0027: \u0027Шипилова Алла Николаевна\u0027,\n   \u0027patronymic_name\u0027: \u0027Николаевна\u0027},\n  \u0027year\u0027: 2013},\n \u0027real_estates\u0027: [{\u0027comment\u0027: \u0027\u0027,\n   \u0027country\u0027: \u0027Россия\u0027,\n   \u0027name\u0027: \u0027\u0027,\n   \u0027own_type\u0027: {\u0027id\u0027: 1, \u0027name\u0027: \u0027В собственности\u0027},\n   \u0027region\u0027: None,\n   \u0027relative\u0027: None,\n   \u0027share\u0027: 0.5,\n   \u0027share_type\u0027: {\u0027id\u0027: 2, \u0027name\u0027: \u0027Долевая собственность\u0027},\n   \u0027square\u0027: 3475.0,\n   \u0027type\u0027: {\u0027id\u0027: 1, \u0027name\u0027: \u0027Земельный участок\u0027}},\n  {\u0027comment\u0027: \u0027\u0027,\n   \u0027country\u0027: \u0027Россия\u0027,\n   \u0027name\u0027: \u0027\u0027,\n   \u0027own_type\u0027: {\u0027id\u0027: 1, \u0027name\u0027: \u0027В собственности\u0027},\n   \u0027region\u0027: None,\n   \u0027relative\u0027: None,\n   \u0027share\u0027: 0.5,\n   \u0027share_type\u0027: {\u0027id\u0027: 2, \u0027name\u0027: \u0027Долевая собственность\u0027},\n   \u0027square\u0027: 40.7,\n   \u0027type\u0027: {\u0027id\u0027: 3, \u0027name\u0027: \u0027Жилой дом\u0027}},\n  {\u0027comment\u0027: \u0027\u0027,\n   \u0027country\u0027: \u0027Россия\u0027,\n   \u0027name\u0027: \u0027Земельный пай \u0027,\n   \u0027own_type\u0027: {\u0027id\u0027: 1, \u0027name\u0027: \u0027В собственности\u0027},\n   \u0027region\u0027: None,\n   \u0027relative\u0027: {\u0027id\u0027: 2, \u0027name\u0027: \u0027Супруг(а)\u0027},\n   \u0027share\u0027: 0.02564102564102564,\n   \u0027share_type\u0027: {\u0027id\u0027: 2, \u0027name\u0027: \u0027Долевая собственность\u0027},\n   \u0027square\u0027: 1145.0,\n   \u0027type\u0027: {\u0027id\u0027: 1, \u0027name\u0027: \u0027Земельный участок\u0027}},\n  {\u0027comment\u0027: \u0027\u0027,\n   \u0027country\u0027: \u0027Россия\u0027,\n   \u0027name\u0027: \u0027\u0027,\n   \u0027own_type\u0027: {\u0027id\u0027: 1, \u0027name\u0027: \u0027В собственности\u0027},\n   \u0027region\u0027: None,\n   \u0027relative\u0027: {\u0027id\u0027: 2, \u0027name\u0027: \u0027Супруг(а)\u0027},\n   \u0027share\u0027: 0.5,\n   \u0027share_type\u0027: {\u0027id\u0027: 2, \u0027name\u0027: \u0027Долевая собственность\u0027},\n   \u0027square\u0027: 3475.0,\n   \u0027type\u0027: {\u0027id\u0027: 1, \u0027name\u0027: \u0027Земельный участок\u0027}},\n  {\u0027comment\u0027: \u0027\u0027,\n   \u0027country\u0027: \u0027Россия\u0027,\n   \u0027name\u0027: \u0027Земельный пай\u0027,\n   \u0027own_type\u0027: {\u0027id\u0027: 1, \u0027name\u0027: \u0027В собственности\u0027},\n   \u0027region\u0027: None,\n   \u0027relative\u0027: {\u0027id\u0027: 2, \u0027name\u0027: \u0027Супруг(а)\u0027},\n   \u0027share\u0027: 0.02564102564102564,\n   \u0027share_type\u0027: {\u0027id\u0027: 2, \u0027name\u0027: \u0027Долевая собственность\u0027},\n   \u0027square\u0027: 148692.0,\n   \u0027type\u0027: {\u0027id\u0027: 1, \u0027name\u0027: \u0027Земельный участок\u0027}},\n  {\u0027comment\u0027: \u0027\u0027,\n   \u0027country\u0027: \u0027Россия\u0027,\n   \u0027name\u0027: \u0027Земельный пай \u0027,\n   \u0027own_type\u0027: {\u0027id\u0027: 1, \u0027name\u0027: \u0027В собственности\u0027},\n   \u0027region\u0027: None,\n   \u0027relative\u0027: {\u0027id\u0027: 2, \u0027name\u0027: \u0027Супруг(а)\u0027},\n   \u0027share\u0027: 0.02564102564102564,\n   \u0027share_type\u0027: {\u0027id\u0027: 2, \u0027name\u0027: \u0027Долевая собственность\u0027},\n   \u0027square\u0027: 156058.0,\n   \u0027type\u0027: {\u0027id\u0027: 1, \u0027name\u0027: \u0027Земельный участок\u0027}},\n  {\u0027comment\u0027: \u0027\u0027,\n   \u0027country\u0027: \u0027Россия\u0027,\n   \u0027name\u0027: \u0027Земельный пай \u0027,\n   \u0027own_type\u0027: {\u0027id\u0027: 1, \u0027name\u0027: \u0027В собственности\u0027},\n   \u0027region\u0027: None,\n   \u0027relative\u0027: {\u0027id\u0027: 2, \u0027name\u0027: \u0027Супруг(а)\u0027},\n   \u0027share\u0027: 0.02564102564102564,\n   \u0027share_type\u0027: {\u0027id\u0027: 2, \u0027name\u0027: \u0027Долевая собственность\u0027},\n   \u0027square\u0027: 517088.0,\n   \u0027type\u0027: {\u0027id\u0027: 1, \u0027name\u0027: \u0027Земельный участок\u0027}},\n  {\u0027comment\u0027: \u0027\u0027,\n   \u0027country\u0027: \u0027Россия\u0027,\n   \u0027name\u0027: \u0027Земельный пай \u0027,\n   \u0027own_type\u0027: {\u0027id\u0027: 1, \u0027name\u0027: \u0027В собственности\u0027},\n   \u0027region\u0027: None,\n   \u0027relative\u0027: {\u0027id\u0027: 2, \u0027name\u0027: \u0027Супруг(а)\u0027},\n   \u0027share\u0027: 0.02564102564102564,\n   \u0027share_type\u0027: {\u0027id\u0027: 2, \u0027name\u0027: \u0027Долевая собственность\u0027},\n   \u0027square\u0027: 1601674.0,\n   \u0027type\u0027: {\u0027id\u0027: 1, \u0027name\u0027: \u0027Земельный участок\u0027}},\n  {\u0027comment\u0027: \u0027\u0027,\n   \u0027country\u0027: \u0027Россия\u0027,\n   \u0027name\u0027: \u0027Земельный пай \u0027,\n   \u0027own_type\u0027: {\u0027id\u0027: 1, \u0027name\u0027: \u0027В собственности\u0027},\n   \u0027region\u0027: None,\n   \u0027relative\u0027: {\u0027id\u0027: 2, \u0027name\u0027: \u0027Супруг(а)\u0027},\n   \u0027share\u0027: 0.02564102564102564,\n   \u0027share_type\u0027: {\u0027id\u0027: 2, \u0027name\u0027: \u0027Долевая собственность\u0027},\n   \u0027square\u0027: 3688627.0,\n   \u0027type\u0027: {\u0027id\u0027: 1, \u0027name\u0027: \u0027Земельный участок\u0027}},\n  {\u0027comment\u0027: \u0027\u0027,\n   \u0027country\u0027: \u0027Россия\u0027,\n   \u0027name\u0027: \u0027\u0027,\n   \u0027own_type\u0027: {\u0027id\u0027: 1, \u0027name\u0027: \u0027В собственности\u0027},\n   \u0027region\u0027: None,\n   \u0027relative\u0027: {\u0027id\u0027: 2, \u0027name\u0027: \u0027Супруг(а)\u0027},\n   \u0027share\u0027: 0.5,\n   \u0027share_type\u0027: {\u0027id\u0027: 2, \u0027name\u0027: \u0027Долевая собственность\u0027},\n   \u0027square\u0027: 40.7,\n   \u0027type\u0027: {\u0027id\u0027: 3, \u0027name\u0027: \u0027Жилой дом\u0027}}],\n \u0027savings\u0027: [],\n \u0027spendings\u0027: [],\n \u0027stocks\u0027: [],\n \u0027vehicles\u0027: [{\u0027brand\u0027: {\u0027id\u0027: 1734, \u0027name\u0027: \u00271111\u0027},\n   \u0027comment\u0027: \u0027\u0027,\n   \u0027manufacture_year\u0027: None,\n   \u0027name\u0027: \u0027Ока\u0027,\n   \u0027relative\u0027: {\u0027id\u0027: 2, \u0027name\u0027: \u0027Супруг(а)\u0027},\n   \u0027type\u0027: {\u0027id\u0027: 1, \u0027name\u0027: \u0027Автомобиль легковой\u0027}},\n  {\u0027brand\u0027: {\u0027id\u0027: 728, \u0027name\u0027: \u0027Logo\u0027},\n   \u0027comment\u0027: \u0027\u0027,\n   \u0027manufacture_year\u0027: None,\n   \u0027name\u0027: \u0027\u0027,\n   \u0027relative\u0027: {\u0027id\u0027: 2, \u0027name\u0027: \u0027Супруг(а)\u0027},\n   \u0027type\u0027: {\u0027id\u0027: 1, \u0027name\u0027: \u0027Автомобиль легковой\u0027}}]}"
          },
          "metadata": {},
          "output_type": "execute_result",
          "execution_count": 133
        }
      ],
      "source": "random.choice(declarations)",
      "metadata": {
        "pycharm": {
          "metadata": false,
          "name": "#%%\n",
          "is_executing": false
        }
      }
    },
    {
      "cell_type": "markdown",
      "source": "Total declarations:",
      "metadata": {
        "pycharm": {
          "metadata": false
        }
      }
    },
    {
      "cell_type": "code",
      "execution_count": 134,
      "outputs": [
        {
          "data": {
            "text/plain": "90864"
          },
          "metadata": {},
          "output_type": "execute_result",
          "execution_count": 134
        }
      ],
      "source": "len(declarations)",
      "metadata": {
        "pycharm": {
          "metadata": false,
          "name": "#%%\n",
          "is_executing": false
        }
      }
    },
    {
      "cell_type": "code",
      "execution_count": 135,
      "outputs": [
        {
          "data": {
            "text/plain": "90864"
          },
          "metadata": {},
          "output_type": "execute_result",
          "execution_count": 135
        }
      ],
      "source": "columns \u003d [\u0027person_id\u0027, \u0027person_name\u0027, \u0027year\u0027, \n           \u0027office_id\u0027, \u0027office_name\u0027, \n           \u0027office_type_id\u0027, \u0027office_type_name\u0027,\n           \u0027office_region_id\u0027, \u0027office_region_name\u0027,\n           \u0027income_personal\u0027, \u0027income_relatives\u0027]\n\nrows \u003d []\nfor dec in declarations:\n    row \u003d [\n        dec[\u0027main\u0027][\u0027person\u0027][\u0027id\u0027],\n        dec[\u0027main\u0027][\u0027person\u0027][\u0027name\u0027],\n        dec[\u0027main\u0027][\u0027year\u0027],\n        dec[\u0027main\u0027][\u0027office\u0027][\u0027id\u0027],\n        dec[\u0027main\u0027][\u0027office\u0027][\u0027name\u0027],\n        dec[\u0027main\u0027][\u0027office\u0027][\u0027type\u0027][\u0027id\u0027] if dec[\u0027main\u0027][\u0027office\u0027].get(\u0027type\u0027) else None,\n        dec[\u0027main\u0027][\u0027office\u0027][\u0027type\u0027][\u0027name\u0027] if dec[\u0027main\u0027][\u0027office\u0027].get(\u0027type\u0027) else None,\n        dec[\u0027main\u0027][\u0027office\u0027][\u0027region\u0027][\u0027id\u0027] if dec[\u0027main\u0027][\u0027office\u0027].get(\u0027region\u0027) else None,\n        dec[\u0027main\u0027][\u0027office\u0027][\u0027region\u0027][\u0027name\u0027] if dec[\u0027main\u0027][\u0027office\u0027].get(\u0027region\u0027) else None,\n    ]\n    income_personal_sum \u003d sum([inc[\u0027size\u0027] for inc in dec[\u0027incomes\u0027] if inc[\u0027relative\u0027] is None])\n    income_relatives_sum \u003d sum([inc[\u0027size\u0027] for inc in dec[\u0027incomes\u0027] if inc[\u0027relative\u0027] is not None])\n    # savings_sum \u003d sum([float(sav.split(\u0027руб.\u0027)[0].replace(\u0027,\u0027, \u0027.\u0027).replace(\u0027 \u0027, \u0027\u0027)) for sav in dec[\u0027savings\u0027]])\n    # real_estate_amount \u003d len(dec[\u0027real_estates\u0027])\n    # real_estate_squares_sum \u003d sum([(estate[\u0027square\u0027]  or 0) for estate in dec[\u0027real_estates\u0027]])\n    row +\u003d [income_personal_sum, income_relatives_sum]\n    rows.append(row)\nlen(rows)",
      "metadata": {
        "pycharm": {
          "metadata": false,
          "name": "#%%\n",
          "is_executing": false
        }
      }
    },
    {
      "cell_type": "code",
      "execution_count": 136,
      "outputs": [
        {
          "data": {
            "text/plain": "       person_id                 person_name  year  office_id  \\\n30358          8  Зюганов Геннадий Андреевич  1998         14   \n31970          8  Зюганов Геннадий Андреевич  1999        449   \n127            8  Зюганов Геннадий Андреевич  2006         14   \n1109           8  Зюганов Геннадий Андреевич  2006        449   \n5520           8  Зюганов Геннадий Андреевич  2009         14   \n\n                          office_name  office_type_id  \\\n30358            Государственная Дума               7   \n31970  Президент Российской Федерации               7   \n127              Государственная Дума               7   \n1109   Президент Российской Федерации               7   \n5520             Государственная Дума               7   \n\n                              office_type_name  office_region_id  \\\n30358  Федеральный, без региональной структуры               NaN   \n31970  Федеральный, без региональной структуры               NaN   \n127    Федеральный, без региональной структуры               NaN   \n1109   Федеральный, без региональной структуры               NaN   \n5520   Федеральный, без региональной структуры               NaN   \n\n      office_region_name  income_personal  income_relatives  \n30358               None        124154.00              0.00  \n31970               None        495443.00          10804.00  \n127                 None       1257784.00              0.00  \n1109                None       3445291.61         145376.87  \n5520                None       2075542.33         102279.19  ",
            "text/html": "\u003cdiv\u003e\n\u003cstyle scoped\u003e\n    .dataframe tbody tr th:only-of-type {\n        vertical-align: middle;\n    }\n\n    .dataframe tbody tr th {\n        vertical-align: top;\n    }\n\n    .dataframe thead th {\n        text-align: right;\n    }\n\u003c/style\u003e\n\u003ctable border\u003d\"1\" class\u003d\"dataframe\"\u003e\n  \u003cthead\u003e\n    \u003ctr style\u003d\"text-align: right;\"\u003e\n      \u003cth\u003e\u003c/th\u003e\n      \u003cth\u003eperson_id\u003c/th\u003e\n      \u003cth\u003eperson_name\u003c/th\u003e\n      \u003cth\u003eyear\u003c/th\u003e\n      \u003cth\u003eoffice_id\u003c/th\u003e\n      \u003cth\u003eoffice_name\u003c/th\u003e\n      \u003cth\u003eoffice_type_id\u003c/th\u003e\n      \u003cth\u003eoffice_type_name\u003c/th\u003e\n      \u003cth\u003eoffice_region_id\u003c/th\u003e\n      \u003cth\u003eoffice_region_name\u003c/th\u003e\n      \u003cth\u003eincome_personal\u003c/th\u003e\n      \u003cth\u003eincome_relatives\u003c/th\u003e\n    \u003c/tr\u003e\n  \u003c/thead\u003e\n  \u003ctbody\u003e\n    \u003ctr\u003e\n      \u003cth\u003e30358\u003c/th\u003e\n      \u003ctd\u003e8\u003c/td\u003e\n      \u003ctd\u003eЗюганов Геннадий Андреевич\u003c/td\u003e\n      \u003ctd\u003e1998\u003c/td\u003e\n      \u003ctd\u003e14\u003c/td\u003e\n      \u003ctd\u003eГосударственная Дума\u003c/td\u003e\n      \u003ctd\u003e7\u003c/td\u003e\n      \u003ctd\u003eФедеральный, без региональной структуры\u003c/td\u003e\n      \u003ctd\u003eNaN\u003c/td\u003e\n      \u003ctd\u003eNone\u003c/td\u003e\n      \u003ctd\u003e124154.00\u003c/td\u003e\n      \u003ctd\u003e0.00\u003c/td\u003e\n    \u003c/tr\u003e\n    \u003ctr\u003e\n      \u003cth\u003e31970\u003c/th\u003e\n      \u003ctd\u003e8\u003c/td\u003e\n      \u003ctd\u003eЗюганов Геннадий Андреевич\u003c/td\u003e\n      \u003ctd\u003e1999\u003c/td\u003e\n      \u003ctd\u003e449\u003c/td\u003e\n      \u003ctd\u003eПрезидент Российской Федерации\u003c/td\u003e\n      \u003ctd\u003e7\u003c/td\u003e\n      \u003ctd\u003eФедеральный, без региональной структуры\u003c/td\u003e\n      \u003ctd\u003eNaN\u003c/td\u003e\n      \u003ctd\u003eNone\u003c/td\u003e\n      \u003ctd\u003e495443.00\u003c/td\u003e\n      \u003ctd\u003e10804.00\u003c/td\u003e\n    \u003c/tr\u003e\n    \u003ctr\u003e\n      \u003cth\u003e127\u003c/th\u003e\n      \u003ctd\u003e8\u003c/td\u003e\n      \u003ctd\u003eЗюганов Геннадий Андреевич\u003c/td\u003e\n      \u003ctd\u003e2006\u003c/td\u003e\n      \u003ctd\u003e14\u003c/td\u003e\n      \u003ctd\u003eГосударственная Дума\u003c/td\u003e\n      \u003ctd\u003e7\u003c/td\u003e\n      \u003ctd\u003eФедеральный, без региональной структуры\u003c/td\u003e\n      \u003ctd\u003eNaN\u003c/td\u003e\n      \u003ctd\u003eNone\u003c/td\u003e\n      \u003ctd\u003e1257784.00\u003c/td\u003e\n      \u003ctd\u003e0.00\u003c/td\u003e\n    \u003c/tr\u003e\n    \u003ctr\u003e\n      \u003cth\u003e1109\u003c/th\u003e\n      \u003ctd\u003e8\u003c/td\u003e\n      \u003ctd\u003eЗюганов Геннадий Андреевич\u003c/td\u003e\n      \u003ctd\u003e2006\u003c/td\u003e\n      \u003ctd\u003e449\u003c/td\u003e\n      \u003ctd\u003eПрезидент Российской Федерации\u003c/td\u003e\n      \u003ctd\u003e7\u003c/td\u003e\n      \u003ctd\u003eФедеральный, без региональной структуры\u003c/td\u003e\n      \u003ctd\u003eNaN\u003c/td\u003e\n      \u003ctd\u003eNone\u003c/td\u003e\n      \u003ctd\u003e3445291.61\u003c/td\u003e\n      \u003ctd\u003e145376.87\u003c/td\u003e\n    \u003c/tr\u003e\n    \u003ctr\u003e\n      \u003cth\u003e5520\u003c/th\u003e\n      \u003ctd\u003e8\u003c/td\u003e\n      \u003ctd\u003eЗюганов Геннадий Андреевич\u003c/td\u003e\n      \u003ctd\u003e2009\u003c/td\u003e\n      \u003ctd\u003e14\u003c/td\u003e\n      \u003ctd\u003eГосударственная Дума\u003c/td\u003e\n      \u003ctd\u003e7\u003c/td\u003e\n      \u003ctd\u003eФедеральный, без региональной структуры\u003c/td\u003e\n      \u003ctd\u003eNaN\u003c/td\u003e\n      \u003ctd\u003eNone\u003c/td\u003e\n      \u003ctd\u003e2075542.33\u003c/td\u003e\n      \u003ctd\u003e102279.19\u003c/td\u003e\n    \u003c/tr\u003e\n  \u003c/tbody\u003e\n\u003c/table\u003e\n\u003c/div\u003e"
          },
          "metadata": {},
          "output_type": "execute_result",
          "execution_count": 136
        }
      ],
      "source": "df \u003d pd.DataFrame(rows, columns\u003dcolumns)\ndf \u003d df.sort_values(by\u003d[\u0027person_id\u0027, \u0027year\u0027])\ndf.head()",
      "metadata": {
        "pycharm": {
          "metadata": false,
          "name": "#%%\n",
          "is_executing": false
        }
      }
    },
    {
      "cell_type": "markdown",
      "source": "Total unique persons",
      "metadata": {
        "pycharm": {
          "metadata": false
        }
      }
    },
    {
      "cell_type": "code",
      "execution_count": 137,
      "outputs": [
        {
          "name": "stdout",
          "text": [
            "51909\n"
          ],
          "output_type": "stream"
        }
      ],
      "source": "unique_persons_count \u003d df[\u0027person_id\u0027].unique().shape[0]\nprint(unique_persons_count)",
      "metadata": {
        "pycharm": {
          "metadata": false,
          "name": "#%%\n",
          "is_executing": false
        }
      }
    },
    {
      "cell_type": "markdown",
      "source": "Years",
      "metadata": {
        "pycharm": {
          "metadata": false
        }
      }
    },
    {
      "cell_type": "code",
      "execution_count": 138,
      "outputs": [
        {
          "name": "stdout",
          "text": [
            "1998 2017\n"
          ],
          "output_type": "stream"
        }
      ],
      "source": "print(df.year.min(), df.year.max())",
      "metadata": {
        "pycharm": {
          "metadata": false,
          "name": "#%%\n",
          "is_executing": false
        }
      }
    },
    {
      "cell_type": "code",
      "execution_count": 139,
      "outputs": [
        {
          "data": {
            "text/plain": "2014    24048\n2015    20302\n2016    19608\n2013    12360\n2012     5547\n2011     4063\n2010     3142\n2009     1327\n2006      280\n2008       86\n1998       81\n1999       12\n2017        8\nName: year, dtype: int64"
          },
          "metadata": {},
          "output_type": "execute_result",
          "execution_count": 139
        }
      ],
      "source": "df[\u0027year\u0027].value_counts()",
      "metadata": {
        "pycharm": {
          "metadata": false,
          "name": "#%%\n",
          "is_executing": false
        }
      }
    },
    {
      "cell_type": "markdown",
      "source": "Remove all declarations from years 1998 - 2009, 2017.",
      "metadata": {
        "pycharm": {
          "metadata": false
        }
      }
    },
    {
      "cell_type": "code",
      "execution_count": 140,
      "outputs": [
        {
          "data": {
            "text/plain": "      person_id                 person_name  year  office_id  \\\n5520          8  Зюганов Геннадий Андреевич  2009         14   \n0             8  Зюганов Геннадий Андреевич  2010         14   \n251           8  Зюганов Геннадий Андреевич  2010         14   \n1105          8  Зюганов Геннадий Андреевич  2010        449   \n1213          8  Зюганов Геннадий Андреевич  2011         14   \n\n                         office_name  office_type_id  \\\n5520            Государственная Дума               7   \n0               Государственная Дума               7   \n251             Государственная Дума               7   \n1105  Президент Российской Федерации               7   \n1213            Государственная Дума               7   \n\n                             office_type_name  office_region_id  \\\n5520  Федеральный, без региональной структуры               NaN   \n0     Федеральный, без региональной структуры               NaN   \n251   Федеральный, без региональной структуры               NaN   \n1105  Федеральный, без региональной структуры               NaN   \n1213  Федеральный, без региональной структуры               NaN   \n\n     office_region_name  income_personal  income_relatives  \n5520               None       2075542.33         102279.19  \n0                  None       2126487.00              0.00  \n251                None       2127686.49         168601.94  \n1105               None       7681748.38         349885.97  \n1213               None       2177566.64         137656.24  ",
            "text/html": "\u003cdiv\u003e\n\u003cstyle scoped\u003e\n    .dataframe tbody tr th:only-of-type {\n        vertical-align: middle;\n    }\n\n    .dataframe tbody tr th {\n        vertical-align: top;\n    }\n\n    .dataframe thead th {\n        text-align: right;\n    }\n\u003c/style\u003e\n\u003ctable border\u003d\"1\" class\u003d\"dataframe\"\u003e\n  \u003cthead\u003e\n    \u003ctr style\u003d\"text-align: right;\"\u003e\n      \u003cth\u003e\u003c/th\u003e\n      \u003cth\u003eperson_id\u003c/th\u003e\n      \u003cth\u003eperson_name\u003c/th\u003e\n      \u003cth\u003eyear\u003c/th\u003e\n      \u003cth\u003eoffice_id\u003c/th\u003e\n      \u003cth\u003eoffice_name\u003c/th\u003e\n      \u003cth\u003eoffice_type_id\u003c/th\u003e\n      \u003cth\u003eoffice_type_name\u003c/th\u003e\n      \u003cth\u003eoffice_region_id\u003c/th\u003e\n      \u003cth\u003eoffice_region_name\u003c/th\u003e\n      \u003cth\u003eincome_personal\u003c/th\u003e\n      \u003cth\u003eincome_relatives\u003c/th\u003e\n    \u003c/tr\u003e\n  \u003c/thead\u003e\n  \u003ctbody\u003e\n    \u003ctr\u003e\n      \u003cth\u003e5520\u003c/th\u003e\n      \u003ctd\u003e8\u003c/td\u003e\n      \u003ctd\u003eЗюганов Геннадий Андреевич\u003c/td\u003e\n      \u003ctd\u003e2009\u003c/td\u003e\n      \u003ctd\u003e14\u003c/td\u003e\n      \u003ctd\u003eГосударственная Дума\u003c/td\u003e\n      \u003ctd\u003e7\u003c/td\u003e\n      \u003ctd\u003eФедеральный, без региональной структуры\u003c/td\u003e\n      \u003ctd\u003eNaN\u003c/td\u003e\n      \u003ctd\u003eNone\u003c/td\u003e\n      \u003ctd\u003e2075542.33\u003c/td\u003e\n      \u003ctd\u003e102279.19\u003c/td\u003e\n    \u003c/tr\u003e\n    \u003ctr\u003e\n      \u003cth\u003e0\u003c/th\u003e\n      \u003ctd\u003e8\u003c/td\u003e\n      \u003ctd\u003eЗюганов Геннадий Андреевич\u003c/td\u003e\n      \u003ctd\u003e2010\u003c/td\u003e\n      \u003ctd\u003e14\u003c/td\u003e\n      \u003ctd\u003eГосударственная Дума\u003c/td\u003e\n      \u003ctd\u003e7\u003c/td\u003e\n      \u003ctd\u003eФедеральный, без региональной структуры\u003c/td\u003e\n      \u003ctd\u003eNaN\u003c/td\u003e\n      \u003ctd\u003eNone\u003c/td\u003e\n      \u003ctd\u003e2126487.00\u003c/td\u003e\n      \u003ctd\u003e0.00\u003c/td\u003e\n    \u003c/tr\u003e\n    \u003ctr\u003e\n      \u003cth\u003e251\u003c/th\u003e\n      \u003ctd\u003e8\u003c/td\u003e\n      \u003ctd\u003eЗюганов Геннадий Андреевич\u003c/td\u003e\n      \u003ctd\u003e2010\u003c/td\u003e\n      \u003ctd\u003e14\u003c/td\u003e\n      \u003ctd\u003eГосударственная Дума\u003c/td\u003e\n      \u003ctd\u003e7\u003c/td\u003e\n      \u003ctd\u003eФедеральный, без региональной структуры\u003c/td\u003e\n      \u003ctd\u003eNaN\u003c/td\u003e\n      \u003ctd\u003eNone\u003c/td\u003e\n      \u003ctd\u003e2127686.49\u003c/td\u003e\n      \u003ctd\u003e168601.94\u003c/td\u003e\n    \u003c/tr\u003e\n    \u003ctr\u003e\n      \u003cth\u003e1105\u003c/th\u003e\n      \u003ctd\u003e8\u003c/td\u003e\n      \u003ctd\u003eЗюганов Геннадий Андреевич\u003c/td\u003e\n      \u003ctd\u003e2010\u003c/td\u003e\n      \u003ctd\u003e449\u003c/td\u003e\n      \u003ctd\u003eПрезидент Российской Федерации\u003c/td\u003e\n      \u003ctd\u003e7\u003c/td\u003e\n      \u003ctd\u003eФедеральный, без региональной структуры\u003c/td\u003e\n      \u003ctd\u003eNaN\u003c/td\u003e\n      \u003ctd\u003eNone\u003c/td\u003e\n      \u003ctd\u003e7681748.38\u003c/td\u003e\n      \u003ctd\u003e349885.97\u003c/td\u003e\n    \u003c/tr\u003e\n    \u003ctr\u003e\n      \u003cth\u003e1213\u003c/th\u003e\n      \u003ctd\u003e8\u003c/td\u003e\n      \u003ctd\u003eЗюганов Геннадий Андреевич\u003c/td\u003e\n      \u003ctd\u003e2011\u003c/td\u003e\n      \u003ctd\u003e14\u003c/td\u003e\n      \u003ctd\u003eГосударственная Дума\u003c/td\u003e\n      \u003ctd\u003e7\u003c/td\u003e\n      \u003ctd\u003eФедеральный, без региональной структуры\u003c/td\u003e\n      \u003ctd\u003eNaN\u003c/td\u003e\n      \u003ctd\u003eNone\u003c/td\u003e\n      \u003ctd\u003e2177566.64\u003c/td\u003e\n      \u003ctd\u003e137656.24\u003c/td\u003e\n    \u003c/tr\u003e\n  \u003c/tbody\u003e\n\u003c/table\u003e\n\u003c/div\u003e"
          },
          "metadata": {},
          "output_type": "execute_result",
          "execution_count": 140
        }
      ],
      "source": "df \u003d df[(df.year \u003e\u003d 2009) \u0026 (df.year \u003c\u003d 2016)]\ndf.head()",
      "metadata": {
        "pycharm": {
          "metadata": false,
          "name": "#%%\n",
          "is_executing": false
        }
      }
    },
    {
      "cell_type": "markdown",
      "source": "Declarations count after filtering",
      "metadata": {
        "pycharm": {
          "metadata": false
        }
      }
    },
    {
      "cell_type": "code",
      "execution_count": 141,
      "outputs": [
        {
          "data": {
            "text/plain": "(90397, 11)"
          },
          "metadata": {},
          "output_type": "execute_result",
          "execution_count": 141
        }
      ],
      "source": "df.shape",
      "metadata": {
        "pycharm": {
          "metadata": false,
          "name": "#%%\n",
          "is_executing": false
        }
      }
    },
    {
      "cell_type": "markdown",
      "source": "Unique persons after filtering",
      "metadata": {
        "pycharm": {
          "metadata": false
        }
      }
    },
    {
      "cell_type": "code",
      "execution_count": 142,
      "outputs": [
        {
          "name": "stdout",
          "text": [
            "51855\n"
          ],
          "output_type": "stream"
        }
      ],
      "source": "unique_persons_count \u003d df[\u0027person_id\u0027].unique().shape[0]\nprint(unique_persons_count)",
      "metadata": {
        "pycharm": {
          "metadata": false,
          "name": "#%%\n",
          "is_executing": false
        }
      }
    },
    {
      "cell_type": "code",
      "execution_count": 143,
      "outputs": [],
      "source": "df.to_csv(\u0027data/declarations.csv\u0027, index\u003dFalse)",
      "metadata": {
        "pycharm": {
          "metadata": false,
          "name": "#%%\n",
          "is_executing": false
        }
      }
    },
    {
      "cell_type": "markdown",
      "source": "Count number of times persons worked at the same office in the same year",
      "metadata": {
        "pycharm": {
          "metadata": false
        }
      }
    },
    {
      "cell_type": "code",
      "execution_count": 144,
      "outputs": [],
      "source": "grouped_view \u003d df.groupby([\u0027person_id\u0027, \u0027person_name\u0027, \u0027year\u0027]).first()",
      "metadata": {
        "pycharm": {
          "metadata": false,
          "name": "#%%\n",
          "is_executing": false
        }
      }
    },
    {
      "cell_type": "code",
      "execution_count": 145,
      "outputs": [
        {
          "data": {
            "text/plain": "   year  office_id                                          person_id\n0  2009          1                                       [9133, 9161]\n1  2009          3  [679, 680, 681, 682, 7298, 7299, 7300, 7301, 7...\n2  2009          4                                             [5350]\n3  2009          5                                          [80, 299]\n4  2009          7                                      [1882, 19701]",
            "text/html": "\u003cdiv\u003e\n\u003cstyle scoped\u003e\n    .dataframe tbody tr th:only-of-type {\n        vertical-align: middle;\n    }\n\n    .dataframe tbody tr th {\n        vertical-align: top;\n    }\n\n    .dataframe thead th {\n        text-align: right;\n    }\n\u003c/style\u003e\n\u003ctable border\u003d\"1\" class\u003d\"dataframe\"\u003e\n  \u003cthead\u003e\n    \u003ctr style\u003d\"text-align: right;\"\u003e\n      \u003cth\u003e\u003c/th\u003e\n      \u003cth\u003eyear\u003c/th\u003e\n      \u003cth\u003eoffice_id\u003c/th\u003e\n      \u003cth\u003eperson_id\u003c/th\u003e\n    \u003c/tr\u003e\n  \u003c/thead\u003e\n  \u003ctbody\u003e\n    \u003ctr\u003e\n      \u003cth\u003e0\u003c/th\u003e\n      \u003ctd\u003e2009\u003c/td\u003e\n      \u003ctd\u003e1\u003c/td\u003e\n      \u003ctd\u003e[9133, 9161]\u003c/td\u003e\n    \u003c/tr\u003e\n    \u003ctr\u003e\n      \u003cth\u003e1\u003c/th\u003e\n      \u003ctd\u003e2009\u003c/td\u003e\n      \u003ctd\u003e3\u003c/td\u003e\n      \u003ctd\u003e[679, 680, 681, 682, 7298, 7299, 7300, 7301, 7...\u003c/td\u003e\n    \u003c/tr\u003e\n    \u003ctr\u003e\n      \u003cth\u003e2\u003c/th\u003e\n      \u003ctd\u003e2009\u003c/td\u003e\n      \u003ctd\u003e4\u003c/td\u003e\n      \u003ctd\u003e[5350]\u003c/td\u003e\n    \u003c/tr\u003e\n    \u003ctr\u003e\n      \u003cth\u003e3\u003c/th\u003e\n      \u003ctd\u003e2009\u003c/td\u003e\n      \u003ctd\u003e5\u003c/td\u003e\n      \u003ctd\u003e[80, 299]\u003c/td\u003e\n    \u003c/tr\u003e\n    \u003ctr\u003e\n      \u003cth\u003e4\u003c/th\u003e\n      \u003ctd\u003e2009\u003c/td\u003e\n      \u003ctd\u003e7\u003c/td\u003e\n      \u003ctd\u003e[1882, 19701]\u003c/td\u003e\n    \u003c/tr\u003e\n  \u003c/tbody\u003e\n\u003c/table\u003e\n\u003c/div\u003e"
          },
          "metadata": {},
          "output_type": "execute_result",
          "execution_count": 145
        }
      ],
      "source": "common_offices \u003d df.groupby([\u0027year\u0027, \u0027office_id\u0027])[\u0027person_id\u0027].apply(list).reset_index()\ncommon_offices.head()",
      "metadata": {
        "pycharm": {
          "metadata": false,
          "name": "#%%\n",
          "is_executing": false
        }
      }
    },
    {
      "cell_type": "code",
      "execution_count": 146,
      "outputs": [],
      "source": "common_offices.to_csv(\u0027data/common_offices.csv\u0027, index\u003dFalse)",
      "metadata": {
        "pycharm": {
          "metadata": false,
          "name": "#%%\n",
          "is_executing": false
        }
      }
    },
    {
      "cell_type": "markdown",
      "source": "## Граф связей",
      "metadata": {
        "pycharm": {
          "metadata": false
        }
      }
    },
    {
      "cell_type": "code",
      "execution_count": 147,
      "outputs": [],
      "source": "YEARS \u003d range(2009, 2017)",
      "metadata": {
        "pycharm": {
          "metadata": false,
          "name": "#%%\n",
          "is_executing": false
        }
      }
    },
    {
      "cell_type": "code",
      "execution_count": 148,
      "outputs": [
        {
          "data": {
            "text/plain": "   year  office_id                                          person_id\n0  2009          1                                       [9133, 9161]\n1  2009          3  [679, 680, 681, 682, 7298, 7299, 7300, 7301, 7...\n2  2009          4                                             [5350]\n3  2009          5                                          [80, 299]\n4  2009          7                                      [1882, 19701]",
            "text/html": "\u003cdiv\u003e\n\u003cstyle scoped\u003e\n    .dataframe tbody tr th:only-of-type {\n        vertical-align: middle;\n    }\n\n    .dataframe tbody tr th {\n        vertical-align: top;\n    }\n\n    .dataframe thead th {\n        text-align: right;\n    }\n\u003c/style\u003e\n\u003ctable border\u003d\"1\" class\u003d\"dataframe\"\u003e\n  \u003cthead\u003e\n    \u003ctr style\u003d\"text-align: right;\"\u003e\n      \u003cth\u003e\u003c/th\u003e\n      \u003cth\u003eyear\u003c/th\u003e\n      \u003cth\u003eoffice_id\u003c/th\u003e\n      \u003cth\u003eperson_id\u003c/th\u003e\n    \u003c/tr\u003e\n  \u003c/thead\u003e\n  \u003ctbody\u003e\n    \u003ctr\u003e\n      \u003cth\u003e0\u003c/th\u003e\n      \u003ctd\u003e2009\u003c/td\u003e\n      \u003ctd\u003e1\u003c/td\u003e\n      \u003ctd\u003e[9133, 9161]\u003c/td\u003e\n    \u003c/tr\u003e\n    \u003ctr\u003e\n      \u003cth\u003e1\u003c/th\u003e\n      \u003ctd\u003e2009\u003c/td\u003e\n      \u003ctd\u003e3\u003c/td\u003e\n      \u003ctd\u003e[679, 680, 681, 682, 7298, 7299, 7300, 7301, 7...\u003c/td\u003e\n    \u003c/tr\u003e\n    \u003ctr\u003e\n      \u003cth\u003e2\u003c/th\u003e\n      \u003ctd\u003e2009\u003c/td\u003e\n      \u003ctd\u003e4\u003c/td\u003e\n      \u003ctd\u003e[5350]\u003c/td\u003e\n    \u003c/tr\u003e\n    \u003ctr\u003e\n      \u003cth\u003e3\u003c/th\u003e\n      \u003ctd\u003e2009\u003c/td\u003e\n      \u003ctd\u003e5\u003c/td\u003e\n      \u003ctd\u003e[80, 299]\u003c/td\u003e\n    \u003c/tr\u003e\n    \u003ctr\u003e\n      \u003cth\u003e4\u003c/th\u003e\n      \u003ctd\u003e2009\u003c/td\u003e\n      \u003ctd\u003e7\u003c/td\u003e\n      \u003ctd\u003e[1882, 19701]\u003c/td\u003e\n    \u003c/tr\u003e\n  \u003c/tbody\u003e\n\u003c/table\u003e\n\u003c/div\u003e"
          },
          "metadata": {},
          "output_type": "execute_result",
          "execution_count": 148
        }
      ],
      "source": "common_offices_filtered \u003d common_offices[common_offices[\u0027year\u0027].isin(YEARS)].copy()\ncommon_offices_filtered.head()",
      "metadata": {
        "pycharm": {
          "metadata": false,
          "name": "#%%\n",
          "is_executing": false
        }
      }
    },
    {
      "cell_type": "code",
      "execution_count": 149,
      "outputs": [
        {
          "data": {
            "text/plain": "4591539"
          },
          "metadata": {},
          "output_type": "execute_result",
          "execution_count": 149
        }
      ],
      "source": "def populate_dict(person_id_list, graph_dict):\n    for pair in itertools.combinations(person_id_list, 2):\n        graph_dict[pair] +\u003d 1\nworked_together_dict \u003d defaultdict(int)    \ncommon_offices_filtered[\u0027person_id\u0027].map(lambda person_id_list: populate_dict(person_id_list, worked_together_dict))\nlen(worked_together_dict)",
      "metadata": {
        "pycharm": {
          "metadata": false,
          "name": "#%%\n",
          "is_executing": false
        }
      }
    },
    {
      "cell_type": "code",
      "execution_count": 150,
      "outputs": [],
      "source": "# More or equal to the amount of persons\n# Less than number of all possible pairs\nassert unique_persons_count \u003c\u003d len(worked_together_dict) \u003c\u003d unique_persons_count*(unique_persons_count-1)/2 ",
      "metadata": {
        "pycharm": {
          "metadata": false,
          "name": "#%%\n",
          "is_executing": false
        }
      }
    },
    {
      "cell_type": "code",
      "execution_count": 151,
      "outputs": [],
      "source": "with open(\u0027data/graph.csv\u0027, \u0027w\u0027) as graph_file:\n    graph_file.write(\u0027person1,person2,times_worked_together\\n\u0027)\n    for pair in sorted(worked_together_dict):\n        graph_file.write(\u0027{},{},{}\\n\u0027.format(pair[0], pair[1], worked_together_dict[pair]))",
      "metadata": {
        "pycharm": {
          "metadata": false,
          "name": "#%%\n",
          "is_executing": false
        }
      }
    },
    {
      "cell_type": "markdown",
      "source": "## Справочник доходов депутатов",
      "metadata": {
        "pycharm": {
          "metadata": false
        }
      }
    },
    {
      "cell_type": "code",
      "execution_count": 152,
      "outputs": [],
      "source": "df[\u0027income\u0027] \u003d df[\u0027income_personal\u0027] + df[\u0027income_relatives\u0027]",
      "metadata": {
        "pycharm": {
          "metadata": false,
          "name": "#%%\n",
          "is_executing": false
        }
      }
    },
    {
      "cell_type": "code",
      "execution_count": 153,
      "outputs": [],
      "source": "income_df \u003d df[(df.year \u003e\u003d 2013) \u0026 (df.year \u003c\u003d 2016)].copy()",
      "metadata": {
        "pycharm": {
          "metadata": false,
          "name": "#%%\n",
          "is_executing": false
        }
      }
    },
    {
      "cell_type": "code",
      "execution_count": 154,
      "outputs": [
        {
          "data": {
            "text/plain": "   year  person_id                  person_name  office_id       income\n0  2013          8   Зюганов Геннадий Андреевич         14   3392882.89\n1  2013          9       Алферов Жорес Иванович         14  18133519.25\n2  2013         10   Андреев Андрей Анатольевич         14   4368530.71\n3  2013         12     Афонин Юрий Вячеславович         14   2802081.80\n4  2013         13  Гаврилов Сергей Анатольевич         14   3263364.19",
            "text/html": "\u003cdiv\u003e\n\u003cstyle scoped\u003e\n    .dataframe tbody tr th:only-of-type {\n        vertical-align: middle;\n    }\n\n    .dataframe tbody tr th {\n        vertical-align: top;\n    }\n\n    .dataframe thead th {\n        text-align: right;\n    }\n\u003c/style\u003e\n\u003ctable border\u003d\"1\" class\u003d\"dataframe\"\u003e\n  \u003cthead\u003e\n    \u003ctr style\u003d\"text-align: right;\"\u003e\n      \u003cth\u003e\u003c/th\u003e\n      \u003cth\u003eyear\u003c/th\u003e\n      \u003cth\u003eperson_id\u003c/th\u003e\n      \u003cth\u003eperson_name\u003c/th\u003e\n      \u003cth\u003eoffice_id\u003c/th\u003e\n      \u003cth\u003eincome\u003c/th\u003e\n    \u003c/tr\u003e\n  \u003c/thead\u003e\n  \u003ctbody\u003e\n    \u003ctr\u003e\n      \u003cth\u003e0\u003c/th\u003e\n      \u003ctd\u003e2013\u003c/td\u003e\n      \u003ctd\u003e8\u003c/td\u003e\n      \u003ctd\u003eЗюганов Геннадий Андреевич\u003c/td\u003e\n      \u003ctd\u003e14\u003c/td\u003e\n      \u003ctd\u003e3392882.89\u003c/td\u003e\n    \u003c/tr\u003e\n    \u003ctr\u003e\n      \u003cth\u003e1\u003c/th\u003e\n      \u003ctd\u003e2013\u003c/td\u003e\n      \u003ctd\u003e9\u003c/td\u003e\n      \u003ctd\u003eАлферов Жорес Иванович\u003c/td\u003e\n      \u003ctd\u003e14\u003c/td\u003e\n      \u003ctd\u003e18133519.25\u003c/td\u003e\n    \u003c/tr\u003e\n    \u003ctr\u003e\n      \u003cth\u003e2\u003c/th\u003e\n      \u003ctd\u003e2013\u003c/td\u003e\n      \u003ctd\u003e10\u003c/td\u003e\n      \u003ctd\u003eАндреев Андрей Анатольевич\u003c/td\u003e\n      \u003ctd\u003e14\u003c/td\u003e\n      \u003ctd\u003e4368530.71\u003c/td\u003e\n    \u003c/tr\u003e\n    \u003ctr\u003e\n      \u003cth\u003e3\u003c/th\u003e\n      \u003ctd\u003e2013\u003c/td\u003e\n      \u003ctd\u003e12\u003c/td\u003e\n      \u003ctd\u003eАфонин Юрий Вячеславович\u003c/td\u003e\n      \u003ctd\u003e14\u003c/td\u003e\n      \u003ctd\u003e2802081.80\u003c/td\u003e\n    \u003c/tr\u003e\n    \u003ctr\u003e\n      \u003cth\u003e4\u003c/th\u003e\n      \u003ctd\u003e2013\u003c/td\u003e\n      \u003ctd\u003e13\u003c/td\u003e\n      \u003ctd\u003eГаврилов Сергей Анатольевич\u003c/td\u003e\n      \u003ctd\u003e14\u003c/td\u003e\n      \u003ctd\u003e3263364.19\u003c/td\u003e\n    \u003c/tr\u003e\n  \u003c/tbody\u003e\n\u003c/table\u003e\n\u003c/div\u003e"
          },
          "metadata": {},
          "output_type": "execute_result",
          "execution_count": 154
        }
      ],
      "source": "# Если несколько записей на одного депутата на один год на один офис, то берем первую\nofficials_year \u003d (income_df\n                    .groupby(by\u003d[\u0027year\u0027, \u0027person_id\u0027, \u0027person_name\u0027, \u0027office_id\u0027])[\u0027income\u0027]\n                    .first()\n                    .to_frame(\u0027income\u0027)\n                    .reset_index())\nofficials_year.head()",
      "metadata": {
        "pycharm": {
          "metadata": false,
          "name": "#%%\n",
          "is_executing": false
        }
      }
    },
    {
      "cell_type": "code",
      "execution_count": 155,
      "outputs": [
        {
          "data": {
            "text/plain": "                           person_name       income\nperson_id                                          \n8           Зюганов Геннадий Андреевич  20453218.69\n9               Алферов Жорес Иванович  81462661.75\n10          Андреев Андрей Анатольевич  14475607.50\n12            Афонин Юрий Вячеславович  23774458.69\n13         Гаврилов Сергей Анатольевич  19608057.29",
            "text/html": "\u003cdiv\u003e\n\u003cstyle scoped\u003e\n    .dataframe tbody tr th:only-of-type {\n        vertical-align: middle;\n    }\n\n    .dataframe tbody tr th {\n        vertical-align: top;\n    }\n\n    .dataframe thead th {\n        text-align: right;\n    }\n\u003c/style\u003e\n\u003ctable border\u003d\"1\" class\u003d\"dataframe\"\u003e\n  \u003cthead\u003e\n    \u003ctr style\u003d\"text-align: right;\"\u003e\n      \u003cth\u003e\u003c/th\u003e\n      \u003cth\u003eperson_name\u003c/th\u003e\n      \u003cth\u003eincome\u003c/th\u003e\n    \u003c/tr\u003e\n    \u003ctr\u003e\n      \u003cth\u003eperson_id\u003c/th\u003e\n      \u003cth\u003e\u003c/th\u003e\n      \u003cth\u003e\u003c/th\u003e\n    \u003c/tr\u003e\n  \u003c/thead\u003e\n  \u003ctbody\u003e\n    \u003ctr\u003e\n      \u003cth\u003e8\u003c/th\u003e\n      \u003ctd\u003eЗюганов Геннадий Андреевич\u003c/td\u003e\n      \u003ctd\u003e20453218.69\u003c/td\u003e\n    \u003c/tr\u003e\n    \u003ctr\u003e\n      \u003cth\u003e9\u003c/th\u003e\n      \u003ctd\u003eАлферов Жорес Иванович\u003c/td\u003e\n      \u003ctd\u003e81462661.75\u003c/td\u003e\n    \u003c/tr\u003e\n    \u003ctr\u003e\n      \u003cth\u003e10\u003c/th\u003e\n      \u003ctd\u003eАндреев Андрей Анатольевич\u003c/td\u003e\n      \u003ctd\u003e14475607.50\u003c/td\u003e\n    \u003c/tr\u003e\n    \u003ctr\u003e\n      \u003cth\u003e12\u003c/th\u003e\n      \u003ctd\u003eАфонин Юрий Вячеславович\u003c/td\u003e\n      \u003ctd\u003e23774458.69\u003c/td\u003e\n    \u003c/tr\u003e\n    \u003ctr\u003e\n      \u003cth\u003e13\u003c/th\u003e\n      \u003ctd\u003eГаврилов Сергей Анатольевич\u003c/td\u003e\n      \u003ctd\u003e19608057.29\u003c/td\u003e\n    \u003c/tr\u003e\n  \u003c/tbody\u003e\n\u003c/table\u003e\n\u003c/div\u003e"
          },
          "metadata": {},
          "output_type": "execute_result",
          "execution_count": 155
        }
      ],
      "source": "# Суммируем доход в разных офисах\nofficials_income \u003d (officials_year\n                    .groupby(by\u003d[\u0027person_id\u0027, \u0027person_name\u0027])[\u0027income\u0027]\n                    .sum()                    \n                    .to_frame(\u0027income\u0027)\n                    .reset_index())\nofficials_income \u003d officials_income.set_index(\u0027person_id\u0027)\nofficials_income.head()",
      "metadata": {
        "pycharm": {
          "metadata": false,
          "name": "#%%\n",
          "is_executing": false
        }
      }
    },
    {
      "cell_type": "code",
      "execution_count": 156,
      "outputs": [],
      "source": "officials_income.to_json(\u0027data/officials_income.json\u0027, orient\u003d\u0027index\u0027, force_ascii\u003dFalse, double_precision\u003d2)\nofficials_income.to_csv(\u0027data/officials_income.csv\u0027)",
      "metadata": {
        "pycharm": {
          "metadata": false,
          "name": "#%%\n",
          "is_executing": false
        }
      }
    },
    {
      "cell_type": "code",
      "execution_count": null,
      "outputs": [],
      "source": "\n",
      "metadata": {
        "pycharm": {
          "metadata": false,
          "name": "#%%\n"
        }
      }
    }
  ],
  "metadata": {
    "kernelspec": {
      "display_name": "Python 3",
      "language": "python",
      "name": "python3"
    },
    "language_info": {
      "codemirror_mode": {
        "name": "ipython",
        "version": 3
      },
      "file_extension": ".py",
      "mimetype": "text/x-python",
      "name": "python",
      "nbconvert_exporter": "python",
      "pygments_lexer": "ipython3",
      "version": "3.6.4"
    },
    "stem_cell": {
      "cell_type": "raw",
      "source": "",
      "metadata": {
        "pycharm": {
          "metadata": false
        }
      }
    }
  },
  "nbformat": 4,
  "nbformat_minor": 1
}