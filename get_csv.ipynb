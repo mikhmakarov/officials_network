{
  "cells": [
    {
      "cell_type": "code",
      "execution_count": 38,
      "outputs": [],
      "source": "import pandas as pd\nimport numpy as np\nimport json\nimport random\nimport itertools\nimport ast\nfrom collections import defaultdict\n%matplotlib inline",
      "metadata": {
        "pycharm": {
          "metadata": false,
          "name": "#%%\n",
          "is_executing": false
        }
      }
    },
    {
      "cell_type": "code",
      "execution_count": 39,
      "outputs": [],
      "source": "dump_fpath \u003d \u0027data/declarations.json\u0027\n\nwith open(dump_fpath) as f:\n    declarations \u003d json.loads(f.read())",
      "metadata": {
        "pycharm": {
          "metadata": false,
          "name": "#%%\n",
          "is_executing": false
        }
      }
    },
    {
      "cell_type": "code",
      "execution_count": null,
      "outputs": [
        {
          "data": {
            "text/plain": "{\u0027bonds\u0027: [],\n \u0027incomes\u0027: [{\u0027comment\u0027: \u0027\u0027, \u0027relative\u0027: None, \u0027size\u0027: 879178.51},\n  {\u0027comment\u0027: \u0027\u0027,\n   \u0027relative\u0027: {\u0027id\u0027: 2, \u0027name\u0027: \u0027Супруг(а)\u0027},\n   \u0027size\u0027: 724000.0}],\n \u0027main\u0027: {\u0027document_type\u0027: {\u0027id\u0027: 1, \u0027name\u0027: \u0027Антикоррупционная декларация\u0027},\n  \u0027office\u0027: {\u0027id\u0027: 3954,\n   \u0027name\u0027: \u0027ГУФСИН Самарская область\u0027,\n   \u0027post\u0027: \u0027начальник ФКУ ОКС ГУФСИН России по Самарской области\u0027,\n   \u0027region\u0027: {\u0027id\u0027: 77, \u0027name\u0027: \u0027Самарская область\u0027},\n   \u0027type\u0027: {\u0027id\u0027: 7, \u0027name\u0027: \u0027Федеральный, без региональной структуры\u0027},\n   \u0027url\u0027: \u0027http://www.63.fsin.su/\u0027},\n  \u0027party\u0027: None,\n  \u0027person\u0027: {\u0027family_name\u0027: \u0027Жарков\u0027,\n   \u0027given_name\u0027: \u0027И.Н.\u0027,\n   \u0027id\u0027: 34273,\n   \u0027name\u0027: \u0027Жарков И.Н. \u0027,\n   \u0027patronymic_name\u0027: \u0027\u0027},\n  \u0027year\u0027: 2013},\n \u0027real_estates\u0027: [{\u0027comment\u0027: \u0027\u0027,\n   \u0027country\u0027: \u0027Россия\u0027,\n   \u0027name\u0027: \u0027\u0027,\n   \u0027own_type\u0027: {\u0027id\u0027: 1, \u0027name\u0027: \u0027В собственности\u0027},\n   \u0027region\u0027: None,\n   \u0027relative\u0027: None,\n   \u0027share\u0027: 0.1111111111111111,\n   \u0027share_type\u0027: {\u0027id\u0027: 2, \u0027name\u0027: \u0027Долевая собственность\u0027},\n   \u0027square\u0027: 42.7,\n   \u0027type\u0027: {\u0027id\u0027: 4, \u0027name\u0027: \u0027Квартира\u0027}},\n  {\u0027comment\u0027: \u0027\u0027,\n   \u0027country\u0027: \u0027Россия\u0027,\n   \u0027name\u0027: \u0027\u0027,\n   \u0027own_type\u0027: {\u0027id\u0027: 1, \u0027name\u0027: \u0027В собственности\u0027},\n   \u0027region\u0027: None,\n   \u0027relative\u0027: None,\n   \u0027share\u0027: 0.3333333333333333,\n   \u0027share_type\u0027: {\u0027id\u0027: 2, \u0027name\u0027: \u0027Долевая собственность\u0027},\n   \u0027square\u0027: 54.6,\n   \u0027type\u0027: {\u0027id\u0027: 4, \u0027name\u0027: \u0027Квартира\u0027}},\n  {\u0027comment\u0027: \u0027\u0027,\n   \u0027country\u0027: \u0027Россия\u0027,\n   \u0027name\u0027: \u0027\u0027,\n   \u0027own_type\u0027: {\u0027id\u0027: 1, \u0027name\u0027: \u0027В собственности\u0027},\n   \u0027region\u0027: None,\n   \u0027relative\u0027: None,\n   \u0027share\u0027: 0.3333333333333333,\n   \u0027share_type\u0027: {\u0027id\u0027: 2, \u0027name\u0027: \u0027Долевая собственность\u0027},\n   \u0027square\u0027: 69.6,\n   \u0027type\u0027: {\u0027id\u0027: 4, \u0027name\u0027: \u0027Квартира\u0027}},\n  {\u0027comment\u0027: \u0027\u0027,\n   \u0027country\u0027: \u0027Россия\u0027,\n   \u0027name\u0027: \u0027\u0027,\n   \u0027own_type\u0027: {\u0027id\u0027: 1, \u0027name\u0027: \u0027В собственности\u0027},\n   \u0027region\u0027: None,\n   \u0027relative\u0027: {\u0027id\u0027: 2, \u0027name\u0027: \u0027Супруг(а)\u0027},\n   \u0027share\u0027: None,\n   \u0027share_type\u0027: {\u0027id\u0027: 1, \u0027name\u0027: \u0027Индивидуальная\u0027},\n   \u0027square\u0027: 500.0,\n   \u0027type\u0027: {\u0027id\u0027: 1, \u0027name\u0027: \u0027Земельный участок\u0027}},\n  {\u0027comment\u0027: \u0027\u0027,\n   \u0027country\u0027: \u0027Россия\u0027,\n   \u0027name\u0027: \u0027\u0027,\n   \u0027own_type\u0027: {\u0027id\u0027: 1, \u0027name\u0027: \u0027В собственности\u0027},\n   \u0027region\u0027: None,\n   \u0027relative\u0027: {\u0027id\u0027: 2, \u0027name\u0027: \u0027Супруг(а)\u0027},\n   \u0027share\u0027: 0.3333333333333333,\n   \u0027share_type\u0027: {\u0027id\u0027: 2, \u0027name\u0027: \u0027Долевая собственность\u0027},\n   \u0027square\u0027: 54.6,\n   \u0027type\u0027: {\u0027id\u0027: 4, \u0027name\u0027: \u0027Квартира\u0027}}],\n \u0027savings\u0027: [],\n \u0027spendings\u0027: [],\n \u0027stocks\u0027: [],\n \u0027vehicles\u0027: [{\u0027brand\u0027: {\u0027id\u0027: 2121, \u0027name\u0027: \u0027Duster\u0027},\n   \u0027comment\u0027: \u0027\u0027,\n   \u0027manufacture_year\u0027: None,\n   \u0027name\u0027: \u0027\u0027,\n   \u0027relative\u0027: None,\n   \u0027type\u0027: {\u0027id\u0027: 1, \u0027name\u0027: \u0027Автомобиль легковой\u0027}},\n  {\u0027brand\u0027: None,\n   \u0027comment\u0027: \u0027\u0027,\n   \u0027manufacture_year\u0027: None,\n   \u0027name\u0027: \u0027автоприцеп В1024\u0027,\n   \u0027relative\u0027: None,\n   \u0027type\u0027: {\u0027id\u0027: 3, \u0027name\u0027: \u0027Автоприцеп\u0027}}]}"
          },
          "metadata": {},
          "output_type": "execute_result",
          "execution_count": 40
        }
      ],
      "source": "random.choice(declarations)",
      "metadata": {
        "pycharm": {
          "metadata": false,
          "name": "#%%\n",
          "is_executing": true
        }
      }
    },
    {
      "cell_type": "markdown",
      "source": "Total declarations:",
      "metadata": {
        "pycharm": {
          "metadata": false
        }
      }
    },
    {
      "cell_type": "code",
      "execution_count": 41,
      "outputs": [
        {
          "data": {
            "text/plain": "90864"
          },
          "metadata": {},
          "output_type": "execute_result",
          "execution_count": 41
        }
      ],
      "source": "len(declarations)",
      "metadata": {
        "pycharm": {
          "metadata": false,
          "name": "#%%\n",
          "is_executing": false
        }
      }
    },
    {
      "cell_type": "code",
      "execution_count": 45,
      "outputs": [
        {
          "data": {
            "text/plain": "90864"
          },
          "metadata": {},
          "output_type": "execute_result",
          "execution_count": 45
        }
      ],
      "source": "columns \u003d [\u0027document_type\u0027,\n            \u0027party\u0027,\n            \u0027person_id\u0027, \u0027person_name\u0027, \u0027year\u0027, \n           \u0027office_id\u0027, \u0027office_name\u0027, \n           \u0027office_post\u0027,\n           \u0027office_type_id\u0027, \u0027office_type_name\u0027,\n           \u0027office_region_id\u0027, \u0027office_region_name\u0027,\n           \u0027income_personal\u0027, \u0027income_relatives\u0027,\n           \u0027savings\u0027,\n           \u0027real_estate_amount\u0027, \u0027real_estate_squares\u0027]\n\nrows \u003d []\nfor dec in declarations:\n    row \u003d [\n        dec[\u0027main\u0027][\u0027document_type\u0027][\u0027name\u0027],\n        dec[\u0027main\u0027][\u0027party\u0027][\u0027name\u0027] if dec[\u0027main\u0027][\u0027party\u0027] else None,\n        dec[\u0027main\u0027][\u0027person\u0027][\u0027id\u0027],\n        dec[\u0027main\u0027][\u0027person\u0027][\u0027name\u0027],\n        dec[\u0027main\u0027][\u0027year\u0027],\n        dec[\u0027main\u0027][\u0027office\u0027][\u0027id\u0027],\n        dec[\u0027main\u0027][\u0027office\u0027][\u0027name\u0027],\n        dec[\u0027main\u0027][\u0027office\u0027][\u0027post\u0027],\n        dec[\u0027main\u0027][\u0027office\u0027][\u0027type\u0027][\u0027id\u0027] if dec[\u0027main\u0027][\u0027office\u0027].get(\u0027type\u0027) else None,\n        dec[\u0027main\u0027][\u0027office\u0027][\u0027type\u0027][\u0027name\u0027] if dec[\u0027main\u0027][\u0027office\u0027].get(\u0027type\u0027) else None,\n        dec[\u0027main\u0027][\u0027office\u0027][\u0027region\u0027][\u0027id\u0027] if dec[\u0027main\u0027][\u0027office\u0027].get(\u0027region\u0027) else None,\n        dec[\u0027main\u0027][\u0027office\u0027][\u0027region\u0027][\u0027name\u0027] if dec[\u0027main\u0027][\u0027office\u0027].get(\u0027region\u0027) else None,\n    ]\n    income_personal_sum \u003d sum([inc[\u0027size\u0027] for inc in dec[\u0027incomes\u0027] if inc[\u0027relative\u0027] is None])\n    income_relatives_sum \u003d sum([inc[\u0027size\u0027] for inc in dec[\u0027incomes\u0027] if inc[\u0027relative\u0027] is not None])\n    savings_sum \u003d sum([float(sav.split(\u0027руб.\u0027)[0].replace(\u0027,\u0027, \u0027.\u0027).replace(\u0027 \u0027, \u0027\u0027)) for sav in dec[\u0027savings\u0027]])\n    real_estate_amount \u003d len(dec[\u0027real_estates\u0027])\n    real_estate_squares_sum \u003d sum([(estate[\u0027square\u0027]  or 0) for estate in dec[\u0027real_estates\u0027]])\n    row +\u003d [income_personal_sum, income_relatives_sum]\n    row +\u003d [savings_sum, real_estate_amount, real_estate_squares_sum]\n    rows.append(row)\nlen(rows)",
      "metadata": {
        "pycharm": {
          "metadata": false,
          "name": "#%%\n",
          "is_executing": false
        }
      }
    },
    {
      "cell_type": "code",
      "execution_count": 46,
      "outputs": [
        {
          "data": {
            "text/plain": "                      document_type party  person_id  \\\n30358       Предвыборная декларация  КПРФ          8   \n31970       Предвыборная декларация  КПРФ          8   \n127         Предвыборная декларация  КПРФ          8   \n1109        Предвыборная декларация  КПРФ          8   \n5520   Антикоррупционная декларация  КПРФ          8   \n\n                      person_name  year  office_id  \\\n30358  Зюганов Геннадий Андреевич  1998         14   \n31970  Зюганов Геннадий Андреевич  1999        449   \n127    Зюганов Геннадий Андреевич  2006         14   \n1109   Зюганов Геннадий Андреевич  2006        449   \n5520   Зюганов Геннадий Андреевич  2009         14   \n\n                          office_name  \\\n30358            Государственная Дума   \n31970  Президент Российской Федерации   \n127              Государственная Дума   \n1109   Президент Российской Федерации   \n5520             Государственная Дума   \n\n                                             office_post  office_type_id  \\\n30358  Кандидат в депутаты государственной думы от из...               7   \n31970                Кандидат на должность президента РФ               7   \n127                                                                    7   \n1109                      кандидат на пост Президента РФ               7   \n5520                  Член комитета Государственной Думы               7   \n\n                              office_type_name  office_region_id  \\\n30358  Федеральный, без региональной структуры               NaN   \n31970  Федеральный, без региональной структуры               NaN   \n127    Федеральный, без региональной структуры               NaN   \n1109   Федеральный, без региональной структуры               NaN   \n5520   Федеральный, без региональной структуры               NaN   \n\n      office_region_name  income_personal  income_relatives    savings  \\\n30358               None        124154.00              0.00       0.00   \n31970               None        495443.00          10804.00       0.00   \n127                 None       1257784.00              0.00  141740.91   \n1109                None       3445291.61         145376.87  400490.32   \n5520                None       2075542.33         102279.19       0.00   \n\n       real_estate_amount  real_estate_squares  \n30358                   1                150.0  \n31970                   3                252.7  \n127                     1                167.4  \n1109                    2                281.3  \n5520                    3                448.7  ",
            "text/html": "\u003cdiv\u003e\n\u003cstyle scoped\u003e\n    .dataframe tbody tr th:only-of-type {\n        vertical-align: middle;\n    }\n\n    .dataframe tbody tr th {\n        vertical-align: top;\n    }\n\n    .dataframe thead th {\n        text-align: right;\n    }\n\u003c/style\u003e\n\u003ctable border\u003d\"1\" class\u003d\"dataframe\"\u003e\n  \u003cthead\u003e\n    \u003ctr style\u003d\"text-align: right;\"\u003e\n      \u003cth\u003e\u003c/th\u003e\n      \u003cth\u003edocument_type\u003c/th\u003e\n      \u003cth\u003eparty\u003c/th\u003e\n      \u003cth\u003eperson_id\u003c/th\u003e\n      \u003cth\u003eperson_name\u003c/th\u003e\n      \u003cth\u003eyear\u003c/th\u003e\n      \u003cth\u003eoffice_id\u003c/th\u003e\n      \u003cth\u003eoffice_name\u003c/th\u003e\n      \u003cth\u003eoffice_post\u003c/th\u003e\n      \u003cth\u003eoffice_type_id\u003c/th\u003e\n      \u003cth\u003eoffice_type_name\u003c/th\u003e\n      \u003cth\u003eoffice_region_id\u003c/th\u003e\n      \u003cth\u003eoffice_region_name\u003c/th\u003e\n      \u003cth\u003eincome_personal\u003c/th\u003e\n      \u003cth\u003eincome_relatives\u003c/th\u003e\n      \u003cth\u003esavings\u003c/th\u003e\n      \u003cth\u003ereal_estate_amount\u003c/th\u003e\n      \u003cth\u003ereal_estate_squares\u003c/th\u003e\n    \u003c/tr\u003e\n  \u003c/thead\u003e\n  \u003ctbody\u003e\n    \u003ctr\u003e\n      \u003cth\u003e30358\u003c/th\u003e\n      \u003ctd\u003eПредвыборная декларация\u003c/td\u003e\n      \u003ctd\u003eКПРФ\u003c/td\u003e\n      \u003ctd\u003e8\u003c/td\u003e\n      \u003ctd\u003eЗюганов Геннадий Андреевич\u003c/td\u003e\n      \u003ctd\u003e1998\u003c/td\u003e\n      \u003ctd\u003e14\u003c/td\u003e\n      \u003ctd\u003eГосударственная Дума\u003c/td\u003e\n      \u003ctd\u003eКандидат в депутаты государственной думы от из...\u003c/td\u003e\n      \u003ctd\u003e7\u003c/td\u003e\n      \u003ctd\u003eФедеральный, без региональной структуры\u003c/td\u003e\n      \u003ctd\u003eNaN\u003c/td\u003e\n      \u003ctd\u003eNone\u003c/td\u003e\n      \u003ctd\u003e124154.00\u003c/td\u003e\n      \u003ctd\u003e0.00\u003c/td\u003e\n      \u003ctd\u003e0.00\u003c/td\u003e\n      \u003ctd\u003e1\u003c/td\u003e\n      \u003ctd\u003e150.0\u003c/td\u003e\n    \u003c/tr\u003e\n    \u003ctr\u003e\n      \u003cth\u003e31970\u003c/th\u003e\n      \u003ctd\u003eПредвыборная декларация\u003c/td\u003e\n      \u003ctd\u003eКПРФ\u003c/td\u003e\n      \u003ctd\u003e8\u003c/td\u003e\n      \u003ctd\u003eЗюганов Геннадий Андреевич\u003c/td\u003e\n      \u003ctd\u003e1999\u003c/td\u003e\n      \u003ctd\u003e449\u003c/td\u003e\n      \u003ctd\u003eПрезидент Российской Федерации\u003c/td\u003e\n      \u003ctd\u003eКандидат на должность президента РФ\u003c/td\u003e\n      \u003ctd\u003e7\u003c/td\u003e\n      \u003ctd\u003eФедеральный, без региональной структуры\u003c/td\u003e\n      \u003ctd\u003eNaN\u003c/td\u003e\n      \u003ctd\u003eNone\u003c/td\u003e\n      \u003ctd\u003e495443.00\u003c/td\u003e\n      \u003ctd\u003e10804.00\u003c/td\u003e\n      \u003ctd\u003e0.00\u003c/td\u003e\n      \u003ctd\u003e3\u003c/td\u003e\n      \u003ctd\u003e252.7\u003c/td\u003e\n    \u003c/tr\u003e\n    \u003ctr\u003e\n      \u003cth\u003e127\u003c/th\u003e\n      \u003ctd\u003eПредвыборная декларация\u003c/td\u003e\n      \u003ctd\u003eКПРФ\u003c/td\u003e\n      \u003ctd\u003e8\u003c/td\u003e\n      \u003ctd\u003eЗюганов Геннадий Андреевич\u003c/td\u003e\n      \u003ctd\u003e2006\u003c/td\u003e\n      \u003ctd\u003e14\u003c/td\u003e\n      \u003ctd\u003eГосударственная Дума\u003c/td\u003e\n      \u003ctd\u003e\u003c/td\u003e\n      \u003ctd\u003e7\u003c/td\u003e\n      \u003ctd\u003eФедеральный, без региональной структуры\u003c/td\u003e\n      \u003ctd\u003eNaN\u003c/td\u003e\n      \u003ctd\u003eNone\u003c/td\u003e\n      \u003ctd\u003e1257784.00\u003c/td\u003e\n      \u003ctd\u003e0.00\u003c/td\u003e\n      \u003ctd\u003e141740.91\u003c/td\u003e\n      \u003ctd\u003e1\u003c/td\u003e\n      \u003ctd\u003e167.4\u003c/td\u003e\n    \u003c/tr\u003e\n    \u003ctr\u003e\n      \u003cth\u003e1109\u003c/th\u003e\n      \u003ctd\u003eПредвыборная декларация\u003c/td\u003e\n      \u003ctd\u003eКПРФ\u003c/td\u003e\n      \u003ctd\u003e8\u003c/td\u003e\n      \u003ctd\u003eЗюганов Геннадий Андреевич\u003c/td\u003e\n      \u003ctd\u003e2006\u003c/td\u003e\n      \u003ctd\u003e449\u003c/td\u003e\n      \u003ctd\u003eПрезидент Российской Федерации\u003c/td\u003e\n      \u003ctd\u003eкандидат на пост Президента РФ\u003c/td\u003e\n      \u003ctd\u003e7\u003c/td\u003e\n      \u003ctd\u003eФедеральный, без региональной структуры\u003c/td\u003e\n      \u003ctd\u003eNaN\u003c/td\u003e\n      \u003ctd\u003eNone\u003c/td\u003e\n      \u003ctd\u003e3445291.61\u003c/td\u003e\n      \u003ctd\u003e145376.87\u003c/td\u003e\n      \u003ctd\u003e400490.32\u003c/td\u003e\n      \u003ctd\u003e2\u003c/td\u003e\n      \u003ctd\u003e281.3\u003c/td\u003e\n    \u003c/tr\u003e\n    \u003ctr\u003e\n      \u003cth\u003e5520\u003c/th\u003e\n      \u003ctd\u003eАнтикоррупционная декларация\u003c/td\u003e\n      \u003ctd\u003eКПРФ\u003c/td\u003e\n      \u003ctd\u003e8\u003c/td\u003e\n      \u003ctd\u003eЗюганов Геннадий Андреевич\u003c/td\u003e\n      \u003ctd\u003e2009\u003c/td\u003e\n      \u003ctd\u003e14\u003c/td\u003e\n      \u003ctd\u003eГосударственная Дума\u003c/td\u003e\n      \u003ctd\u003eЧлен комитета Государственной Думы\u003c/td\u003e\n      \u003ctd\u003e7\u003c/td\u003e\n      \u003ctd\u003eФедеральный, без региональной структуры\u003c/td\u003e\n      \u003ctd\u003eNaN\u003c/td\u003e\n      \u003ctd\u003eNone\u003c/td\u003e\n      \u003ctd\u003e2075542.33\u003c/td\u003e\n      \u003ctd\u003e102279.19\u003c/td\u003e\n      \u003ctd\u003e0.00\u003c/td\u003e\n      \u003ctd\u003e3\u003c/td\u003e\n      \u003ctd\u003e448.7\u003c/td\u003e\n    \u003c/tr\u003e\n  \u003c/tbody\u003e\n\u003c/table\u003e\n\u003c/div\u003e"
          },
          "metadata": {},
          "output_type": "execute_result",
          "execution_count": 46
        }
      ],
      "source": "df \u003d pd.DataFrame(rows, columns\u003dcolumns)\ndf \u003d df.sort_values(by\u003d[\u0027person_id\u0027, \u0027year\u0027])\ndf.head()",
      "metadata": {
        "pycharm": {
          "metadata": false,
          "name": "#%%\n",
          "is_executing": false
        }
      }
    },
    {
      "cell_type": "code",
      "execution_count": 47,
      "outputs": [],
      "source": "df.to_csv(\u0027data/declarations_raw.csv\u0027, index\u003dFalse)",
      "metadata": {
        "pycharm": {
          "metadata": false,
          "name": "#%%\n",
          "is_executing": false
        }
      }
    },
    {
      "cell_type": "code",
      "execution_count": null,
      "outputs": [],
      "source": "",
      "metadata": {
        "pycharm": {
          "metadata": false,
          "name": "#%%\n",
          "is_executing": true
        }
      }
    },
    {
      "cell_type": "code",
      "execution_count": null,
      "outputs": [],
      "source": "\n",
      "metadata": {
        "pycharm": {
          "metadata": false,
          "name": "#%%\n"
        }
      }
    }
  ],
  "metadata": {
    "kernelspec": {
      "display_name": "Python 3",
      "language": "python",
      "name": "python3"
    },
    "language_info": {
      "codemirror_mode": {
        "name": "ipython",
        "version": 3
      },
      "file_extension": ".py",
      "mimetype": "text/x-python",
      "name": "python",
      "nbconvert_exporter": "python",
      "pygments_lexer": "ipython3",
      "version": "3.6.4"
    },
    "stem_cell": {
      "cell_type": "raw",
      "source": "",
      "metadata": {
        "pycharm": {
          "metadata": false
        }
      }
    }
  },
  "nbformat": 4,
  "nbformat_minor": 1
}