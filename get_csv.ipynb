{
 "cells": [
  {
   "cell_type": "code",
   "execution_count": 1,
   "metadata": {
    "pycharm": {
     "is_executing": false,
     "metadata": false,
     "name": "#%%\n"
    }
   },
   "outputs": [],
   "source": [
    "import pandas as pd\n",
    "import numpy as np\n",
    "import json\n",
    "import random\n",
    "import itertools\n",
    "import ast\n",
    "from collections import defaultdict\n",
    "%matplotlib inline"
   ]
  },
  {
   "cell_type": "code",
   "execution_count": 2,
   "metadata": {
    "pycharm": {
     "is_executing": false,
     "metadata": false,
     "name": "#%%\n"
    }
   },
   "outputs": [],
   "source": [
    "dump_fpath = 'data/declarations.json'\n",
    "\n",
    "with open(dump_fpath) as f:\n",
    "    declarations = json.loads(f.read())"
   ]
  },
  {
   "cell_type": "code",
   "execution_count": 3,
   "metadata": {
    "pycharm": {
     "is_executing": false,
     "metadata": false,
     "name": "#%%\n"
    }
   },
   "outputs": [
    {
     "data": {
      "text/plain": [
       "{'bonds': [],\n",
       " 'incomes': [{'comment': '', 'relative': None, 'size': 2272600.0}],\n",
       " 'main': {'document_type': {'id': 1, 'name': 'Антикоррупционная декларация'},\n",
       "  'office': {'id': 698,\n",
       "   'name': 'Арбитражный суд Ставропольского края',\n",
       "   'post': 'Заместитель председателя суда',\n",
       "   'region': {'id': 81, 'name': 'Ставропольский край'},\n",
       "   'type': {'id': 18, 'name': 'Региональный, без структуры'},\n",
       "   'url': 'http://www.stavropol.arbitr.ru/'},\n",
       "  'party': None,\n",
       "  'person': {'family_name': 'Лысенко',\n",
       "   'given_name': 'Лариса',\n",
       "   'id': 27676,\n",
       "   'name': 'Лысенко Лариса Анатольевна',\n",
       "   'patronymic_name': 'Анатольевна'},\n",
       "  'year': 2015},\n",
       " 'real_estates': [{'comment': '',\n",
       "   'country': 'Россия',\n",
       "   'name': 'Квартира',\n",
       "   'own_type': {'id': 1, 'name': 'В собственности'},\n",
       "   'region': None,\n",
       "   'relative': None,\n",
       "   'share': None,\n",
       "   'share_type': {'id': 1, 'name': 'Индивидуальная'},\n",
       "   'square': 56.5,\n",
       "   'type': {'id': 4, 'name': 'Квартира'}},\n",
       "  {'comment': '',\n",
       "   'country': 'Россия',\n",
       "   'name': 'Квартира',\n",
       "   'own_type': {'id': 1, 'name': 'В собственности'},\n",
       "   'region': None,\n",
       "   'relative': None,\n",
       "   'share': None,\n",
       "   'share_type': {'id': 1, 'name': 'Индивидуальная'},\n",
       "   'square': 178.0,\n",
       "   'type': {'id': 4, 'name': 'Квартира'}},\n",
       "  {'comment': '',\n",
       "   'country': 'Россия',\n",
       "   'name': 'Объект незавершенного строительства',\n",
       "   'own_type': {'id': 1, 'name': 'В собственности'},\n",
       "   'region': None,\n",
       "   'relative': None,\n",
       "   'share': None,\n",
       "   'share_type': {'id': 1, 'name': 'Индивидуальная'},\n",
       "   'square': 0.02,\n",
       "   'type': {'id': 6, 'name': 'Иное'}}],\n",
       " 'savings': [],\n",
       " 'spendings': [],\n",
       " 'stocks': [],\n",
       " 'vehicles': []}"
      ]
     },
     "execution_count": 3,
     "metadata": {},
     "output_type": "execute_result"
    }
   ],
   "source": [
    "random.choice(declarations)"
   ]
  },
  {
   "cell_type": "markdown",
   "metadata": {
    "pycharm": {
     "metadata": false
    }
   },
   "source": [
    "Total declarations:"
   ]
  },
  {
   "cell_type": "code",
   "execution_count": 4,
   "metadata": {
    "pycharm": {
     "is_executing": false,
     "metadata": false,
     "name": "#%%\n"
    }
   },
   "outputs": [
    {
     "data": {
      "text/plain": [
       "90864"
      ]
     },
     "execution_count": 4,
     "metadata": {},
     "output_type": "execute_result"
    }
   ],
   "source": [
    "len(declarations)"
   ]
  },
  {
   "cell_type": "code",
   "execution_count": 5,
   "metadata": {
    "pycharm": {
     "is_executing": false,
     "metadata": false,
     "name": "#%%\n"
    }
   },
   "outputs": [
    {
     "data": {
      "text/plain": [
       "90864"
      ]
     },
     "execution_count": 5,
     "metadata": {},
     "output_type": "execute_result"
    }
   ],
   "source": [
    "columns = ['person_id', 'person_name', 'year', \n",
    "           'office_id', 'office_name', \n",
    "           'office_type_id', 'office_type_name',\n",
    "           'office_region_id', 'office_region_name',\n",
    "           'income_personal', 'income_relatives', \n",
    "           'savings', 'real_estate_amount', 'real_estate_squares']\n",
    "\n",
    "rows = []\n",
    "for dec in declarations:\n",
    "    row = [\n",
    "        dec['main']['person']['id'],\n",
    "        dec['main']['person']['name'],\n",
    "        dec['main']['year'],\n",
    "        dec['main']['office']['id'],\n",
    "        dec['main']['office']['name'],\n",
    "        dec['main']['office']['type']['id'] if dec['main']['office'].get('type') else None,\n",
    "        dec['main']['office']['type']['name'] if dec['main']['office'].get('type') else None,\n",
    "        dec['main']['office']['region']['id'] if dec['main']['office'].get('region') else None,\n",
    "        dec['main']['office']['region']['name'] if dec['main']['office'].get('region') else None,\n",
    "    ]\n",
    "    income_personal_sum = sum([inc['size'] for inc in dec['incomes'] if inc['relative'] is None])\n",
    "    income_relatives_sum = sum([inc['size'] for inc in dec['incomes'] if inc['relative'] is not None])\n",
    "    savings_sum = sum([float(sav.split('руб.')[0].replace(',', '.').replace(' ', '')) for sav in dec['savings']])\n",
    "    real_estate_amount = len(dec['real_estates'])\n",
    "    real_estate_squares_sum = sum([(estate['square']  or 0) for estate in dec['real_estates']])\n",
    "    row += [income_personal_sum, income_relatives_sum, savings_sum, real_estate_amount, real_estate_squares_sum]\n",
    "    rows.append(row)\n",
    "len(rows)"
   ]
  },
  {
   "cell_type": "code",
   "execution_count": 6,
   "metadata": {
    "pycharm": {
     "is_executing": false,
     "metadata": false,
     "name": "#%%\n"
    }
   },
   "outputs": [
    {
     "data": {
      "text/html": [
       "<div>\n",
       "<style scoped>\n",
       "    .dataframe tbody tr th:only-of-type {\n",
       "        vertical-align: middle;\n",
       "    }\n",
       "\n",
       "    .dataframe tbody tr th {\n",
       "        vertical-align: top;\n",
       "    }\n",
       "\n",
       "    .dataframe thead th {\n",
       "        text-align: right;\n",
       "    }\n",
       "</style>\n",
       "<table border=\"1\" class=\"dataframe\">\n",
       "  <thead>\n",
       "    <tr style=\"text-align: right;\">\n",
       "      <th></th>\n",
       "      <th>person_id</th>\n",
       "      <th>person_name</th>\n",
       "      <th>year</th>\n",
       "      <th>office_id</th>\n",
       "      <th>office_name</th>\n",
       "      <th>office_type_id</th>\n",
       "      <th>office_type_name</th>\n",
       "      <th>office_region_id</th>\n",
       "      <th>office_region_name</th>\n",
       "      <th>income_personal</th>\n",
       "      <th>income_relatives</th>\n",
       "      <th>savings</th>\n",
       "      <th>real_estate_amount</th>\n",
       "      <th>real_estate_squares</th>\n",
       "    </tr>\n",
       "  </thead>\n",
       "  <tbody>\n",
       "    <tr>\n",
       "      <th>30358</th>\n",
       "      <td>8</td>\n",
       "      <td>Зюганов Геннадий Андреевич</td>\n",
       "      <td>1998</td>\n",
       "      <td>14</td>\n",
       "      <td>Государственная Дума</td>\n",
       "      <td>7</td>\n",
       "      <td>Федеральный, без региональной структуры</td>\n",
       "      <td>NaN</td>\n",
       "      <td>None</td>\n",
       "      <td>124154.00</td>\n",
       "      <td>0.00</td>\n",
       "      <td>0.00</td>\n",
       "      <td>1</td>\n",
       "      <td>150.0</td>\n",
       "    </tr>\n",
       "    <tr>\n",
       "      <th>31970</th>\n",
       "      <td>8</td>\n",
       "      <td>Зюганов Геннадий Андреевич</td>\n",
       "      <td>1999</td>\n",
       "      <td>449</td>\n",
       "      <td>Президент Российской Федерации</td>\n",
       "      <td>7</td>\n",
       "      <td>Федеральный, без региональной структуры</td>\n",
       "      <td>NaN</td>\n",
       "      <td>None</td>\n",
       "      <td>495443.00</td>\n",
       "      <td>10804.00</td>\n",
       "      <td>0.00</td>\n",
       "      <td>3</td>\n",
       "      <td>252.7</td>\n",
       "    </tr>\n",
       "    <tr>\n",
       "      <th>127</th>\n",
       "      <td>8</td>\n",
       "      <td>Зюганов Геннадий Андреевич</td>\n",
       "      <td>2006</td>\n",
       "      <td>14</td>\n",
       "      <td>Государственная Дума</td>\n",
       "      <td>7</td>\n",
       "      <td>Федеральный, без региональной структуры</td>\n",
       "      <td>NaN</td>\n",
       "      <td>None</td>\n",
       "      <td>1257784.00</td>\n",
       "      <td>0.00</td>\n",
       "      <td>141740.91</td>\n",
       "      <td>1</td>\n",
       "      <td>167.4</td>\n",
       "    </tr>\n",
       "    <tr>\n",
       "      <th>1109</th>\n",
       "      <td>8</td>\n",
       "      <td>Зюганов Геннадий Андреевич</td>\n",
       "      <td>2006</td>\n",
       "      <td>449</td>\n",
       "      <td>Президент Российской Федерации</td>\n",
       "      <td>7</td>\n",
       "      <td>Федеральный, без региональной структуры</td>\n",
       "      <td>NaN</td>\n",
       "      <td>None</td>\n",
       "      <td>3445291.61</td>\n",
       "      <td>145376.87</td>\n",
       "      <td>400490.32</td>\n",
       "      <td>2</td>\n",
       "      <td>281.3</td>\n",
       "    </tr>\n",
       "    <tr>\n",
       "      <th>5520</th>\n",
       "      <td>8</td>\n",
       "      <td>Зюганов Геннадий Андреевич</td>\n",
       "      <td>2009</td>\n",
       "      <td>14</td>\n",
       "      <td>Государственная Дума</td>\n",
       "      <td>7</td>\n",
       "      <td>Федеральный, без региональной структуры</td>\n",
       "      <td>NaN</td>\n",
       "      <td>None</td>\n",
       "      <td>2075542.33</td>\n",
       "      <td>102279.19</td>\n",
       "      <td>0.00</td>\n",
       "      <td>3</td>\n",
       "      <td>448.7</td>\n",
       "    </tr>\n",
       "  </tbody>\n",
       "</table>\n",
       "</div>"
      ],
      "text/plain": [
       "       person_id                 person_name  year  office_id  \\\n",
       "30358          8  Зюганов Геннадий Андреевич  1998         14   \n",
       "31970          8  Зюганов Геннадий Андреевич  1999        449   \n",
       "127            8  Зюганов Геннадий Андреевич  2006         14   \n",
       "1109           8  Зюганов Геннадий Андреевич  2006        449   \n",
       "5520           8  Зюганов Геннадий Андреевич  2009         14   \n",
       "\n",
       "                          office_name  office_type_id  \\\n",
       "30358            Государственная Дума               7   \n",
       "31970  Президент Российской Федерации               7   \n",
       "127              Государственная Дума               7   \n",
       "1109   Президент Российской Федерации               7   \n",
       "5520             Государственная Дума               7   \n",
       "\n",
       "                              office_type_name  office_region_id  \\\n",
       "30358  Федеральный, без региональной структуры               NaN   \n",
       "31970  Федеральный, без региональной структуры               NaN   \n",
       "127    Федеральный, без региональной структуры               NaN   \n",
       "1109   Федеральный, без региональной структуры               NaN   \n",
       "5520   Федеральный, без региональной структуры               NaN   \n",
       "\n",
       "      office_region_name  income_personal  income_relatives    savings  \\\n",
       "30358               None        124154.00              0.00       0.00   \n",
       "31970               None        495443.00          10804.00       0.00   \n",
       "127                 None       1257784.00              0.00  141740.91   \n",
       "1109                None       3445291.61         145376.87  400490.32   \n",
       "5520                None       2075542.33         102279.19       0.00   \n",
       "\n",
       "       real_estate_amount  real_estate_squares  \n",
       "30358                   1                150.0  \n",
       "31970                   3                252.7  \n",
       "127                     1                167.4  \n",
       "1109                    2                281.3  \n",
       "5520                    3                448.7  "
      ]
     },
     "execution_count": 6,
     "metadata": {},
     "output_type": "execute_result"
    }
   ],
   "source": [
    "df = pd.DataFrame(rows, columns=columns)\n",
    "df = df.sort_values(by=['person_id', 'year'])\n",
    "df.head()"
   ]
  },
  {
   "cell_type": "markdown",
   "metadata": {
    "pycharm": {
     "metadata": false
    }
   },
   "source": [
    "Total unique persons"
   ]
  },
  {
   "cell_type": "code",
   "execution_count": 7,
   "metadata": {
    "pycharm": {
     "is_executing": false,
     "metadata": false,
     "name": "#%%\n"
    }
   },
   "outputs": [
    {
     "name": "stdout",
     "output_type": "stream",
     "text": [
      "51909\n"
     ]
    }
   ],
   "source": [
    "unique_persons_count = df['person_id'].unique().shape[0]\n",
    "print(unique_persons_count)"
   ]
  },
  {
   "cell_type": "markdown",
   "metadata": {
    "pycharm": {
     "metadata": false
    }
   },
   "source": [
    "Years"
   ]
  },
  {
   "cell_type": "code",
   "execution_count": 8,
   "metadata": {
    "pycharm": {
     "is_executing": false,
     "metadata": false,
     "name": "#%%\n"
    }
   },
   "outputs": [
    {
     "name": "stdout",
     "output_type": "stream",
     "text": [
      "1998 2017\n"
     ]
    }
   ],
   "source": [
    "print(df.year.min(), df.year.max())"
   ]
  },
  {
   "cell_type": "code",
   "execution_count": 9,
   "metadata": {
    "pycharm": {
     "is_executing": false,
     "metadata": false,
     "name": "#%%\n"
    }
   },
   "outputs": [
    {
     "data": {
      "text/plain": [
       "2014    24048\n",
       "2015    20302\n",
       "2016    19608\n",
       "2013    12360\n",
       "2012     5547\n",
       "2011     4063\n",
       "2010     3142\n",
       "2009     1327\n",
       "2006      280\n",
       "2008       86\n",
       "1998       81\n",
       "1999       12\n",
       "2017        8\n",
       "Name: year, dtype: int64"
      ]
     },
     "execution_count": 9,
     "metadata": {},
     "output_type": "execute_result"
    }
   ],
   "source": [
    "df['year'].value_counts()"
   ]
  },
  {
   "cell_type": "markdown",
   "metadata": {
    "pycharm": {
     "metadata": false
    }
   },
   "source": [
    "Remove all declarations from years 1998 - 2009, 2017."
   ]
  },
  {
   "cell_type": "code",
   "execution_count": 10,
   "metadata": {
    "pycharm": {
     "is_executing": false,
     "metadata": false,
     "name": "#%%\n"
    }
   },
   "outputs": [
    {
     "data": {
      "text/html": [
       "<div>\n",
       "<style scoped>\n",
       "    .dataframe tbody tr th:only-of-type {\n",
       "        vertical-align: middle;\n",
       "    }\n",
       "\n",
       "    .dataframe tbody tr th {\n",
       "        vertical-align: top;\n",
       "    }\n",
       "\n",
       "    .dataframe thead th {\n",
       "        text-align: right;\n",
       "    }\n",
       "</style>\n",
       "<table border=\"1\" class=\"dataframe\">\n",
       "  <thead>\n",
       "    <tr style=\"text-align: right;\">\n",
       "      <th></th>\n",
       "      <th>person_id</th>\n",
       "      <th>person_name</th>\n",
       "      <th>year</th>\n",
       "      <th>office_id</th>\n",
       "      <th>office_name</th>\n",
       "      <th>office_type_id</th>\n",
       "      <th>office_type_name</th>\n",
       "      <th>office_region_id</th>\n",
       "      <th>office_region_name</th>\n",
       "      <th>income_personal</th>\n",
       "      <th>income_relatives</th>\n",
       "      <th>savings</th>\n",
       "      <th>real_estate_amount</th>\n",
       "      <th>real_estate_squares</th>\n",
       "    </tr>\n",
       "  </thead>\n",
       "  <tbody>\n",
       "    <tr>\n",
       "      <th>5520</th>\n",
       "      <td>8</td>\n",
       "      <td>Зюганов Геннадий Андреевич</td>\n",
       "      <td>2009</td>\n",
       "      <td>14</td>\n",
       "      <td>Государственная Дума</td>\n",
       "      <td>7</td>\n",
       "      <td>Федеральный, без региональной структуры</td>\n",
       "      <td>NaN</td>\n",
       "      <td>None</td>\n",
       "      <td>2075542.33</td>\n",
       "      <td>102279.19</td>\n",
       "      <td>0.00</td>\n",
       "      <td>3</td>\n",
       "      <td>448.7</td>\n",
       "    </tr>\n",
       "    <tr>\n",
       "      <th>0</th>\n",
       "      <td>8</td>\n",
       "      <td>Зюганов Геннадий Андреевич</td>\n",
       "      <td>2010</td>\n",
       "      <td>14</td>\n",
       "      <td>Государственная Дума</td>\n",
       "      <td>7</td>\n",
       "      <td>Федеральный, без региональной структуры</td>\n",
       "      <td>NaN</td>\n",
       "      <td>None</td>\n",
       "      <td>2126487.00</td>\n",
       "      <td>0.00</td>\n",
       "      <td>3126451.00</td>\n",
       "      <td>1</td>\n",
       "      <td>167.4</td>\n",
       "    </tr>\n",
       "    <tr>\n",
       "      <th>251</th>\n",
       "      <td>8</td>\n",
       "      <td>Зюганов Геннадий Андреевич</td>\n",
       "      <td>2010</td>\n",
       "      <td>14</td>\n",
       "      <td>Государственная Дума</td>\n",
       "      <td>7</td>\n",
       "      <td>Федеральный, без региональной структуры</td>\n",
       "      <td>NaN</td>\n",
       "      <td>None</td>\n",
       "      <td>2127686.49</td>\n",
       "      <td>168601.94</td>\n",
       "      <td>0.00</td>\n",
       "      <td>3</td>\n",
       "      <td>448.7</td>\n",
       "    </tr>\n",
       "    <tr>\n",
       "      <th>1105</th>\n",
       "      <td>8</td>\n",
       "      <td>Зюганов Геннадий Андреевич</td>\n",
       "      <td>2010</td>\n",
       "      <td>449</td>\n",
       "      <td>Президент Российской Федерации</td>\n",
       "      <td>7</td>\n",
       "      <td>Федеральный, без региональной структуры</td>\n",
       "      <td>NaN</td>\n",
       "      <td>None</td>\n",
       "      <td>7681748.38</td>\n",
       "      <td>349885.97</td>\n",
       "      <td>4343156.26</td>\n",
       "      <td>2</td>\n",
       "      <td>281.3</td>\n",
       "    </tr>\n",
       "    <tr>\n",
       "      <th>1213</th>\n",
       "      <td>8</td>\n",
       "      <td>Зюганов Геннадий Андреевич</td>\n",
       "      <td>2011</td>\n",
       "      <td>14</td>\n",
       "      <td>Государственная Дума</td>\n",
       "      <td>7</td>\n",
       "      <td>Федеральный, без региональной структуры</td>\n",
       "      <td>NaN</td>\n",
       "      <td>None</td>\n",
       "      <td>2177566.64</td>\n",
       "      <td>137656.24</td>\n",
       "      <td>0.00</td>\n",
       "      <td>3</td>\n",
       "      <td>448.7</td>\n",
       "    </tr>\n",
       "  </tbody>\n",
       "</table>\n",
       "</div>"
      ],
      "text/plain": [
       "      person_id                 person_name  year  office_id  \\\n",
       "5520          8  Зюганов Геннадий Андреевич  2009         14   \n",
       "0             8  Зюганов Геннадий Андреевич  2010         14   \n",
       "251           8  Зюганов Геннадий Андреевич  2010         14   \n",
       "1105          8  Зюганов Геннадий Андреевич  2010        449   \n",
       "1213          8  Зюганов Геннадий Андреевич  2011         14   \n",
       "\n",
       "                         office_name  office_type_id  \\\n",
       "5520            Государственная Дума               7   \n",
       "0               Государственная Дума               7   \n",
       "251             Государственная Дума               7   \n",
       "1105  Президент Российской Федерации               7   \n",
       "1213            Государственная Дума               7   \n",
       "\n",
       "                             office_type_name  office_region_id  \\\n",
       "5520  Федеральный, без региональной структуры               NaN   \n",
       "0     Федеральный, без региональной структуры               NaN   \n",
       "251   Федеральный, без региональной структуры               NaN   \n",
       "1105  Федеральный, без региональной структуры               NaN   \n",
       "1213  Федеральный, без региональной структуры               NaN   \n",
       "\n",
       "     office_region_name  income_personal  income_relatives     savings  \\\n",
       "5520               None       2075542.33         102279.19        0.00   \n",
       "0                  None       2126487.00              0.00  3126451.00   \n",
       "251                None       2127686.49         168601.94        0.00   \n",
       "1105               None       7681748.38         349885.97  4343156.26   \n",
       "1213               None       2177566.64         137656.24        0.00   \n",
       "\n",
       "      real_estate_amount  real_estate_squares  \n",
       "5520                   3                448.7  \n",
       "0                      1                167.4  \n",
       "251                    3                448.7  \n",
       "1105                   2                281.3  \n",
       "1213                   3                448.7  "
      ]
     },
     "execution_count": 10,
     "metadata": {},
     "output_type": "execute_result"
    }
   ],
   "source": [
    "df = df[(df.year >= 2009) & (df.year <= 2016)]\n",
    "df.head()"
   ]
  },
  {
   "cell_type": "markdown",
   "metadata": {
    "pycharm": {
     "metadata": false
    }
   },
   "source": [
    "Declarations count after filtering"
   ]
  },
  {
   "cell_type": "code",
   "execution_count": 11,
   "metadata": {
    "pycharm": {
     "is_executing": false,
     "metadata": false,
     "name": "#%%\n"
    }
   },
   "outputs": [
    {
     "data": {
      "text/plain": [
       "(90397, 14)"
      ]
     },
     "execution_count": 11,
     "metadata": {},
     "output_type": "execute_result"
    }
   ],
   "source": [
    "df.shape"
   ]
  },
  {
   "cell_type": "markdown",
   "metadata": {
    "pycharm": {
     "metadata": false
    }
   },
   "source": [
    "Unique persons after filtering"
   ]
  },
  {
   "cell_type": "code",
   "execution_count": 12,
   "metadata": {
    "pycharm": {
     "is_executing": false,
     "metadata": false,
     "name": "#%%\n"
    }
   },
   "outputs": [
    {
     "name": "stdout",
     "output_type": "stream",
     "text": [
      "51855\n"
     ]
    }
   ],
   "source": [
    "unique_persons_count = df['person_id'].unique().shape[0]\n",
    "print(unique_persons_count)"
   ]
  },
  {
   "cell_type": "code",
   "execution_count": 13,
   "metadata": {
    "pycharm": {
     "is_executing": false,
     "metadata": false,
     "name": "#%%\n"
    }
   },
   "outputs": [],
   "source": [
    "df.to_csv('data/declarations.csv', index=False)"
   ]
  },
  {
   "cell_type": "markdown",
   "metadata": {
    "pycharm": {
     "metadata": false
    }
   },
   "source": [
    "Count number of times persons worked at the same office in the same year"
   ]
  },
  {
   "cell_type": "code",
   "execution_count": 14,
   "metadata": {
    "pycharm": {
     "is_executing": false,
     "metadata": false,
     "name": "#%%\n"
    }
   },
   "outputs": [],
   "source": [
    "grouped_view = df.groupby(['person_id', 'person_name', 'year']).first()"
   ]
  },
  {
   "cell_type": "code",
   "execution_count": 15,
   "metadata": {
    "pycharm": {
     "is_executing": false,
     "metadata": false,
     "name": "#%%\n"
    }
   },
   "outputs": [
    {
     "data": {
      "text/html": [
       "<div>\n",
       "<style scoped>\n",
       "    .dataframe tbody tr th:only-of-type {\n",
       "        vertical-align: middle;\n",
       "    }\n",
       "\n",
       "    .dataframe tbody tr th {\n",
       "        vertical-align: top;\n",
       "    }\n",
       "\n",
       "    .dataframe thead th {\n",
       "        text-align: right;\n",
       "    }\n",
       "</style>\n",
       "<table border=\"1\" class=\"dataframe\">\n",
       "  <thead>\n",
       "    <tr style=\"text-align: right;\">\n",
       "      <th></th>\n",
       "      <th>year</th>\n",
       "      <th>office_id</th>\n",
       "      <th>person_id</th>\n",
       "    </tr>\n",
       "  </thead>\n",
       "  <tbody>\n",
       "    <tr>\n",
       "      <th>0</th>\n",
       "      <td>2009</td>\n",
       "      <td>1</td>\n",
       "      <td>[9133, 9161]</td>\n",
       "    </tr>\n",
       "    <tr>\n",
       "      <th>1</th>\n",
       "      <td>2009</td>\n",
       "      <td>3</td>\n",
       "      <td>[679, 680, 681, 682, 7298, 7299, 7300, 7301, 7...</td>\n",
       "    </tr>\n",
       "    <tr>\n",
       "      <th>2</th>\n",
       "      <td>2009</td>\n",
       "      <td>4</td>\n",
       "      <td>[5350]</td>\n",
       "    </tr>\n",
       "    <tr>\n",
       "      <th>3</th>\n",
       "      <td>2009</td>\n",
       "      <td>5</td>\n",
       "      <td>[80, 299]</td>\n",
       "    </tr>\n",
       "    <tr>\n",
       "      <th>4</th>\n",
       "      <td>2009</td>\n",
       "      <td>7</td>\n",
       "      <td>[1882, 19701]</td>\n",
       "    </tr>\n",
       "  </tbody>\n",
       "</table>\n",
       "</div>"
      ],
      "text/plain": [
       "   year  office_id                                          person_id\n",
       "0  2009          1                                       [9133, 9161]\n",
       "1  2009          3  [679, 680, 681, 682, 7298, 7299, 7300, 7301, 7...\n",
       "2  2009          4                                             [5350]\n",
       "3  2009          5                                          [80, 299]\n",
       "4  2009          7                                      [1882, 19701]"
      ]
     },
     "execution_count": 15,
     "metadata": {},
     "output_type": "execute_result"
    }
   ],
   "source": [
    "common_offices = df.groupby(['year', 'office_id'])['person_id'].apply(list).reset_index()\n",
    "common_offices.head()"
   ]
  },
  {
   "cell_type": "code",
   "execution_count": 16,
   "metadata": {
    "pycharm": {
     "is_executing": false,
     "metadata": false,
     "name": "#%%\n"
    }
   },
   "outputs": [],
   "source": [
    "common_offices.to_csv('data/common_offices.csv', index=False)"
   ]
  },
  {
   "cell_type": "markdown",
   "metadata": {
    "pycharm": {
     "metadata": false
    }
   },
   "source": [
    "## Граф связей"
   ]
  },
  {
   "cell_type": "code",
   "execution_count": 17,
   "metadata": {
    "pycharm": {
     "is_executing": false,
     "metadata": false,
     "name": "#%%\n"
    }
   },
   "outputs": [],
   "source": [
    "YEARS = range(2009, 2017)"
   ]
  },
  {
   "cell_type": "code",
   "execution_count": 18,
   "metadata": {
    "pycharm": {
     "is_executing": false,
     "metadata": false,
     "name": "#%%\n"
    }
   },
   "outputs": [
    {
     "data": {
      "text/html": [
       "<div>\n",
       "<style scoped>\n",
       "    .dataframe tbody tr th:only-of-type {\n",
       "        vertical-align: middle;\n",
       "    }\n",
       "\n",
       "    .dataframe tbody tr th {\n",
       "        vertical-align: top;\n",
       "    }\n",
       "\n",
       "    .dataframe thead th {\n",
       "        text-align: right;\n",
       "    }\n",
       "</style>\n",
       "<table border=\"1\" class=\"dataframe\">\n",
       "  <thead>\n",
       "    <tr style=\"text-align: right;\">\n",
       "      <th></th>\n",
       "      <th>year</th>\n",
       "      <th>office_id</th>\n",
       "      <th>person_id</th>\n",
       "    </tr>\n",
       "  </thead>\n",
       "  <tbody>\n",
       "    <tr>\n",
       "      <th>0</th>\n",
       "      <td>2009</td>\n",
       "      <td>1</td>\n",
       "      <td>[9133, 9161]</td>\n",
       "    </tr>\n",
       "    <tr>\n",
       "      <th>1</th>\n",
       "      <td>2009</td>\n",
       "      <td>3</td>\n",
       "      <td>[679, 680, 681, 682, 7298, 7299, 7300, 7301, 7...</td>\n",
       "    </tr>\n",
       "    <tr>\n",
       "      <th>2</th>\n",
       "      <td>2009</td>\n",
       "      <td>4</td>\n",
       "      <td>[5350]</td>\n",
       "    </tr>\n",
       "    <tr>\n",
       "      <th>3</th>\n",
       "      <td>2009</td>\n",
       "      <td>5</td>\n",
       "      <td>[80, 299]</td>\n",
       "    </tr>\n",
       "    <tr>\n",
       "      <th>4</th>\n",
       "      <td>2009</td>\n",
       "      <td>7</td>\n",
       "      <td>[1882, 19701]</td>\n",
       "    </tr>\n",
       "  </tbody>\n",
       "</table>\n",
       "</div>"
      ],
      "text/plain": [
       "   year  office_id                                          person_id\n",
       "0  2009          1                                       [9133, 9161]\n",
       "1  2009          3  [679, 680, 681, 682, 7298, 7299, 7300, 7301, 7...\n",
       "2  2009          4                                             [5350]\n",
       "3  2009          5                                          [80, 299]\n",
       "4  2009          7                                      [1882, 19701]"
      ]
     },
     "execution_count": 18,
     "metadata": {},
     "output_type": "execute_result"
    }
   ],
   "source": [
    "common_offices_filtered = common_offices[common_offices['year'].isin(YEARS)].copy()\n",
    "common_offices_filtered.head()"
   ]
  },
  {
   "cell_type": "code",
   "execution_count": 19,
   "metadata": {
    "pycharm": {
     "is_executing": false,
     "metadata": false,
     "name": "#%%\n"
    }
   },
   "outputs": [
    {
     "data": {
      "text/plain": [
       "4591539"
      ]
     },
     "execution_count": 19,
     "metadata": {},
     "output_type": "execute_result"
    }
   ],
   "source": [
    "def populate_dict(person_id_list, graph_dict):\n",
    "    for pair in itertools.combinations(person_id_list, 2):\n",
    "        graph_dict[pair] += 1\n",
    "worked_together_dict = defaultdict(int)    \n",
    "common_offices_filtered['person_id'].map(lambda person_id_list: populate_dict(person_id_list, worked_together_dict))\n",
    "len(worked_together_dict)"
   ]
  },
  {
   "cell_type": "code",
   "execution_count": 20,
   "metadata": {
    "pycharm": {
     "is_executing": false,
     "metadata": false,
     "name": "#%%\n"
    }
   },
   "outputs": [],
   "source": [
    "# More or equal to the amount of persons\n",
    "# Less than number of all possible pairs\n",
    "assert unique_persons_count <= len(worked_together_dict) <= unique_persons_count*(unique_persons_count-1)/2 "
   ]
  },
  {
   "cell_type": "code",
   "execution_count": 21,
   "metadata": {
    "pycharm": {
     "is_executing": false,
     "metadata": false,
     "name": "#%%\n"
    }
   },
   "outputs": [],
   "source": [
    "with open('data/graph.csv', 'w') as graph_file:\n",
    "    graph_file.write('person1,person2,times_worked_together\\n')\n",
    "    for pair in sorted(worked_together_dict):\n",
    "        graph_file.write('{},{},{}\\n'.format(pair[0], pair[1], worked_together_dict[pair]))"
   ]
  },
  {
   "cell_type": "markdown",
   "metadata": {
    "pycharm": {
     "metadata": false
    }
   },
   "source": [
    "## Справочник доходов депутатов"
   ]
  },
  {
   "cell_type": "code",
   "execution_count": 22,
   "metadata": {
    "pycharm": {
     "is_executing": false,
     "metadata": false,
     "name": "#%%\n"
    }
   },
   "outputs": [],
   "source": [
    "df['income'] = df['income_personal'] + df['income_relatives']"
   ]
  },
  {
   "cell_type": "code",
   "execution_count": 23,
   "metadata": {
    "pycharm": {
     "is_executing": false,
     "metadata": false,
     "name": "#%%\n"
    }
   },
   "outputs": [],
   "source": [
    "income_df = df[(df.year >= 2013) & (df.year <= 2016)].copy()"
   ]
  },
  {
   "cell_type": "code",
   "execution_count": 24,
   "metadata": {
    "pycharm": {
     "is_executing": false,
     "metadata": false,
     "name": "#%%\n"
    }
   },
   "outputs": [
    {
     "data": {
      "text/html": [
       "<div>\n",
       "<style scoped>\n",
       "    .dataframe tbody tr th:only-of-type {\n",
       "        vertical-align: middle;\n",
       "    }\n",
       "\n",
       "    .dataframe tbody tr th {\n",
       "        vertical-align: top;\n",
       "    }\n",
       "\n",
       "    .dataframe thead th {\n",
       "        text-align: right;\n",
       "    }\n",
       "</style>\n",
       "<table border=\"1\" class=\"dataframe\">\n",
       "  <thead>\n",
       "    <tr style=\"text-align: right;\">\n",
       "      <th></th>\n",
       "      <th>year</th>\n",
       "      <th>person_id</th>\n",
       "      <th>person_name</th>\n",
       "      <th>office_id</th>\n",
       "      <th>income</th>\n",
       "    </tr>\n",
       "  </thead>\n",
       "  <tbody>\n",
       "    <tr>\n",
       "      <th>0</th>\n",
       "      <td>2013</td>\n",
       "      <td>8</td>\n",
       "      <td>Зюганов Геннадий Андреевич</td>\n",
       "      <td>14</td>\n",
       "      <td>3392882.89</td>\n",
       "    </tr>\n",
       "    <tr>\n",
       "      <th>1</th>\n",
       "      <td>2013</td>\n",
       "      <td>9</td>\n",
       "      <td>Алферов Жорес Иванович</td>\n",
       "      <td>14</td>\n",
       "      <td>18133519.25</td>\n",
       "    </tr>\n",
       "    <tr>\n",
       "      <th>2</th>\n",
       "      <td>2013</td>\n",
       "      <td>10</td>\n",
       "      <td>Андреев Андрей Анатольевич</td>\n",
       "      <td>14</td>\n",
       "      <td>4368530.71</td>\n",
       "    </tr>\n",
       "    <tr>\n",
       "      <th>3</th>\n",
       "      <td>2013</td>\n",
       "      <td>12</td>\n",
       "      <td>Афонин Юрий Вячеславович</td>\n",
       "      <td>14</td>\n",
       "      <td>2802081.80</td>\n",
       "    </tr>\n",
       "    <tr>\n",
       "      <th>4</th>\n",
       "      <td>2013</td>\n",
       "      <td>13</td>\n",
       "      <td>Гаврилов Сергей Анатольевич</td>\n",
       "      <td>14</td>\n",
       "      <td>3263364.19</td>\n",
       "    </tr>\n",
       "  </tbody>\n",
       "</table>\n",
       "</div>"
      ],
      "text/plain": [
       "   year  person_id                  person_name  office_id       income\n",
       "0  2013          8   Зюганов Геннадий Андреевич         14   3392882.89\n",
       "1  2013          9       Алферов Жорес Иванович         14  18133519.25\n",
       "2  2013         10   Андреев Андрей Анатольевич         14   4368530.71\n",
       "3  2013         12     Афонин Юрий Вячеславович         14   2802081.80\n",
       "4  2013         13  Гаврилов Сергей Анатольевич         14   3263364.19"
      ]
     },
     "execution_count": 24,
     "metadata": {},
     "output_type": "execute_result"
    }
   ],
   "source": [
    "# Если несколько записей на одного депутата на один год на один офис, то берем первую\n",
    "officials_year = (income_df\n",
    "                    .groupby(by=['year', 'person_id', 'person_name', 'office_id'])['income']\n",
    "                    .first()\n",
    "                    .to_frame('income')\n",
    "                    .reset_index())\n",
    "officials_year.head()"
   ]
  },
  {
   "cell_type": "code",
   "execution_count": 25,
   "metadata": {
    "pycharm": {
     "is_executing": false,
     "metadata": false,
     "name": "#%%\n"
    }
   },
   "outputs": [
    {
     "data": {
      "text/html": [
       "<div>\n",
       "<style scoped>\n",
       "    .dataframe tbody tr th:only-of-type {\n",
       "        vertical-align: middle;\n",
       "    }\n",
       "\n",
       "    .dataframe tbody tr th {\n",
       "        vertical-align: top;\n",
       "    }\n",
       "\n",
       "    .dataframe thead th {\n",
       "        text-align: right;\n",
       "    }\n",
       "</style>\n",
       "<table border=\"1\" class=\"dataframe\">\n",
       "  <thead>\n",
       "    <tr style=\"text-align: right;\">\n",
       "      <th></th>\n",
       "      <th>person_name</th>\n",
       "      <th>income</th>\n",
       "    </tr>\n",
       "    <tr>\n",
       "      <th>person_id</th>\n",
       "      <th></th>\n",
       "      <th></th>\n",
       "    </tr>\n",
       "  </thead>\n",
       "  <tbody>\n",
       "    <tr>\n",
       "      <th>8</th>\n",
       "      <td>Зюганов Геннадий Андреевич</td>\n",
       "      <td>20453218.69</td>\n",
       "    </tr>\n",
       "    <tr>\n",
       "      <th>9</th>\n",
       "      <td>Алферов Жорес Иванович</td>\n",
       "      <td>81462661.75</td>\n",
       "    </tr>\n",
       "    <tr>\n",
       "      <th>10</th>\n",
       "      <td>Андреев Андрей Анатольевич</td>\n",
       "      <td>14475607.50</td>\n",
       "    </tr>\n",
       "    <tr>\n",
       "      <th>12</th>\n",
       "      <td>Афонин Юрий Вячеславович</td>\n",
       "      <td>23774458.69</td>\n",
       "    </tr>\n",
       "    <tr>\n",
       "      <th>13</th>\n",
       "      <td>Гаврилов Сергей Анатольевич</td>\n",
       "      <td>19608057.29</td>\n",
       "    </tr>\n",
       "  </tbody>\n",
       "</table>\n",
       "</div>"
      ],
      "text/plain": [
       "                           person_name       income\n",
       "person_id                                          \n",
       "8           Зюганов Геннадий Андреевич  20453218.69\n",
       "9               Алферов Жорес Иванович  81462661.75\n",
       "10          Андреев Андрей Анатольевич  14475607.50\n",
       "12            Афонин Юрий Вячеславович  23774458.69\n",
       "13         Гаврилов Сергей Анатольевич  19608057.29"
      ]
     },
     "execution_count": 25,
     "metadata": {},
     "output_type": "execute_result"
    }
   ],
   "source": [
    "# Суммируем доход в разных офисах\n",
    "officials_income = (officials_year\n",
    "                    .groupby(by=['person_id', 'person_name'])['income']\n",
    "                    .sum()                    \n",
    "                    .to_frame('income')\n",
    "                    .reset_index())\n",
    "officials_income = officials_income.set_index('person_id')\n",
    "officials_income.head()"
   ]
  },
  {
   "cell_type": "code",
   "execution_count": 26,
   "metadata": {
    "pycharm": {
     "is_executing": false,
     "metadata": false,
     "name": "#%%\n"
    }
   },
   "outputs": [],
   "source": [
    "officials_income.to_json('data/officials_income.json', orient='index', force_ascii=False, double_precision=2)\n",
    "officials_income.to_csv('data/officials_income.csv')"
   ]
  },
  {
   "cell_type": "code",
   "execution_count": null,
   "metadata": {
    "pycharm": {
     "metadata": false,
     "name": "#%%\n"
    }
   },
   "outputs": [],
   "source": [
    "\n"
   ]
  }
 ],
 "metadata": {
  "kernelspec": {
   "display_name": "Python 3",
   "language": "python",
   "name": "python3"
  },
  "language_info": {
   "codemirror_mode": {
    "name": "ipython",
    "version": 3
   },
   "file_extension": ".py",
   "mimetype": "text/x-python",
   "name": "python",
   "nbconvert_exporter": "python",
   "pygments_lexer": "ipython3",
   "version": "3.6.4"
  },
  "stem_cell": {
   "cell_type": "raw",
   "metadata": {
    "pycharm": {
     "metadata": false
    }
   },
   "source": ""
  }
 },
 "nbformat": 4,
 "nbformat_minor": 1
}
