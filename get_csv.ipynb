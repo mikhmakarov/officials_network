{
  "cells": [
    {
      "cell_type": "code",
      "execution_count": 2,
      "metadata": {
        "collapsed": true,
        "pycharm": {
          "is_executing": false
        }
      },
      "outputs": [
        {
          "name": "stderr",
          "text": [
            "/home/boris/anaconda3/lib/python3.6/importlib/_bootstrap.py:219: RuntimeWarning: numpy.dtype size changed, may indicate binary incompatibility. Expected 96, got 88\n  return f(*args, **kwds)\n",
            "/home/boris/anaconda3/lib/python3.6/importlib/_bootstrap.py:219: RuntimeWarning: numpy.dtype size changed, may indicate binary incompatibility. Expected 96, got 88\n  return f(*args, **kwds)\n"
          ],
          "output_type": "stream"
        }
      ],
      "source": "import pandas as pd\nimport numpy as np\nimport json\nimport random\nimport itertools\n%matplotlib inline"
    },
    {
      "cell_type": "code",
      "execution_count": 3,
      "outputs": [],
      "source": "dump_fpath \u003d \u0027data/declarations.json\u0027\n\nwith open(dump_fpath) as f:\n    declarations \u003d json.loads(f.read())",
      "metadata": {
        "pycharm": {
          "metadata": false,
          "name": "#%%\n",
          "is_executing": false
        }
      }
    },
    {
      "cell_type": "code",
      "execution_count": 4,
      "outputs": [
        {
          "data": {
            "text/plain": "{\u0027bonds\u0027: [],\n \u0027incomes\u0027: [{\u0027comment\u0027: \u0027\u0027, \u0027relative\u0027: None, \u0027size\u0027: 1192008.62},\n  {\u0027comment\u0027: \u0027\u0027,\n   \u0027relative\u0027: {\u0027id\u0027: 2, \u0027name\u0027: \u0027Супруг(а)\u0027},\n   \u0027size\u0027: 153664.0}],\n \u0027main\u0027: {\u0027document_type\u0027: {\u0027id\u0027: 1, \u0027name\u0027: \u0027Антикоррупционная декларация\u0027},\n  \u0027office\u0027: {\u0027id\u0027: 3962,\n   \u0027name\u0027: \u0027УФСИН Тамбовская область\u0027,\n   \u0027post\u0027: \u0027начальник ФКУ ОК УФСИН России по Тамбовской области\u0027,\n   \u0027region\u0027: {\u0027id\u0027: 82, \u0027name\u0027: \u0027Тамбовская область\u0027},\n   \u0027type\u0027: {\u0027id\u0027: 24, \u0027name\u0027: \u0027Федеральный, со структурой\u0027},\n   \u0027url\u0027: \u0027http://www.68.fsin.su/\u0027},\n  \u0027party\u0027: None,\n  \u0027person\u0027: {\u0027family_name\u0027: \u0027Рыбак\u0027,\n   \u0027given_name\u0027: \u0027Сергей\u0027,\n   \u0027id\u0027: 35106,\n   \u0027name\u0027: \u0027Рыбак Сергей Иванович\u0027,\n   \u0027patronymic_name\u0027: \u0027Иванович\u0027},\n  \u0027year\u0027: 2015},\n \u0027real_estates\u0027: [{\u0027comment\u0027: \u0027\u0027,\n   \u0027country\u0027: \u0027Россия\u0027,\n   \u0027name\u0027: \u0027земельный участок\u0027,\n   \u0027own_type\u0027: {\u0027id\u0027: 20, \u0027name\u0027: \u0027Индивидуальная\u0027},\n   \u0027region\u0027: None,\n   \u0027relative\u0027: None,\n   \u0027share\u0027: None,\n   \u0027square\u0027: 26.4,\n   \u0027type\u0027: {\u0027id\u0027: 1, \u0027name\u0027: \u0027Земельный участок\u0027}},\n  {\u0027comment\u0027: \u0027\u0027,\n   \u0027country\u0027: \u0027Россия\u0027,\n   \u0027name\u0027: \u0027земельный участок\u0027,\n   \u0027own_type\u0027: {\u0027id\u0027: 20, \u0027name\u0027: \u0027Индивидуальная\u0027},\n   \u0027region\u0027: None,\n   \u0027relative\u0027: None,\n   \u0027share\u0027: None,\n   \u0027square\u0027: 32.0,\n   \u0027type\u0027: {\u0027id\u0027: 1, \u0027name\u0027: \u0027Земельный участок\u0027}},\n  {\u0027comment\u0027: \u0027\u0027,\n   \u0027country\u0027: \u0027Россия\u0027,\n   \u0027name\u0027: \u0027земельный участок\u0027,\n   \u0027own_type\u0027: {\u0027id\u0027: 20, \u0027name\u0027: \u0027Индивидуальная\u0027},\n   \u0027region\u0027: None,\n   \u0027relative\u0027: None,\n   \u0027share\u0027: None,\n   \u0027square\u0027: 4388.0,\n   \u0027type\u0027: {\u0027id\u0027: 1, \u0027name\u0027: \u0027Земельный участок\u0027}},\n  {\u0027comment\u0027: \u0027\u0027,\n   \u0027country\u0027: \u0027Россия\u0027,\n   \u0027name\u0027: \u0027квартира\u0027,\n   \u0027own_type\u0027: {\u0027id\u0027: 9, \u0027name\u0027: \u0027В пользовании\u0027},\n   \u0027region\u0027: None,\n   \u0027relative\u0027: None,\n   \u0027share\u0027: None,\n   \u0027square\u0027: 43.2,\n   \u0027type\u0027: {\u0027id\u0027: 4, \u0027name\u0027: \u0027Квартира\u0027}},\n  {\u0027comment\u0027: \u0027\u0027,\n   \u0027country\u0027: \u0027Россия\u0027,\n   \u0027name\u0027: \u0027квартира\u0027,\n   \u0027own_type\u0027: {\u0027id\u0027: 21, \u0027name\u0027: \u0027Долевая собственность\u0027},\n   \u0027region\u0027: None,\n   \u0027relative\u0027: None,\n   \u0027share\u0027: 0.3333333333333333,\n   \u0027square\u0027: 63.5,\n   \u0027type\u0027: {\u0027id\u0027: 4, \u0027name\u0027: \u0027Квартира\u0027}},\n  {\u0027comment\u0027: \u0027\u0027,\n   \u0027country\u0027: \u0027Россия\u0027,\n   \u0027name\u0027: \u0027гараж\u0027,\n   \u0027own_type\u0027: {\u0027id\u0027: 20, \u0027name\u0027: \u0027Индивидуальная\u0027},\n   \u0027region\u0027: None,\n   \u0027relative\u0027: None,\n   \u0027share\u0027: None,\n   \u0027square\u0027: 24.0,\n   \u0027type\u0027: {\u0027id\u0027: 2, \u0027name\u0027: \u0027Гараж\u0027}},\n  {\u0027comment\u0027: \u0027\u0027,\n   \u0027country\u0027: \u0027Россия\u0027,\n   \u0027name\u0027: \u0027гараж\u0027,\n   \u0027own_type\u0027: {\u0027id\u0027: 20, \u0027name\u0027: \u0027Индивидуальная\u0027},\n   \u0027region\u0027: None,\n   \u0027relative\u0027: None,\n   \u0027share\u0027: None,\n   \u0027square\u0027: 27.6,\n   \u0027type\u0027: {\u0027id\u0027: 2, \u0027name\u0027: \u0027Гараж\u0027}},\n  {\u0027comment\u0027: \u0027\u0027,\n   \u0027country\u0027: \u0027Россия\u0027,\n   \u0027name\u0027: \u0027земельный участок\u0027,\n   \u0027own_type\u0027: {\u0027id\u0027: 20, \u0027name\u0027: \u0027Индивидуальная\u0027},\n   \u0027region\u0027: None,\n   \u0027relative\u0027: {\u0027id\u0027: 2, \u0027name\u0027: \u0027Супруг(а)\u0027},\n   \u0027share\u0027: None,\n   \u0027square\u0027: 20.0,\n   \u0027type\u0027: {\u0027id\u0027: 1, \u0027name\u0027: \u0027Земельный участок\u0027}},\n  {\u0027comment\u0027: \u0027\u0027,\n   \u0027country\u0027: \u0027Россия\u0027,\n   \u0027name\u0027: \u0027квартира\u0027,\n   \u0027own_type\u0027: {\u0027id\u0027: 20, \u0027name\u0027: \u0027Индивидуальная\u0027},\n   \u0027region\u0027: None,\n   \u0027relative\u0027: {\u0027id\u0027: 2, \u0027name\u0027: \u0027Супруг(а)\u0027},\n   \u0027share\u0027: None,\n   \u0027square\u0027: 43.2,\n   \u0027type\u0027: {\u0027id\u0027: 4, \u0027name\u0027: \u0027Квартира\u0027}},\n  {\u0027comment\u0027: \u0027\u0027,\n   \u0027country\u0027: \u0027Россия\u0027,\n   \u0027name\u0027: \u0027квартира\u0027,\n   \u0027own_type\u0027: {\u0027id\u0027: 9, \u0027name\u0027: \u0027В пользовании\u0027},\n   \u0027region\u0027: None,\n   \u0027relative\u0027: {\u0027id\u0027: 2, \u0027name\u0027: \u0027Супруг(а)\u0027},\n   \u0027share\u0027: None,\n   \u0027square\u0027: 63.5,\n   \u0027type\u0027: {\u0027id\u0027: 4, \u0027name\u0027: \u0027Квартира\u0027}},\n  {\u0027comment\u0027: \u0027\u0027,\n   \u0027country\u0027: \u0027Россия\u0027,\n   \u0027name\u0027: \u0027гараж\u0027,\n   \u0027own_type\u0027: {\u0027id\u0027: 20, \u0027name\u0027: \u0027Индивидуальная\u0027},\n   \u0027region\u0027: None,\n   \u0027relative\u0027: {\u0027id\u0027: 2, \u0027name\u0027: \u0027Супруг(а)\u0027},\n   \u0027share\u0027: None,\n   \u0027square\u0027: 17.1,\n   \u0027type\u0027: {\u0027id\u0027: 2, \u0027name\u0027: \u0027Гараж\u0027}}],\n \u0027savings\u0027: [],\n \u0027spendings\u0027: [],\n \u0027stocks\u0027: [],\n \u0027vehicles\u0027: [{\u0027brand\u0027: {\u0027id\u0027: 1882, \u0027name\u0027: \u0027469\u0027},\n   \u0027comment\u0027: \u0027\u0027,\n   \u0027manufacture_year\u0027: None,\n   \u0027name\u0027: \u0027\u0027,\n   \u0027relative\u0027: None,\n   \u0027type\u0027: {\u0027id\u0027: 1, \u0027name\u0027: \u0027Автомобиль легковой\u0027}},\n  {\u0027brand\u0027: {\u0027id\u0027: 1756, \u0027name\u0027: \u00272131\u0027},\n   \u0027comment\u0027: \u0027\u0027,\n   \u0027manufacture_year\u0027: None,\n   \u0027name\u0027: \u0027\u0027,\n   \u0027relative\u0027: None,\n   \u0027type\u0027: {\u0027id\u0027: 1, \u0027name\u0027: \u0027Автомобиль легковой\u0027}}]}"
          },
          "metadata": {},
          "output_type": "execute_result",
          "execution_count": 4
        }
      ],
      "source": "random.choice(declarations)",
      "metadata": {
        "pycharm": {
          "metadata": false,
          "name": "#%%\n",
          "is_executing": false
        }
      }
    },
    {
      "cell_type": "code",
      "execution_count": 5,
      "outputs": [],
      "source": "columns \u003d [\u0027person_id\u0027, \u0027person_name\u0027, \u0027year\u0027, \u0027office_id\u0027,\n           \u0027office_name\u0027, \u0027income\u0027, \u0027savings\u0027,\n           \u0027real_estate_amount\u0027,\n           \u0027real_estate_squares\u0027]\n\nrows \u003d []\nfor dec in declarations:\n    row \u003d [\n        dec[\u0027main\u0027][\u0027person\u0027][\u0027id\u0027],\n        dec[\u0027main\u0027][\u0027person\u0027][\u0027name\u0027],\n        dec[\u0027main\u0027][\u0027year\u0027],\n        dec[\u0027main\u0027][\u0027office\u0027][\u0027id\u0027],\n        dec[\u0027main\u0027][\u0027office\u0027][\u0027name\u0027],\n    ]\n    income_sum \u003d sum([inc[\u0027size\u0027] for inc in dec[\u0027incomes\u0027]])\n    savings_sum \u003d sum([float(sav.split(\u0027руб.\u0027)[0].replace(\u0027,\u0027, \u0027.\u0027).replace(\u0027 \u0027, \u0027\u0027)) for sav in dec[\u0027savings\u0027]])\n    real_estate_amount \u003d len(dec[\u0027real_estates\u0027])\n    real_estate_squares_sum \u003d sum([(estate[\u0027square\u0027]  or 0) for estate in dec[\u0027real_estates\u0027]])\n    row +\u003d [income_sum, savings_sum, real_estate_amount, real_estate_squares_sum]\n    rows.append(row)",
      "metadata": {
        "pycharm": {
          "metadata": false,
          "name": "#%%\n",
          "is_executing": false
        }
      }
    },
    {
      "cell_type": "code",
      "execution_count": 6,
      "outputs": [
        {
          "data": {
            "text/plain": "       person_id                 person_name  year  office_id  \\\n30357          8  Зюганов Геннадий Андреевич  1998         14   \n31969          8  Зюганов Геннадий Андреевич  1999        449   \n127            8  Зюганов Геннадий Андреевич  2006         14   \n1109           8  Зюганов Геннадий Андреевич  2006        449   \n5520           8  Зюганов Геннадий Андреевич  2009         14   \n\n                          office_name      income    savings  \\\n30357            Государственная Дума   124154.00       0.00   \n31969  Президент Российской Федерации   506247.00       0.00   \n127              Государственная Дума  1257784.00  141740.91   \n1109   Президент Российской Федерации  3590668.48  400490.32   \n5520             Государственная Дума  2177821.52       0.00   \n\n       real_estate_amount  real_estate_squares  \n30357                   1                150.0  \n31969                   3                252.7  \n127                     1                167.4  \n1109                    2                281.3  \n5520                    3                448.7  ",
            "text/html": "\u003cdiv\u003e\n\u003cstyle scoped\u003e\n    .dataframe tbody tr th:only-of-type {\n        vertical-align: middle;\n    }\n\n    .dataframe tbody tr th {\n        vertical-align: top;\n    }\n\n    .dataframe thead th {\n        text-align: right;\n    }\n\u003c/style\u003e\n\u003ctable border\u003d\"1\" class\u003d\"dataframe\"\u003e\n  \u003cthead\u003e\n    \u003ctr style\u003d\"text-align: right;\"\u003e\n      \u003cth\u003e\u003c/th\u003e\n      \u003cth\u003eperson_id\u003c/th\u003e\n      \u003cth\u003eperson_name\u003c/th\u003e\n      \u003cth\u003eyear\u003c/th\u003e\n      \u003cth\u003eoffice_id\u003c/th\u003e\n      \u003cth\u003eoffice_name\u003c/th\u003e\n      \u003cth\u003eincome\u003c/th\u003e\n      \u003cth\u003esavings\u003c/th\u003e\n      \u003cth\u003ereal_estate_amount\u003c/th\u003e\n      \u003cth\u003ereal_estate_squares\u003c/th\u003e\n    \u003c/tr\u003e\n  \u003c/thead\u003e\n  \u003ctbody\u003e\n    \u003ctr\u003e\n      \u003cth\u003e30357\u003c/th\u003e\n      \u003ctd\u003e8\u003c/td\u003e\n      \u003ctd\u003eЗюганов Геннадий Андреевич\u003c/td\u003e\n      \u003ctd\u003e1998\u003c/td\u003e\n      \u003ctd\u003e14\u003c/td\u003e\n      \u003ctd\u003eГосударственная Дума\u003c/td\u003e\n      \u003ctd\u003e124154.00\u003c/td\u003e\n      \u003ctd\u003e0.00\u003c/td\u003e\n      \u003ctd\u003e1\u003c/td\u003e\n      \u003ctd\u003e150.0\u003c/td\u003e\n    \u003c/tr\u003e\n    \u003ctr\u003e\n      \u003cth\u003e31969\u003c/th\u003e\n      \u003ctd\u003e8\u003c/td\u003e\n      \u003ctd\u003eЗюганов Геннадий Андреевич\u003c/td\u003e\n      \u003ctd\u003e1999\u003c/td\u003e\n      \u003ctd\u003e449\u003c/td\u003e\n      \u003ctd\u003eПрезидент Российской Федерации\u003c/td\u003e\n      \u003ctd\u003e506247.00\u003c/td\u003e\n      \u003ctd\u003e0.00\u003c/td\u003e\n      \u003ctd\u003e3\u003c/td\u003e\n      \u003ctd\u003e252.7\u003c/td\u003e\n    \u003c/tr\u003e\n    \u003ctr\u003e\n      \u003cth\u003e127\u003c/th\u003e\n      \u003ctd\u003e8\u003c/td\u003e\n      \u003ctd\u003eЗюганов Геннадий Андреевич\u003c/td\u003e\n      \u003ctd\u003e2006\u003c/td\u003e\n      \u003ctd\u003e14\u003c/td\u003e\n      \u003ctd\u003eГосударственная Дума\u003c/td\u003e\n      \u003ctd\u003e1257784.00\u003c/td\u003e\n      \u003ctd\u003e141740.91\u003c/td\u003e\n      \u003ctd\u003e1\u003c/td\u003e\n      \u003ctd\u003e167.4\u003c/td\u003e\n    \u003c/tr\u003e\n    \u003ctr\u003e\n      \u003cth\u003e1109\u003c/th\u003e\n      \u003ctd\u003e8\u003c/td\u003e\n      \u003ctd\u003eЗюганов Геннадий Андреевич\u003c/td\u003e\n      \u003ctd\u003e2006\u003c/td\u003e\n      \u003ctd\u003e449\u003c/td\u003e\n      \u003ctd\u003eПрезидент Российской Федерации\u003c/td\u003e\n      \u003ctd\u003e3590668.48\u003c/td\u003e\n      \u003ctd\u003e400490.32\u003c/td\u003e\n      \u003ctd\u003e2\u003c/td\u003e\n      \u003ctd\u003e281.3\u003c/td\u003e\n    \u003c/tr\u003e\n    \u003ctr\u003e\n      \u003cth\u003e5520\u003c/th\u003e\n      \u003ctd\u003e8\u003c/td\u003e\n      \u003ctd\u003eЗюганов Геннадий Андреевич\u003c/td\u003e\n      \u003ctd\u003e2009\u003c/td\u003e\n      \u003ctd\u003e14\u003c/td\u003e\n      \u003ctd\u003eГосударственная Дума\u003c/td\u003e\n      \u003ctd\u003e2177821.52\u003c/td\u003e\n      \u003ctd\u003e0.00\u003c/td\u003e\n      \u003ctd\u003e3\u003c/td\u003e\n      \u003ctd\u003e448.7\u003c/td\u003e\n    \u003c/tr\u003e\n  \u003c/tbody\u003e\n\u003c/table\u003e\n\u003c/div\u003e"
          },
          "metadata": {},
          "output_type": "execute_result",
          "execution_count": 6
        }
      ],
      "source": "df \u003d pd.DataFrame(rows, columns\u003dcolumns)\ndf \u003d df.sort_values(by\u003d[\u0027person_id\u0027, \u0027year\u0027])\ndf.head()\n",
      "metadata": {
        "pycharm": {
          "metadata": false,
          "name": "#%%\n",
          "is_executing": false
        }
      }
    },
    {
      "cell_type": "code",
      "execution_count": 7,
      "outputs": [
        {
          "data": {
            "text/plain": "(200545, 9)"
          },
          "metadata": {},
          "output_type": "execute_result",
          "execution_count": 7
        }
      ],
      "source": "df.shape",
      "metadata": {
        "pycharm": {
          "metadata": false,
          "name": "#%%\n",
          "is_executing": false
        }
      }
    },
    {
      "cell_type": "code",
      "execution_count": 8,
      "outputs": [
        {
          "data": {
            "text/plain": "450     56469\n14       5596\n607      3198\n1397     1828\n5        1486\n979      1365\n598      1291\n3898     1119\n482      1104\n3958     1078\n5953     1058\n4         967\n873       955\n3929      914\n3949      860\n20        790\n5963      780\n3906      743\n456       717\n959       686\n3939      653\n3932      641\n191       633\n3944      633\n4199      626\n3942      601\n3974      600\n3963      593\n3930      583\n3950      566\n        ...  \n4580        1\n4802        1\n5148        1\n4873        1\n4669        1\n5861        1\n5995        1\n4541        1\n5154        1\n4543        1\n6299        1\n5483        1\n4028        1\n4642        1\n6333        1\n6890        1\n6563        1\n4514        1\n4540        1\n6378        1\n4668        1\n4634        1\n1854        1\n4627        1\n4031        1\n4842        1\n4586        1\n6204        1\n6361        1\n6147        1\nName: office_id, Length: 3239, dtype: int64"
          },
          "metadata": {},
          "output_type": "execute_result",
          "execution_count": 8
        }
      ],
      "source": "df.office_id.value_counts()",
      "metadata": {
        "pycharm": {
          "metadata": false,
          "name": "#%% \n",
          "is_executing": false
        }
      }
    },
    {
      "cell_type": "code",
      "execution_count": 9,
      "outputs": [
        {
          "data": {
            "text/plain": "        person_id                        person_name  year  office_id  \\\n96442         853        Смильгин Виктор Эдуардоваич  2014        607   \n21690        1429      Гаевский Валерий Вениаминович  2014        607   \n38112        2682         Астраханцева Елена Юрьевна  2015        607   \n69158        2682         Астраханцева Елена Юрьевна  2016        607   \n121289       2682         Астраханцева Елена Юрьевна  2017        607   \n21682        3163         Семенов Павел Владимирович  2013        607   \n21688        3163         Семенов Павел Владимирович  2014        607   \n38111        4546         Громыко Евгений Васильевич  2015        607   \n69159        4546         Громыко Евгений Васильевич  2016        607   \n121290       4546         Громыко Евгений Васильевич  2017        607   \n10738        5366           Шестаков Илья Васильевич  2009        607   \n10739        5366           Шестаков Илья Васильевич  2010        607   \n10740        5366           Шестаков Илья Васильевич  2011        607   \n10741        5366           Шестаков Илья Васильевич  2012        607   \n10742        5366           Шестаков Илья Васильевич  2013        607   \n21685        5366           Шестаков Илья Васильевич  2014        607   \n38107        5366           Шестаков Илья Васильевич  2015        607   \n69163        5366           Шестаков Илья Васильевич  2016        607   \n121295       5366           Шестаков Илья Васильевич  2017        607   \n38110        5386           Гангало Елена Викторовна  2015        607   \n21679       11673           Манылов Игорь Евгеньевич  2013        607   \n21680       11674         Волков Андрей Валентинович  2013        607   \n21686       11674         Волков Андрей Валентинович  2014        607   \n21681       11675         Юрьев Дмитрий Владимирович  2013        607   \n21687       11675         Юрьев Дмитрий Владимирович  2014        607   \n21683       11676      Петриков Александр Васильевич  2013        607   \n21689       11676      Петриков Александр Васильевич  2014        607   \n38109       11676      Петриков Александр Васильевич  2015        607   \n121293      11906     Непоклонов Евгений Анатольевич  2017        607   \n121556      12290          Габитов Илдар Исмагилович  2017        607   \n...           ...                                ...   ...        ...   \n121790      62513           Зарубин Павел Николаевич  2017        607   \n121807      62514   Диченский Александр Владимирович  2017        607   \n121829      62515         Кудинов Виталий Алексеевич  2017        607   \n121835      62516           Носов Алексей Викторович  2017        607   \n121857      62517    Чичиланова Светлана Анатольевна  2017        607   \n121859      62518          Шепелёв Сергей Дмитриевич  2017        607   \n121861      62519       Горожанина Марина Михайловна  2017        607   \n121875      62520             Борисов Максим Юрьевич  2017        607   \n121878      62521                Цинамдзгришвили Г В  2017        607   \n121879      62522          Новоселов Юрий Аркадьевич  2017        607   \n121884      62523                        Никитин А В  2017        607   \n121935      62531        Шафиров Валерий Геннадьевич  2017        607   \n121938      62533           Сердюк Наталья Сергеевна  2017        607   \n121939      62534            Ломакин Олег Евгеньевич  2017        607   \n121942      62535         Тибекин Алексей Васильевич  2017        607   \n121950      62536          Зулина Татьяна Витальевна  2017        607   \n121954      62537       Иванюшин Евгений Анатольевич  2017        607   \n121974      62541          Абдразаков Раис Ильясович  2017        607   \n121989      62542        Бочарников Виктор Сергеевич  2017        607   \n121990      62543        Гранкин Сергей Владимирович  2017        607   \n121991      62544       Кузнецова Татьяна Валерьевна  2017        607   \n121993      62545       Воробьева Татьяна Николаевна  2017        607   \n121997      62546         Тамазаев Тамаз Исрапилович  2017        607   \n122003      62547           Носырев Михаил Борисович  2017        607   \n122011      62548        Антонова Татьяна Викторовна  2017        607   \n122018      62549  Подъяблонский Павел Александрович  2017        607   \n122020      62550         Майоров Олег Александрович  2017        607   \n122022      62551          Сурина Наталья Николаевна  2017        607   \n122024      62553              Яхин Руслан Радикович  2017        607   \n95534       66535           Мажидов Арслан Арсенович  2014        607   \n\n                              office_name       income  savings  \\\n96442   Министерство сельского хозяйства    1070442.06      0.0   \n21690   Министерство сельского хозяйства    9433496.15      0.0   \n38112   Министерство сельского хозяйства    5583296.76      0.0   \n69158   Министерство сельского хозяйства    3748343.65      0.0   \n121289  Министерство сельского хозяйства    3612804.52      0.0   \n21682   Министерство сельского хозяйства    4159740.12      0.0   \n21688   Министерство сельского хозяйства   16535351.20      0.0   \n38111   Министерство сельского хозяйства   14690567.35      0.0   \n69159   Министерство сельского хозяйства   17923271.14      0.0   \n121290  Министерство сельского хозяйства   14076699.84      0.0   \n10738   Министерство сельского хозяйства    1557833.69      0.0   \n10739   Министерство сельского хозяйства    5229713.93      0.0   \n10740   Министерство сельского хозяйства    6583861.61      0.0   \n10741   Министерство сельского хозяйства    5107481.91      0.0   \n10742   Министерство сельского хозяйства    4737476.02      0.0   \n21685   Министерство сельского хозяйства    7617466.42      0.0   \n38107   Министерство сельского хозяйства    4462894.07      0.0   \n69163   Министерство сельского хозяйства    3914735.59      0.0   \n121295  Министерство сельского хозяйства    4123367.20      0.0   \n38110   Министерство сельского хозяйства    2874121.46      0.0   \n21679   Министерство сельского хозяйства    5060134.05      0.0   \n21680   Министерство сельского хозяйства   24672738.62      0.0   \n21686   Министерство сельского хозяйства    6957486.66      0.0   \n21681   Министерство сельского хозяйства    4696397.49      0.0   \n21687   Министерство сельского хозяйства    4272471.25      0.0   \n21683   Министерство сельского хозяйства    4895729.03      0.0   \n21689   Министерство сельского хозяйства    5880740.82      0.0   \n38109   Министерство сельского хозяйства    5378045.01      0.0   \n121293  Министерство сельского хозяйства    5555073.79      0.0   \n121556  Министерство сельского хозяйства    3106240.12      0.0   \n...                                   ...          ...      ...   \n121790  Министерство сельского хозяйства    1295688.42      0.0   \n121807  Министерство сельского хозяйства    2302060.86      0.0   \n121829  Министерство сельского хозяйства    1538884.04      0.0   \n121835  Министерство сельского хозяйства    1215937.35      0.0   \n121857  Министерство сельского хозяйства    1411773.21      0.0   \n121859  Министерство сельского хозяйства    3312865.59      0.0   \n121861  Министерство сельского хозяйства    1506203.22      0.0   \n121875  Министерство сельского хозяйства     698708.21      0.0   \n121878  Министерство сельского хозяйства     812698.92      0.0   \n121879  Министерство сельского хозяйства    1559526.96      0.0   \n121884  Министерство сельского хозяйства     365723.40      0.0   \n121935  Министерство сельского хозяйства    2684742.69      0.0   \n121938  Министерство сельского хозяйства    1314074.21      0.0   \n121939  Министерство сельского хозяйства    5339941.00      0.0   \n121942  Министерство сельского хозяйства    1536696.97      0.0   \n121950  Министерство сельского хозяйства     514010.00      0.0   \n121954  Министерство сельского хозяйства    1717212.48      0.0   \n121974  Министерство сельского хозяйства    3931704.41      0.0   \n121989  Министерство сельского хозяйства    2860718.68      0.0   \n121990  Министерство сельского хозяйства    1589155.87      0.0   \n121991  Министерство сельского хозяйства    1520624.11      0.0   \n121993  Министерство сельского хозяйства    1920890.59      0.0   \n121997  Министерство сельского хозяйства     675256.33      0.0   \n122003  Министерство сельского хозяйства    3122280.65      0.0   \n122011  Министерство сельского хозяйства     690775.74      0.0   \n122018  Министерство сельского хозяйства    4458268.34      0.0   \n122020  Министерство сельского хозяйства    3177110.62      0.0   \n122022  Министерство сельского хозяйства    3472826.75      0.0   \n122024  Министерство сельского хозяйства    3950080.51      0.0   \n95534   Министерство сельского хозяйства     812669.00      0.0   \n\n        real_estate_amount  real_estate_squares  \n96442                    4              1019.20  \n21690                    4               674.20  \n38112                    3               254.70  \n69158                    2               169.80  \n121289                   2               169.80  \n21682                   12              2867.90  \n21688                   14              2997.40  \n38111                   53             75243.01  \n69159                   43             72697.57  \n121290                  45             72952.17  \n10738                    3               469.20  \n10739                    6               792.60  \n10740                    8              2048.40  \n10741                    8              2048.40  \n10742                    8              2048.40  \n21685                    7               806.40  \n38107                    7              2034.60  \n69163                    7              2034.60  \n121295                   7              2034.60  \n38110                    1                36.00  \n21679                   16              3773.90  \n21680                   12              3016.12  \n21686                   11              2409.12  \n21681                    3               134.70  \n21687                    3               134.70  \n21683                    7              4457.00  \n21689                    7              4457.00  \n38109                    7              4457.00  \n121293                   6               536.40  \n121556                   4              2630.40  \n...                    ...                  ...  \n121790                   4               202.30  \n121807                   3               139.40  \n121829                   1                72.10  \n121835                   4               190.20  \n121857                   4              1741.80  \n121859                  10               865.50  \n121861                   3              2822.90  \n121875                   1                18.00  \n121878                   2               662.60  \n121879                  11              1728.80  \n121884                   2               125.60  \n121935                  13              3913.20  \n121938                   6              5083.40  \n121939                  10              6432.60  \n121942                   7              1508.00  \n121950                   3               241.20  \n121954                   6              1290.20  \n121974                   9              1224.20  \n121989                   4               217.60  \n121990                   5               287.90  \n121991                   3               100.50  \n121993                   6              1939.60  \n121997                   6               516.00  \n122003                   9              8250.50  \n122011                   2               118.60  \n122018                  11              4440.90  \n122020                   7               671.40  \n122022                   2                84.00  \n122024                  10               379.80  \n95534                    5               383.00  \n\n[3198 rows x 9 columns]",
            "text/html": "\u003cdiv\u003e\n\u003cstyle scoped\u003e\n    .dataframe tbody tr th:only-of-type {\n        vertical-align: middle;\n    }\n\n    .dataframe tbody tr th {\n        vertical-align: top;\n    }\n\n    .dataframe thead th {\n        text-align: right;\n    }\n\u003c/style\u003e\n\u003ctable border\u003d\"1\" class\u003d\"dataframe\"\u003e\n  \u003cthead\u003e\n    \u003ctr style\u003d\"text-align: right;\"\u003e\n      \u003cth\u003e\u003c/th\u003e\n      \u003cth\u003eperson_id\u003c/th\u003e\n      \u003cth\u003eperson_name\u003c/th\u003e\n      \u003cth\u003eyear\u003c/th\u003e\n      \u003cth\u003eoffice_id\u003c/th\u003e\n      \u003cth\u003eoffice_name\u003c/th\u003e\n      \u003cth\u003eincome\u003c/th\u003e\n      \u003cth\u003esavings\u003c/th\u003e\n      \u003cth\u003ereal_estate_amount\u003c/th\u003e\n      \u003cth\u003ereal_estate_squares\u003c/th\u003e\n    \u003c/tr\u003e\n  \u003c/thead\u003e\n  \u003ctbody\u003e\n    \u003ctr\u003e\n      \u003cth\u003e96442\u003c/th\u003e\n      \u003ctd\u003e853\u003c/td\u003e\n      \u003ctd\u003eСмильгин Виктор Эдуардоваич\u003c/td\u003e\n      \u003ctd\u003e2014\u003c/td\u003e\n      \u003ctd\u003e607\u003c/td\u003e\n      \u003ctd\u003eМинистерство сельского хозяйства\u003c/td\u003e\n      \u003ctd\u003e1070442.06\u003c/td\u003e\n      \u003ctd\u003e0.0\u003c/td\u003e\n      \u003ctd\u003e4\u003c/td\u003e\n      \u003ctd\u003e1019.20\u003c/td\u003e\n    \u003c/tr\u003e\n    \u003ctr\u003e\n      \u003cth\u003e21690\u003c/th\u003e\n      \u003ctd\u003e1429\u003c/td\u003e\n      \u003ctd\u003eГаевский Валерий Вениаминович\u003c/td\u003e\n      \u003ctd\u003e2014\u003c/td\u003e\n      \u003ctd\u003e607\u003c/td\u003e\n      \u003ctd\u003eМинистерство сельского хозяйства\u003c/td\u003e\n      \u003ctd\u003e9433496.15\u003c/td\u003e\n      \u003ctd\u003e0.0\u003c/td\u003e\n      \u003ctd\u003e4\u003c/td\u003e\n      \u003ctd\u003e674.20\u003c/td\u003e\n    \u003c/tr\u003e\n    \u003ctr\u003e\n      \u003cth\u003e38112\u003c/th\u003e\n      \u003ctd\u003e2682\u003c/td\u003e\n      \u003ctd\u003eАстраханцева Елена Юрьевна\u003c/td\u003e\n      \u003ctd\u003e2015\u003c/td\u003e\n      \u003ctd\u003e607\u003c/td\u003e\n      \u003ctd\u003eМинистерство сельского хозяйства\u003c/td\u003e\n      \u003ctd\u003e5583296.76\u003c/td\u003e\n      \u003ctd\u003e0.0\u003c/td\u003e\n      \u003ctd\u003e3\u003c/td\u003e\n      \u003ctd\u003e254.70\u003c/td\u003e\n    \u003c/tr\u003e\n    \u003ctr\u003e\n      \u003cth\u003e69158\u003c/th\u003e\n      \u003ctd\u003e2682\u003c/td\u003e\n      \u003ctd\u003eАстраханцева Елена Юрьевна\u003c/td\u003e\n      \u003ctd\u003e2016\u003c/td\u003e\n      \u003ctd\u003e607\u003c/td\u003e\n      \u003ctd\u003eМинистерство сельского хозяйства\u003c/td\u003e\n      \u003ctd\u003e3748343.65\u003c/td\u003e\n      \u003ctd\u003e0.0\u003c/td\u003e\n      \u003ctd\u003e2\u003c/td\u003e\n      \u003ctd\u003e169.80\u003c/td\u003e\n    \u003c/tr\u003e\n    \u003ctr\u003e\n      \u003cth\u003e121289\u003c/th\u003e\n      \u003ctd\u003e2682\u003c/td\u003e\n      \u003ctd\u003eАстраханцева Елена Юрьевна\u003c/td\u003e\n      \u003ctd\u003e2017\u003c/td\u003e\n      \u003ctd\u003e607\u003c/td\u003e\n      \u003ctd\u003eМинистерство сельского хозяйства\u003c/td\u003e\n      \u003ctd\u003e3612804.52\u003c/td\u003e\n      \u003ctd\u003e0.0\u003c/td\u003e\n      \u003ctd\u003e2\u003c/td\u003e\n      \u003ctd\u003e169.80\u003c/td\u003e\n    \u003c/tr\u003e\n    \u003ctr\u003e\n      \u003cth\u003e21682\u003c/th\u003e\n      \u003ctd\u003e3163\u003c/td\u003e\n      \u003ctd\u003eСеменов Павел Владимирович\u003c/td\u003e\n      \u003ctd\u003e2013\u003c/td\u003e\n      \u003ctd\u003e607\u003c/td\u003e\n      \u003ctd\u003eМинистерство сельского хозяйства\u003c/td\u003e\n      \u003ctd\u003e4159740.12\u003c/td\u003e\n      \u003ctd\u003e0.0\u003c/td\u003e\n      \u003ctd\u003e12\u003c/td\u003e\n      \u003ctd\u003e2867.90\u003c/td\u003e\n    \u003c/tr\u003e\n    \u003ctr\u003e\n      \u003cth\u003e21688\u003c/th\u003e\n      \u003ctd\u003e3163\u003c/td\u003e\n      \u003ctd\u003eСеменов Павел Владимирович\u003c/td\u003e\n      \u003ctd\u003e2014\u003c/td\u003e\n      \u003ctd\u003e607\u003c/td\u003e\n      \u003ctd\u003eМинистерство сельского хозяйства\u003c/td\u003e\n      \u003ctd\u003e16535351.20\u003c/td\u003e\n      \u003ctd\u003e0.0\u003c/td\u003e\n      \u003ctd\u003e14\u003c/td\u003e\n      \u003ctd\u003e2997.40\u003c/td\u003e\n    \u003c/tr\u003e\n    \u003ctr\u003e\n      \u003cth\u003e38111\u003c/th\u003e\n      \u003ctd\u003e4546\u003c/td\u003e\n      \u003ctd\u003eГромыко Евгений Васильевич\u003c/td\u003e\n      \u003ctd\u003e2015\u003c/td\u003e\n      \u003ctd\u003e607\u003c/td\u003e\n      \u003ctd\u003eМинистерство сельского хозяйства\u003c/td\u003e\n      \u003ctd\u003e14690567.35\u003c/td\u003e\n      \u003ctd\u003e0.0\u003c/td\u003e\n      \u003ctd\u003e53\u003c/td\u003e\n      \u003ctd\u003e75243.01\u003c/td\u003e\n    \u003c/tr\u003e\n    \u003ctr\u003e\n      \u003cth\u003e69159\u003c/th\u003e\n      \u003ctd\u003e4546\u003c/td\u003e\n      \u003ctd\u003eГромыко Евгений Васильевич\u003c/td\u003e\n      \u003ctd\u003e2016\u003c/td\u003e\n      \u003ctd\u003e607\u003c/td\u003e\n      \u003ctd\u003eМинистерство сельского хозяйства\u003c/td\u003e\n      \u003ctd\u003e17923271.14\u003c/td\u003e\n      \u003ctd\u003e0.0\u003c/td\u003e\n      \u003ctd\u003e43\u003c/td\u003e\n      \u003ctd\u003e72697.57\u003c/td\u003e\n    \u003c/tr\u003e\n    \u003ctr\u003e\n      \u003cth\u003e121290\u003c/th\u003e\n      \u003ctd\u003e4546\u003c/td\u003e\n      \u003ctd\u003eГромыко Евгений Васильевич\u003c/td\u003e\n      \u003ctd\u003e2017\u003c/td\u003e\n      \u003ctd\u003e607\u003c/td\u003e\n      \u003ctd\u003eМинистерство сельского хозяйства\u003c/td\u003e\n      \u003ctd\u003e14076699.84\u003c/td\u003e\n      \u003ctd\u003e0.0\u003c/td\u003e\n      \u003ctd\u003e45\u003c/td\u003e\n      \u003ctd\u003e72952.17\u003c/td\u003e\n    \u003c/tr\u003e\n    \u003ctr\u003e\n      \u003cth\u003e10738\u003c/th\u003e\n      \u003ctd\u003e5366\u003c/td\u003e\n      \u003ctd\u003eШестаков Илья Васильевич\u003c/td\u003e\n      \u003ctd\u003e2009\u003c/td\u003e\n      \u003ctd\u003e607\u003c/td\u003e\n      \u003ctd\u003eМинистерство сельского хозяйства\u003c/td\u003e\n      \u003ctd\u003e1557833.69\u003c/td\u003e\n      \u003ctd\u003e0.0\u003c/td\u003e\n      \u003ctd\u003e3\u003c/td\u003e\n      \u003ctd\u003e469.20\u003c/td\u003e\n    \u003c/tr\u003e\n    \u003ctr\u003e\n      \u003cth\u003e10739\u003c/th\u003e\n      \u003ctd\u003e5366\u003c/td\u003e\n      \u003ctd\u003eШестаков Илья Васильевич\u003c/td\u003e\n      \u003ctd\u003e2010\u003c/td\u003e\n      \u003ctd\u003e607\u003c/td\u003e\n      \u003ctd\u003eМинистерство сельского хозяйства\u003c/td\u003e\n      \u003ctd\u003e5229713.93\u003c/td\u003e\n      \u003ctd\u003e0.0\u003c/td\u003e\n      \u003ctd\u003e6\u003c/td\u003e\n      \u003ctd\u003e792.60\u003c/td\u003e\n    \u003c/tr\u003e\n    \u003ctr\u003e\n      \u003cth\u003e10740\u003c/th\u003e\n      \u003ctd\u003e5366\u003c/td\u003e\n      \u003ctd\u003eШестаков Илья Васильевич\u003c/td\u003e\n      \u003ctd\u003e2011\u003c/td\u003e\n      \u003ctd\u003e607\u003c/td\u003e\n      \u003ctd\u003eМинистерство сельского хозяйства\u003c/td\u003e\n      \u003ctd\u003e6583861.61\u003c/td\u003e\n      \u003ctd\u003e0.0\u003c/td\u003e\n      \u003ctd\u003e8\u003c/td\u003e\n      \u003ctd\u003e2048.40\u003c/td\u003e\n    \u003c/tr\u003e\n    \u003ctr\u003e\n      \u003cth\u003e10741\u003c/th\u003e\n      \u003ctd\u003e5366\u003c/td\u003e\n      \u003ctd\u003eШестаков Илья Васильевич\u003c/td\u003e\n      \u003ctd\u003e2012\u003c/td\u003e\n      \u003ctd\u003e607\u003c/td\u003e\n      \u003ctd\u003eМинистерство сельского хозяйства\u003c/td\u003e\n      \u003ctd\u003e5107481.91\u003c/td\u003e\n      \u003ctd\u003e0.0\u003c/td\u003e\n      \u003ctd\u003e8\u003c/td\u003e\n      \u003ctd\u003e2048.40\u003c/td\u003e\n    \u003c/tr\u003e\n    \u003ctr\u003e\n      \u003cth\u003e10742\u003c/th\u003e\n      \u003ctd\u003e5366\u003c/td\u003e\n      \u003ctd\u003eШестаков Илья Васильевич\u003c/td\u003e\n      \u003ctd\u003e2013\u003c/td\u003e\n      \u003ctd\u003e607\u003c/td\u003e\n      \u003ctd\u003eМинистерство сельского хозяйства\u003c/td\u003e\n      \u003ctd\u003e4737476.02\u003c/td\u003e\n      \u003ctd\u003e0.0\u003c/td\u003e\n      \u003ctd\u003e8\u003c/td\u003e\n      \u003ctd\u003e2048.40\u003c/td\u003e\n    \u003c/tr\u003e\n    \u003ctr\u003e\n      \u003cth\u003e21685\u003c/th\u003e\n      \u003ctd\u003e5366\u003c/td\u003e\n      \u003ctd\u003eШестаков Илья Васильевич\u003c/td\u003e\n      \u003ctd\u003e2014\u003c/td\u003e\n      \u003ctd\u003e607\u003c/td\u003e\n      \u003ctd\u003eМинистерство сельского хозяйства\u003c/td\u003e\n      \u003ctd\u003e7617466.42\u003c/td\u003e\n      \u003ctd\u003e0.0\u003c/td\u003e\n      \u003ctd\u003e7\u003c/td\u003e\n      \u003ctd\u003e806.40\u003c/td\u003e\n    \u003c/tr\u003e\n    \u003ctr\u003e\n      \u003cth\u003e38107\u003c/th\u003e\n      \u003ctd\u003e5366\u003c/td\u003e\n      \u003ctd\u003eШестаков Илья Васильевич\u003c/td\u003e\n      \u003ctd\u003e2015\u003c/td\u003e\n      \u003ctd\u003e607\u003c/td\u003e\n      \u003ctd\u003eМинистерство сельского хозяйства\u003c/td\u003e\n      \u003ctd\u003e4462894.07\u003c/td\u003e\n      \u003ctd\u003e0.0\u003c/td\u003e\n      \u003ctd\u003e7\u003c/td\u003e\n      \u003ctd\u003e2034.60\u003c/td\u003e\n    \u003c/tr\u003e\n    \u003ctr\u003e\n      \u003cth\u003e69163\u003c/th\u003e\n      \u003ctd\u003e5366\u003c/td\u003e\n      \u003ctd\u003eШестаков Илья Васильевич\u003c/td\u003e\n      \u003ctd\u003e2016\u003c/td\u003e\n      \u003ctd\u003e607\u003c/td\u003e\n      \u003ctd\u003eМинистерство сельского хозяйства\u003c/td\u003e\n      \u003ctd\u003e3914735.59\u003c/td\u003e\n      \u003ctd\u003e0.0\u003c/td\u003e\n      \u003ctd\u003e7\u003c/td\u003e\n      \u003ctd\u003e2034.60\u003c/td\u003e\n    \u003c/tr\u003e\n    \u003ctr\u003e\n      \u003cth\u003e121295\u003c/th\u003e\n      \u003ctd\u003e5366\u003c/td\u003e\n      \u003ctd\u003eШестаков Илья Васильевич\u003c/td\u003e\n      \u003ctd\u003e2017\u003c/td\u003e\n      \u003ctd\u003e607\u003c/td\u003e\n      \u003ctd\u003eМинистерство сельского хозяйства\u003c/td\u003e\n      \u003ctd\u003e4123367.20\u003c/td\u003e\n      \u003ctd\u003e0.0\u003c/td\u003e\n      \u003ctd\u003e7\u003c/td\u003e\n      \u003ctd\u003e2034.60\u003c/td\u003e\n    \u003c/tr\u003e\n    \u003ctr\u003e\n      \u003cth\u003e38110\u003c/th\u003e\n      \u003ctd\u003e5386\u003c/td\u003e\n      \u003ctd\u003eГангало Елена Викторовна\u003c/td\u003e\n      \u003ctd\u003e2015\u003c/td\u003e\n      \u003ctd\u003e607\u003c/td\u003e\n      \u003ctd\u003eМинистерство сельского хозяйства\u003c/td\u003e\n      \u003ctd\u003e2874121.46\u003c/td\u003e\n      \u003ctd\u003e0.0\u003c/td\u003e\n      \u003ctd\u003e1\u003c/td\u003e\n      \u003ctd\u003e36.00\u003c/td\u003e\n    \u003c/tr\u003e\n    \u003ctr\u003e\n      \u003cth\u003e21679\u003c/th\u003e\n      \u003ctd\u003e11673\u003c/td\u003e\n      \u003ctd\u003eМанылов Игорь Евгеньевич\u003c/td\u003e\n      \u003ctd\u003e2013\u003c/td\u003e\n      \u003ctd\u003e607\u003c/td\u003e\n      \u003ctd\u003eМинистерство сельского хозяйства\u003c/td\u003e\n      \u003ctd\u003e5060134.05\u003c/td\u003e\n      \u003ctd\u003e0.0\u003c/td\u003e\n      \u003ctd\u003e16\u003c/td\u003e\n      \u003ctd\u003e3773.90\u003c/td\u003e\n    \u003c/tr\u003e\n    \u003ctr\u003e\n      \u003cth\u003e21680\u003c/th\u003e\n      \u003ctd\u003e11674\u003c/td\u003e\n      \u003ctd\u003eВолков Андрей Валентинович\u003c/td\u003e\n      \u003ctd\u003e2013\u003c/td\u003e\n      \u003ctd\u003e607\u003c/td\u003e\n      \u003ctd\u003eМинистерство сельского хозяйства\u003c/td\u003e\n      \u003ctd\u003e24672738.62\u003c/td\u003e\n      \u003ctd\u003e0.0\u003c/td\u003e\n      \u003ctd\u003e12\u003c/td\u003e\n      \u003ctd\u003e3016.12\u003c/td\u003e\n    \u003c/tr\u003e\n    \u003ctr\u003e\n      \u003cth\u003e21686\u003c/th\u003e\n      \u003ctd\u003e11674\u003c/td\u003e\n      \u003ctd\u003eВолков Андрей Валентинович\u003c/td\u003e\n      \u003ctd\u003e2014\u003c/td\u003e\n      \u003ctd\u003e607\u003c/td\u003e\n      \u003ctd\u003eМинистерство сельского хозяйства\u003c/td\u003e\n      \u003ctd\u003e6957486.66\u003c/td\u003e\n      \u003ctd\u003e0.0\u003c/td\u003e\n      \u003ctd\u003e11\u003c/td\u003e\n      \u003ctd\u003e2409.12\u003c/td\u003e\n    \u003c/tr\u003e\n    \u003ctr\u003e\n      \u003cth\u003e21681\u003c/th\u003e\n      \u003ctd\u003e11675\u003c/td\u003e\n      \u003ctd\u003eЮрьев Дмитрий Владимирович\u003c/td\u003e\n      \u003ctd\u003e2013\u003c/td\u003e\n      \u003ctd\u003e607\u003c/td\u003e\n      \u003ctd\u003eМинистерство сельского хозяйства\u003c/td\u003e\n      \u003ctd\u003e4696397.49\u003c/td\u003e\n      \u003ctd\u003e0.0\u003c/td\u003e\n      \u003ctd\u003e3\u003c/td\u003e\n      \u003ctd\u003e134.70\u003c/td\u003e\n    \u003c/tr\u003e\n    \u003ctr\u003e\n      \u003cth\u003e21687\u003c/th\u003e\n      \u003ctd\u003e11675\u003c/td\u003e\n      \u003ctd\u003eЮрьев Дмитрий Владимирович\u003c/td\u003e\n      \u003ctd\u003e2014\u003c/td\u003e\n      \u003ctd\u003e607\u003c/td\u003e\n      \u003ctd\u003eМинистерство сельского хозяйства\u003c/td\u003e\n      \u003ctd\u003e4272471.25\u003c/td\u003e\n      \u003ctd\u003e0.0\u003c/td\u003e\n      \u003ctd\u003e3\u003c/td\u003e\n      \u003ctd\u003e134.70\u003c/td\u003e\n    \u003c/tr\u003e\n    \u003ctr\u003e\n      \u003cth\u003e21683\u003c/th\u003e\n      \u003ctd\u003e11676\u003c/td\u003e\n      \u003ctd\u003eПетриков Александр Васильевич\u003c/td\u003e\n      \u003ctd\u003e2013\u003c/td\u003e\n      \u003ctd\u003e607\u003c/td\u003e\n      \u003ctd\u003eМинистерство сельского хозяйства\u003c/td\u003e\n      \u003ctd\u003e4895729.03\u003c/td\u003e\n      \u003ctd\u003e0.0\u003c/td\u003e\n      \u003ctd\u003e7\u003c/td\u003e\n      \u003ctd\u003e4457.00\u003c/td\u003e\n    \u003c/tr\u003e\n    \u003ctr\u003e\n      \u003cth\u003e21689\u003c/th\u003e\n      \u003ctd\u003e11676\u003c/td\u003e\n      \u003ctd\u003eПетриков Александр Васильевич\u003c/td\u003e\n      \u003ctd\u003e2014\u003c/td\u003e\n      \u003ctd\u003e607\u003c/td\u003e\n      \u003ctd\u003eМинистерство сельского хозяйства\u003c/td\u003e\n      \u003ctd\u003e5880740.82\u003c/td\u003e\n      \u003ctd\u003e0.0\u003c/td\u003e\n      \u003ctd\u003e7\u003c/td\u003e\n      \u003ctd\u003e4457.00\u003c/td\u003e\n    \u003c/tr\u003e\n    \u003ctr\u003e\n      \u003cth\u003e38109\u003c/th\u003e\n      \u003ctd\u003e11676\u003c/td\u003e\n      \u003ctd\u003eПетриков Александр Васильевич\u003c/td\u003e\n      \u003ctd\u003e2015\u003c/td\u003e\n      \u003ctd\u003e607\u003c/td\u003e\n      \u003ctd\u003eМинистерство сельского хозяйства\u003c/td\u003e\n      \u003ctd\u003e5378045.01\u003c/td\u003e\n      \u003ctd\u003e0.0\u003c/td\u003e\n      \u003ctd\u003e7\u003c/td\u003e\n      \u003ctd\u003e4457.00\u003c/td\u003e\n    \u003c/tr\u003e\n    \u003ctr\u003e\n      \u003cth\u003e121293\u003c/th\u003e\n      \u003ctd\u003e11906\u003c/td\u003e\n      \u003ctd\u003eНепоклонов Евгений Анатольевич\u003c/td\u003e\n      \u003ctd\u003e2017\u003c/td\u003e\n      \u003ctd\u003e607\u003c/td\u003e\n      \u003ctd\u003eМинистерство сельского хозяйства\u003c/td\u003e\n      \u003ctd\u003e5555073.79\u003c/td\u003e\n      \u003ctd\u003e0.0\u003c/td\u003e\n      \u003ctd\u003e6\u003c/td\u003e\n      \u003ctd\u003e536.40\u003c/td\u003e\n    \u003c/tr\u003e\n    \u003ctr\u003e\n      \u003cth\u003e121556\u003c/th\u003e\n      \u003ctd\u003e12290\u003c/td\u003e\n      \u003ctd\u003eГабитов Илдар Исмагилович\u003c/td\u003e\n      \u003ctd\u003e2017\u003c/td\u003e\n      \u003ctd\u003e607\u003c/td\u003e\n      \u003ctd\u003eМинистерство сельского хозяйства\u003c/td\u003e\n      \u003ctd\u003e3106240.12\u003c/td\u003e\n      \u003ctd\u003e0.0\u003c/td\u003e\n      \u003ctd\u003e4\u003c/td\u003e\n      \u003ctd\u003e2630.40\u003c/td\u003e\n    \u003c/tr\u003e\n    \u003ctr\u003e\n      \u003cth\u003e...\u003c/th\u003e\n      \u003ctd\u003e...\u003c/td\u003e\n      \u003ctd\u003e...\u003c/td\u003e\n      \u003ctd\u003e...\u003c/td\u003e\n      \u003ctd\u003e...\u003c/td\u003e\n      \u003ctd\u003e...\u003c/td\u003e\n      \u003ctd\u003e...\u003c/td\u003e\n      \u003ctd\u003e...\u003c/td\u003e\n      \u003ctd\u003e...\u003c/td\u003e\n      \u003ctd\u003e...\u003c/td\u003e\n    \u003c/tr\u003e\n    \u003ctr\u003e\n      \u003cth\u003e121790\u003c/th\u003e\n      \u003ctd\u003e62513\u003c/td\u003e\n      \u003ctd\u003eЗарубин Павел Николаевич\u003c/td\u003e\n      \u003ctd\u003e2017\u003c/td\u003e\n      \u003ctd\u003e607\u003c/td\u003e\n      \u003ctd\u003eМинистерство сельского хозяйства\u003c/td\u003e\n      \u003ctd\u003e1295688.42\u003c/td\u003e\n      \u003ctd\u003e0.0\u003c/td\u003e\n      \u003ctd\u003e4\u003c/td\u003e\n      \u003ctd\u003e202.30\u003c/td\u003e\n    \u003c/tr\u003e\n    \u003ctr\u003e\n      \u003cth\u003e121807\u003c/th\u003e\n      \u003ctd\u003e62514\u003c/td\u003e\n      \u003ctd\u003eДиченский Александр Владимирович\u003c/td\u003e\n      \u003ctd\u003e2017\u003c/td\u003e\n      \u003ctd\u003e607\u003c/td\u003e\n      \u003ctd\u003eМинистерство сельского хозяйства\u003c/td\u003e\n      \u003ctd\u003e2302060.86\u003c/td\u003e\n      \u003ctd\u003e0.0\u003c/td\u003e\n      \u003ctd\u003e3\u003c/td\u003e\n      \u003ctd\u003e139.40\u003c/td\u003e\n    \u003c/tr\u003e\n    \u003ctr\u003e\n      \u003cth\u003e121829\u003c/th\u003e\n      \u003ctd\u003e62515\u003c/td\u003e\n      \u003ctd\u003eКудинов Виталий Алексеевич\u003c/td\u003e\n      \u003ctd\u003e2017\u003c/td\u003e\n      \u003ctd\u003e607\u003c/td\u003e\n      \u003ctd\u003eМинистерство сельского хозяйства\u003c/td\u003e\n      \u003ctd\u003e1538884.04\u003c/td\u003e\n      \u003ctd\u003e0.0\u003c/td\u003e\n      \u003ctd\u003e1\u003c/td\u003e\n      \u003ctd\u003e72.10\u003c/td\u003e\n    \u003c/tr\u003e\n    \u003ctr\u003e\n      \u003cth\u003e121835\u003c/th\u003e\n      \u003ctd\u003e62516\u003c/td\u003e\n      \u003ctd\u003eНосов Алексей Викторович\u003c/td\u003e\n      \u003ctd\u003e2017\u003c/td\u003e\n      \u003ctd\u003e607\u003c/td\u003e\n      \u003ctd\u003eМинистерство сельского хозяйства\u003c/td\u003e\n      \u003ctd\u003e1215937.35\u003c/td\u003e\n      \u003ctd\u003e0.0\u003c/td\u003e\n      \u003ctd\u003e4\u003c/td\u003e\n      \u003ctd\u003e190.20\u003c/td\u003e\n    \u003c/tr\u003e\n    \u003ctr\u003e\n      \u003cth\u003e121857\u003c/th\u003e\n      \u003ctd\u003e62517\u003c/td\u003e\n      \u003ctd\u003eЧичиланова Светлана Анатольевна\u003c/td\u003e\n      \u003ctd\u003e2017\u003c/td\u003e\n      \u003ctd\u003e607\u003c/td\u003e\n      \u003ctd\u003eМинистерство сельского хозяйства\u003c/td\u003e\n      \u003ctd\u003e1411773.21\u003c/td\u003e\n      \u003ctd\u003e0.0\u003c/td\u003e\n      \u003ctd\u003e4\u003c/td\u003e\n      \u003ctd\u003e1741.80\u003c/td\u003e\n    \u003c/tr\u003e\n    \u003ctr\u003e\n      \u003cth\u003e121859\u003c/th\u003e\n      \u003ctd\u003e62518\u003c/td\u003e\n      \u003ctd\u003eШепелёв Сергей Дмитриевич\u003c/td\u003e\n      \u003ctd\u003e2017\u003c/td\u003e\n      \u003ctd\u003e607\u003c/td\u003e\n      \u003ctd\u003eМинистерство сельского хозяйства\u003c/td\u003e\n      \u003ctd\u003e3312865.59\u003c/td\u003e\n      \u003ctd\u003e0.0\u003c/td\u003e\n      \u003ctd\u003e10\u003c/td\u003e\n      \u003ctd\u003e865.50\u003c/td\u003e\n    \u003c/tr\u003e\n    \u003ctr\u003e\n      \u003cth\u003e121861\u003c/th\u003e\n      \u003ctd\u003e62519\u003c/td\u003e\n      \u003ctd\u003eГорожанина Марина Михайловна\u003c/td\u003e\n      \u003ctd\u003e2017\u003c/td\u003e\n      \u003ctd\u003e607\u003c/td\u003e\n      \u003ctd\u003eМинистерство сельского хозяйства\u003c/td\u003e\n      \u003ctd\u003e1506203.22\u003c/td\u003e\n      \u003ctd\u003e0.0\u003c/td\u003e\n      \u003ctd\u003e3\u003c/td\u003e\n      \u003ctd\u003e2822.90\u003c/td\u003e\n    \u003c/tr\u003e\n    \u003ctr\u003e\n      \u003cth\u003e121875\u003c/th\u003e\n      \u003ctd\u003e62520\u003c/td\u003e\n      \u003ctd\u003eБорисов Максим Юрьевич\u003c/td\u003e\n      \u003ctd\u003e2017\u003c/td\u003e\n      \u003ctd\u003e607\u003c/td\u003e\n      \u003ctd\u003eМинистерство сельского хозяйства\u003c/td\u003e\n      \u003ctd\u003e698708.21\u003c/td\u003e\n      \u003ctd\u003e0.0\u003c/td\u003e\n      \u003ctd\u003e1\u003c/td\u003e\n      \u003ctd\u003e18.00\u003c/td\u003e\n    \u003c/tr\u003e\n    \u003ctr\u003e\n      \u003cth\u003e121878\u003c/th\u003e\n      \u003ctd\u003e62521\u003c/td\u003e\n      \u003ctd\u003eЦинамдзгришвили Г В\u003c/td\u003e\n      \u003ctd\u003e2017\u003c/td\u003e\n      \u003ctd\u003e607\u003c/td\u003e\n      \u003ctd\u003eМинистерство сельского хозяйства\u003c/td\u003e\n      \u003ctd\u003e812698.92\u003c/td\u003e\n      \u003ctd\u003e0.0\u003c/td\u003e\n      \u003ctd\u003e2\u003c/td\u003e\n      \u003ctd\u003e662.60\u003c/td\u003e\n    \u003c/tr\u003e\n    \u003ctr\u003e\n      \u003cth\u003e121879\u003c/th\u003e\n      \u003ctd\u003e62522\u003c/td\u003e\n      \u003ctd\u003eНовоселов Юрий Аркадьевич\u003c/td\u003e\n      \u003ctd\u003e2017\u003c/td\u003e\n      \u003ctd\u003e607\u003c/td\u003e\n      \u003ctd\u003eМинистерство сельского хозяйства\u003c/td\u003e\n      \u003ctd\u003e1559526.96\u003c/td\u003e\n      \u003ctd\u003e0.0\u003c/td\u003e\n      \u003ctd\u003e11\u003c/td\u003e\n      \u003ctd\u003e1728.80\u003c/td\u003e\n    \u003c/tr\u003e\n    \u003ctr\u003e\n      \u003cth\u003e121884\u003c/th\u003e\n      \u003ctd\u003e62523\u003c/td\u003e\n      \u003ctd\u003eНикитин А В\u003c/td\u003e\n      \u003ctd\u003e2017\u003c/td\u003e\n      \u003ctd\u003e607\u003c/td\u003e\n      \u003ctd\u003eМинистерство сельского хозяйства\u003c/td\u003e\n      \u003ctd\u003e365723.40\u003c/td\u003e\n      \u003ctd\u003e0.0\u003c/td\u003e\n      \u003ctd\u003e2\u003c/td\u003e\n      \u003ctd\u003e125.60\u003c/td\u003e\n    \u003c/tr\u003e\n    \u003ctr\u003e\n      \u003cth\u003e121935\u003c/th\u003e\n      \u003ctd\u003e62531\u003c/td\u003e\n      \u003ctd\u003eШафиров Валерий Геннадьевич\u003c/td\u003e\n      \u003ctd\u003e2017\u003c/td\u003e\n      \u003ctd\u003e607\u003c/td\u003e\n      \u003ctd\u003eМинистерство сельского хозяйства\u003c/td\u003e\n      \u003ctd\u003e2684742.69\u003c/td\u003e\n      \u003ctd\u003e0.0\u003c/td\u003e\n      \u003ctd\u003e13\u003c/td\u003e\n      \u003ctd\u003e3913.20\u003c/td\u003e\n    \u003c/tr\u003e\n    \u003ctr\u003e\n      \u003cth\u003e121938\u003c/th\u003e\n      \u003ctd\u003e62533\u003c/td\u003e\n      \u003ctd\u003eСердюк Наталья Сергеевна\u003c/td\u003e\n      \u003ctd\u003e2017\u003c/td\u003e\n      \u003ctd\u003e607\u003c/td\u003e\n      \u003ctd\u003eМинистерство сельского хозяйства\u003c/td\u003e\n      \u003ctd\u003e1314074.21\u003c/td\u003e\n      \u003ctd\u003e0.0\u003c/td\u003e\n      \u003ctd\u003e6\u003c/td\u003e\n      \u003ctd\u003e5083.40\u003c/td\u003e\n    \u003c/tr\u003e\n    \u003ctr\u003e\n      \u003cth\u003e121939\u003c/th\u003e\n      \u003ctd\u003e62534\u003c/td\u003e\n      \u003ctd\u003eЛомакин Олег Евгеньевич\u003c/td\u003e\n      \u003ctd\u003e2017\u003c/td\u003e\n      \u003ctd\u003e607\u003c/td\u003e\n      \u003ctd\u003eМинистерство сельского хозяйства\u003c/td\u003e\n      \u003ctd\u003e5339941.00\u003c/td\u003e\n      \u003ctd\u003e0.0\u003c/td\u003e\n      \u003ctd\u003e10\u003c/td\u003e\n      \u003ctd\u003e6432.60\u003c/td\u003e\n    \u003c/tr\u003e\n    \u003ctr\u003e\n      \u003cth\u003e121942\u003c/th\u003e\n      \u003ctd\u003e62535\u003c/td\u003e\n      \u003ctd\u003eТибекин Алексей Васильевич\u003c/td\u003e\n      \u003ctd\u003e2017\u003c/td\u003e\n      \u003ctd\u003e607\u003c/td\u003e\n      \u003ctd\u003eМинистерство сельского хозяйства\u003c/td\u003e\n      \u003ctd\u003e1536696.97\u003c/td\u003e\n      \u003ctd\u003e0.0\u003c/td\u003e\n      \u003ctd\u003e7\u003c/td\u003e\n      \u003ctd\u003e1508.00\u003c/td\u003e\n    \u003c/tr\u003e\n    \u003ctr\u003e\n      \u003cth\u003e121950\u003c/th\u003e\n      \u003ctd\u003e62536\u003c/td\u003e\n      \u003ctd\u003eЗулина Татьяна Витальевна\u003c/td\u003e\n      \u003ctd\u003e2017\u003c/td\u003e\n      \u003ctd\u003e607\u003c/td\u003e\n      \u003ctd\u003eМинистерство сельского хозяйства\u003c/td\u003e\n      \u003ctd\u003e514010.00\u003c/td\u003e\n      \u003ctd\u003e0.0\u003c/td\u003e\n      \u003ctd\u003e3\u003c/td\u003e\n      \u003ctd\u003e241.20\u003c/td\u003e\n    \u003c/tr\u003e\n    \u003ctr\u003e\n      \u003cth\u003e121954\u003c/th\u003e\n      \u003ctd\u003e62537\u003c/td\u003e\n      \u003ctd\u003eИванюшин Евгений Анатольевич\u003c/td\u003e\n      \u003ctd\u003e2017\u003c/td\u003e\n      \u003ctd\u003e607\u003c/td\u003e\n      \u003ctd\u003eМинистерство сельского хозяйства\u003c/td\u003e\n      \u003ctd\u003e1717212.48\u003c/td\u003e\n      \u003ctd\u003e0.0\u003c/td\u003e\n      \u003ctd\u003e6\u003c/td\u003e\n      \u003ctd\u003e1290.20\u003c/td\u003e\n    \u003c/tr\u003e\n    \u003ctr\u003e\n      \u003cth\u003e121974\u003c/th\u003e\n      \u003ctd\u003e62541\u003c/td\u003e\n      \u003ctd\u003eАбдразаков Раис Ильясович\u003c/td\u003e\n      \u003ctd\u003e2017\u003c/td\u003e\n      \u003ctd\u003e607\u003c/td\u003e\n      \u003ctd\u003eМинистерство сельского хозяйства\u003c/td\u003e\n      \u003ctd\u003e3931704.41\u003c/td\u003e\n      \u003ctd\u003e0.0\u003c/td\u003e\n      \u003ctd\u003e9\u003c/td\u003e\n      \u003ctd\u003e1224.20\u003c/td\u003e\n    \u003c/tr\u003e\n    \u003ctr\u003e\n      \u003cth\u003e121989\u003c/th\u003e\n      \u003ctd\u003e62542\u003c/td\u003e\n      \u003ctd\u003eБочарников Виктор Сергеевич\u003c/td\u003e\n      \u003ctd\u003e2017\u003c/td\u003e\n      \u003ctd\u003e607\u003c/td\u003e\n      \u003ctd\u003eМинистерство сельского хозяйства\u003c/td\u003e\n      \u003ctd\u003e2860718.68\u003c/td\u003e\n      \u003ctd\u003e0.0\u003c/td\u003e\n      \u003ctd\u003e4\u003c/td\u003e\n      \u003ctd\u003e217.60\u003c/td\u003e\n    \u003c/tr\u003e\n    \u003ctr\u003e\n      \u003cth\u003e121990\u003c/th\u003e\n      \u003ctd\u003e62543\u003c/td\u003e\n      \u003ctd\u003eГранкин Сергей Владимирович\u003c/td\u003e\n      \u003ctd\u003e2017\u003c/td\u003e\n      \u003ctd\u003e607\u003c/td\u003e\n      \u003ctd\u003eМинистерство сельского хозяйства\u003c/td\u003e\n      \u003ctd\u003e1589155.87\u003c/td\u003e\n      \u003ctd\u003e0.0\u003c/td\u003e\n      \u003ctd\u003e5\u003c/td\u003e\n      \u003ctd\u003e287.90\u003c/td\u003e\n    \u003c/tr\u003e\n    \u003ctr\u003e\n      \u003cth\u003e121991\u003c/th\u003e\n      \u003ctd\u003e62544\u003c/td\u003e\n      \u003ctd\u003eКузнецова Татьяна Валерьевна\u003c/td\u003e\n      \u003ctd\u003e2017\u003c/td\u003e\n      \u003ctd\u003e607\u003c/td\u003e\n      \u003ctd\u003eМинистерство сельского хозяйства\u003c/td\u003e\n      \u003ctd\u003e1520624.11\u003c/td\u003e\n      \u003ctd\u003e0.0\u003c/td\u003e\n      \u003ctd\u003e3\u003c/td\u003e\n      \u003ctd\u003e100.50\u003c/td\u003e\n    \u003c/tr\u003e\n    \u003ctr\u003e\n      \u003cth\u003e121993\u003c/th\u003e\n      \u003ctd\u003e62545\u003c/td\u003e\n      \u003ctd\u003eВоробьева Татьяна Николаевна\u003c/td\u003e\n      \u003ctd\u003e2017\u003c/td\u003e\n      \u003ctd\u003e607\u003c/td\u003e\n      \u003ctd\u003eМинистерство сельского хозяйства\u003c/td\u003e\n      \u003ctd\u003e1920890.59\u003c/td\u003e\n      \u003ctd\u003e0.0\u003c/td\u003e\n      \u003ctd\u003e6\u003c/td\u003e\n      \u003ctd\u003e1939.60\u003c/td\u003e\n    \u003c/tr\u003e\n    \u003ctr\u003e\n      \u003cth\u003e121997\u003c/th\u003e\n      \u003ctd\u003e62546\u003c/td\u003e\n      \u003ctd\u003eТамазаев Тамаз Исрапилович\u003c/td\u003e\n      \u003ctd\u003e2017\u003c/td\u003e\n      \u003ctd\u003e607\u003c/td\u003e\n      \u003ctd\u003eМинистерство сельского хозяйства\u003c/td\u003e\n      \u003ctd\u003e675256.33\u003c/td\u003e\n      \u003ctd\u003e0.0\u003c/td\u003e\n      \u003ctd\u003e6\u003c/td\u003e\n      \u003ctd\u003e516.00\u003c/td\u003e\n    \u003c/tr\u003e\n    \u003ctr\u003e\n      \u003cth\u003e122003\u003c/th\u003e\n      \u003ctd\u003e62547\u003c/td\u003e\n      \u003ctd\u003eНосырев Михаил Борисович\u003c/td\u003e\n      \u003ctd\u003e2017\u003c/td\u003e\n      \u003ctd\u003e607\u003c/td\u003e\n      \u003ctd\u003eМинистерство сельского хозяйства\u003c/td\u003e\n      \u003ctd\u003e3122280.65\u003c/td\u003e\n      \u003ctd\u003e0.0\u003c/td\u003e\n      \u003ctd\u003e9\u003c/td\u003e\n      \u003ctd\u003e8250.50\u003c/td\u003e\n    \u003c/tr\u003e\n    \u003ctr\u003e\n      \u003cth\u003e122011\u003c/th\u003e\n      \u003ctd\u003e62548\u003c/td\u003e\n      \u003ctd\u003eАнтонова Татьяна Викторовна\u003c/td\u003e\n      \u003ctd\u003e2017\u003c/td\u003e\n      \u003ctd\u003e607\u003c/td\u003e\n      \u003ctd\u003eМинистерство сельского хозяйства\u003c/td\u003e\n      \u003ctd\u003e690775.74\u003c/td\u003e\n      \u003ctd\u003e0.0\u003c/td\u003e\n      \u003ctd\u003e2\u003c/td\u003e\n      \u003ctd\u003e118.60\u003c/td\u003e\n    \u003c/tr\u003e\n    \u003ctr\u003e\n      \u003cth\u003e122018\u003c/th\u003e\n      \u003ctd\u003e62549\u003c/td\u003e\n      \u003ctd\u003eПодъяблонский Павел Александрович\u003c/td\u003e\n      \u003ctd\u003e2017\u003c/td\u003e\n      \u003ctd\u003e607\u003c/td\u003e\n      \u003ctd\u003eМинистерство сельского хозяйства\u003c/td\u003e\n      \u003ctd\u003e4458268.34\u003c/td\u003e\n      \u003ctd\u003e0.0\u003c/td\u003e\n      \u003ctd\u003e11\u003c/td\u003e\n      \u003ctd\u003e4440.90\u003c/td\u003e\n    \u003c/tr\u003e\n    \u003ctr\u003e\n      \u003cth\u003e122020\u003c/th\u003e\n      \u003ctd\u003e62550\u003c/td\u003e\n      \u003ctd\u003eМайоров Олег Александрович\u003c/td\u003e\n      \u003ctd\u003e2017\u003c/td\u003e\n      \u003ctd\u003e607\u003c/td\u003e\n      \u003ctd\u003eМинистерство сельского хозяйства\u003c/td\u003e\n      \u003ctd\u003e3177110.62\u003c/td\u003e\n      \u003ctd\u003e0.0\u003c/td\u003e\n      \u003ctd\u003e7\u003c/td\u003e\n      \u003ctd\u003e671.40\u003c/td\u003e\n    \u003c/tr\u003e\n    \u003ctr\u003e\n      \u003cth\u003e122022\u003c/th\u003e\n      \u003ctd\u003e62551\u003c/td\u003e\n      \u003ctd\u003eСурина Наталья Николаевна\u003c/td\u003e\n      \u003ctd\u003e2017\u003c/td\u003e\n      \u003ctd\u003e607\u003c/td\u003e\n      \u003ctd\u003eМинистерство сельского хозяйства\u003c/td\u003e\n      \u003ctd\u003e3472826.75\u003c/td\u003e\n      \u003ctd\u003e0.0\u003c/td\u003e\n      \u003ctd\u003e2\u003c/td\u003e\n      \u003ctd\u003e84.00\u003c/td\u003e\n    \u003c/tr\u003e\n    \u003ctr\u003e\n      \u003cth\u003e122024\u003c/th\u003e\n      \u003ctd\u003e62553\u003c/td\u003e\n      \u003ctd\u003eЯхин Руслан Радикович\u003c/td\u003e\n      \u003ctd\u003e2017\u003c/td\u003e\n      \u003ctd\u003e607\u003c/td\u003e\n      \u003ctd\u003eМинистерство сельского хозяйства\u003c/td\u003e\n      \u003ctd\u003e3950080.51\u003c/td\u003e\n      \u003ctd\u003e0.0\u003c/td\u003e\n      \u003ctd\u003e10\u003c/td\u003e\n      \u003ctd\u003e379.80\u003c/td\u003e\n    \u003c/tr\u003e\n    \u003ctr\u003e\n      \u003cth\u003e95534\u003c/th\u003e\n      \u003ctd\u003e66535\u003c/td\u003e\n      \u003ctd\u003eМажидов Арслан Арсенович\u003c/td\u003e\n      \u003ctd\u003e2014\u003c/td\u003e\n      \u003ctd\u003e607\u003c/td\u003e\n      \u003ctd\u003eМинистерство сельского хозяйства\u003c/td\u003e\n      \u003ctd\u003e812669.00\u003c/td\u003e\n      \u003ctd\u003e0.0\u003c/td\u003e\n      \u003ctd\u003e5\u003c/td\u003e\n      \u003ctd\u003e383.00\u003c/td\u003e\n    \u003c/tr\u003e\n  \u003c/tbody\u003e\n\u003c/table\u003e\n\u003cp\u003e3198 rows × 9 columns\u003c/p\u003e\n\u003c/div\u003e"
          },
          "metadata": {},
          "output_type": "execute_result",
          "execution_count": 9
        }
      ],
      "source": "df[df.office_id \u003d\u003d 607]",
      "metadata": {
        "pycharm": {
          "metadata": false,
          "name": "#%%\n",
          "is_executing": false
        }
      }
    },
    {
      "cell_type": "code",
      "execution_count": 13,
      "outputs": [],
      "source": "df.to_csv(\u0027data/declarations.csv\u0027, index\u003dFalse)",
      "metadata": {
        "pycharm": {
          "metadata": false,
          "name": "#%%\n",
          "is_executing": false
        }
      }
    },
    {
      "cell_type": "code",
      "execution_count": 10,
      "outputs": [],
      "source": "grouped_view \u003d df.groupby([\u0027person_id\u0027, \u0027person_name\u0027, \u0027year\u0027]).first()",
      "metadata": {
        "pycharm": {
          "metadata": false,
          "name": "#%%\n",
          "is_executing": false
        }
      }
    },
    {
      "cell_type": "code",
      "execution_count": 11,
      "outputs": [
        {
          "data": {
            "text/plain": "   year  office_id                                          person_id\n0  1998         14  [8, 68, 89, 132, 140, 144, 147, 150, 152, 177,...\n1  1999        449  [8, 89, 177, 580, 582, 960, 9214, 19333, 19337...\n2  2006         14  [8, 9, 10, 11, 12, 13, 14, 15, 16, 17, 18, 19,...\n3  2006        449                                  [8, 89, 542, 584]\n4  2008         12                                             [1383]",
            "text/html": "\u003cdiv\u003e\n\u003cstyle scoped\u003e\n    .dataframe tbody tr th:only-of-type {\n        vertical-align: middle;\n    }\n\n    .dataframe tbody tr th {\n        vertical-align: top;\n    }\n\n    .dataframe thead th {\n        text-align: right;\n    }\n\u003c/style\u003e\n\u003ctable border\u003d\"1\" class\u003d\"dataframe\"\u003e\n  \u003cthead\u003e\n    \u003ctr style\u003d\"text-align: right;\"\u003e\n      \u003cth\u003e\u003c/th\u003e\n      \u003cth\u003eyear\u003c/th\u003e\n      \u003cth\u003eoffice_id\u003c/th\u003e\n      \u003cth\u003eperson_id\u003c/th\u003e\n    \u003c/tr\u003e\n  \u003c/thead\u003e\n  \u003ctbody\u003e\n    \u003ctr\u003e\n      \u003cth\u003e0\u003c/th\u003e\n      \u003ctd\u003e1998\u003c/td\u003e\n      \u003ctd\u003e14\u003c/td\u003e\n      \u003ctd\u003e[8, 68, 89, 132, 140, 144, 147, 150, 152, 177,...\u003c/td\u003e\n    \u003c/tr\u003e\n    \u003ctr\u003e\n      \u003cth\u003e1\u003c/th\u003e\n      \u003ctd\u003e1999\u003c/td\u003e\n      \u003ctd\u003e449\u003c/td\u003e\n      \u003ctd\u003e[8, 89, 177, 580, 582, 960, 9214, 19333, 19337...\u003c/td\u003e\n    \u003c/tr\u003e\n    \u003ctr\u003e\n      \u003cth\u003e2\u003c/th\u003e\n      \u003ctd\u003e2006\u003c/td\u003e\n      \u003ctd\u003e14\u003c/td\u003e\n      \u003ctd\u003e[8, 9, 10, 11, 12, 13, 14, 15, 16, 17, 18, 19,...\u003c/td\u003e\n    \u003c/tr\u003e\n    \u003ctr\u003e\n      \u003cth\u003e3\u003c/th\u003e\n      \u003ctd\u003e2006\u003c/td\u003e\n      \u003ctd\u003e449\u003c/td\u003e\n      \u003ctd\u003e[8, 89, 542, 584]\u003c/td\u003e\n    \u003c/tr\u003e\n    \u003ctr\u003e\n      \u003cth\u003e4\u003c/th\u003e\n      \u003ctd\u003e2008\u003c/td\u003e\n      \u003ctd\u003e12\u003c/td\u003e\n      \u003ctd\u003e[1383]\u003c/td\u003e\n    \u003c/tr\u003e\n  \u003c/tbody\u003e\n\u003c/table\u003e\n\u003c/div\u003e"
          },
          "metadata": {},
          "output_type": "execute_result",
          "execution_count": 11
        }
      ],
      "source": "common_offices \u003d df.groupby([\u0027year\u0027, \u0027office_id\u0027])[\u0027person_id\u0027].apply(list).reset_index()\ncommon_offices.head()",
      "metadata": {
        "pycharm": {
          "metadata": false,
          "name": "#%%\n",
          "is_executing": false
        }
      }
    },
    {
      "cell_type": "code",
      "execution_count": 54,
      "outputs": [],
      "source": "common_offices.to_csv(\u0027data/common_offices.csv\u0027, index\u003dFalse)\n",
      "metadata": {
        "pycharm": {
          "metadata": false,
          "name": "#%%\n",
          "is_executing": false
        }
      }
    },
    {
      "cell_type": "code",
      "execution_count": 12,
      "outputs": [],
      "source": "worked_at \u003d {\n    # person_id: { year: office_id }\n}\nfor dec in declarations:\n    if not worked_at.get(dec[\u0027main\u0027][\u0027person\u0027][\u0027id\u0027]):\n        worked_at[dec[\u0027main\u0027][\u0027person\u0027][\u0027id\u0027]] \u003d {}\n    worked_at[dec[\u0027main\u0027][\u0027person\u0027][\u0027id\u0027]][dec[\u0027main\u0027][\u0027year\u0027]] \u003d dec[\u0027main\u0027][\u0027office\u0027][\u0027id\u0027]",
      "metadata": {
        "pycharm": {
          "metadata": false,
          "name": "#%%\n",
          "is_executing": false
        }
      }
    },
    {
      "cell_type": "code",
      "execution_count": 13,
      "outputs": [
        {
          "data": {
            "text/plain": "132016"
          },
          "metadata": {},
          "output_type": "execute_result",
          "execution_count": 13
        }
      ],
      "source": "len(worked_at)",
      "metadata": {
        "pycharm": {
          "metadata": false,
          "name": "#%%\n",
          "is_executing": false
        }
      }
    },
    {
      "cell_type": "code",
      "execution_count": 14,
      "outputs": [],
      "source": "def to_arr(adict):\n    columns \u003d [1998,1999,2006,2008,2009,2010,2011,2012,2013,2014,2015,2016,2017,2018]\n    arr \u003d np.array([adict.get(c, np.NaN) for c in columns])\n    return arr\n\nworked_at \u003d {\n    k: to_arr(v) for k, v in worked_at.items()   \n}",
      "metadata": {
        "pycharm": {
          "metadata": false,
          "name": "#%%\n",
          "is_executing": false
        }
      }
    },
    {
      "cell_type": "code",
      "execution_count": 19,
      "outputs": [],
      "source": "TARGET_OFFICE \u003d 14\nTARGET_YEAR \u003d 2018\ntarget_persons \u003d df[(df.year \u003d\u003d TARGET_YEAR) \u0026 (df.office_id \u003d\u003d TARGET_OFFICE)].person_id.unique()\npairs \u003d itertools.combinations(target_persons, 2)\nwith open(f\u0027worked_together_{TARGET_OFFICE}_{TARGET_YEAR}.csv\u0027, \u0027w\u0027) as f:\n    for pair in pairs:\n        guy1, guy2 \u003d pair\n        count_worked_together \u003d (worked_at[guy1] \u003d\u003d worked_at[guy2]).sum()\n        #for year in worked_at[guy1].keys():\n        #    if (worked_at[guy1].get(year) and worked_at[guy2].get(year) and\n        #        worked_at[guy1].get(year) \u003d\u003d worked_at[guy2].get(year)):\n        #        count_worked_together +\u003d 1\n        if count_worked_together:\n            f.write(f\u0027{guy1};{guy2};{count_worked_together}\\n\u0027)",
      "metadata": {
        "pycharm": {
          "metadata": false,
          "name": "#%%\n",
          "is_executing": false
        }
      }
    },
    {
      "cell_type": "code",
      "execution_count": null,
      "outputs": [
        {
          "name": "stdout",
          "text": [
            "0.00011674060238150829\n1998 done\n0.00023348120476301658\n1999 done\n0.0003502218071445249\n2006 done\n0.00046696240952603317\n2008 done\n0.0005837030119075414\n2009 done\n",
            "0.0007004436142890498\n2010 done\n",
            "0.000817184216670558\n2011 done\n",
            "0.0009339248190520663\n2012 done\n",
            "0.0010506654214335746\n2013 done\n"
          ],
          "output_type": "stream"
        }
      ],
      "source": "worked_together \u003d {}\ni \u003d 0\nwith open(f\u0027worked_together.csv\u0027, \u0027w\u0027) as f:\n    for year in common_offices.year.unique():\n        for _, office, persons in common_offices[common_offices.year \u003d\u003d year].values:\n            for pair in itertools.combinations(persons, 2):\n                worked_together.setdefault(pair, 0)\n                worked_together[pair] +\u003d1\n        \n        for k,v in worked_together.items():\n            f.write(f\u0027{year};{k[0]};{k[1]};{v}\\n\u0027)\n        worked_together \u003d {}\n        i +\u003d 1\n        print(i / len(common_offices))\n        print(year, \u0027done\u0027)",
      "metadata": {
        "pycharm": {
          "metadata": false,
          "name": "#%%\n",
          "is_executing": true
        }
      }
    },
    {
      "cell_type": "code",
      "execution_count": null,
      "outputs": [
        {
          "name": "stdout",
          "text": [
            "1998 done\n1999 done\n",
            "2006 done\n2008 done\n",
            "2009 done\n",
            "2010 done\n",
            "2011 done\n",
            "2012 done\n",
            "2013 done\n"
          ],
          "output_type": "stream"
        }
      ],
      "source": "for year in common_offices.year.unique():\n    with open(f\u0027worked_together_{year}.csv\u0027, \u0027w\u0027) as f:\n        target_persons \u003d df[(df.year \u003d\u003d year)].person_id.unique()\n        pairs \u003d itertools.combinations(target_persons, 2)\n        for pair in pairs:\n            guy1, guy2 \u003d pair\n            count_worked_together \u003d (worked_at[guy1] \u003d\u003d worked_at[guy2]).sum()\n            if count_worked_together:\n                f.write(f\u0027{year};{guy1};{guy2};{count_worked_together}\\n\u0027)\n    print(year, \u0027done\u0027)",
      "metadata": {
        "pycharm": {
          "metadata": false,
          "name": "#%%\n",
          "is_executing": true
        }
      }
    },
    {
      "cell_type": "code",
      "execution_count": null,
      "outputs": [],
      "source": "\n",
      "metadata": {
        "pycharm": {
          "metadata": false,
          "name": "#%%\n"
        }
      }
    }
  ],
  "metadata": {
    "language_info": {
      "codemirror_mode": {
        "name": "ipython",
        "version": 2
      },
      "file_extension": ".py",
      "mimetype": "text/x-python",
      "name": "python",
      "nbconvert_exporter": "python",
      "pygments_lexer": "ipython2",
      "version": "2.7.6"
    },
    "kernelspec": {
      "name": "python3",
      "language": "python",
      "display_name": "Python 3"
    }
  },
  "nbformat": 4,
  "nbformat_minor": 0
}